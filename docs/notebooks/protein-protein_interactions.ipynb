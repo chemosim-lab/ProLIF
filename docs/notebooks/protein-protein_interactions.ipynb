{
 "cells": [
  {
   "cell_type": "markdown",
   "metadata": {},
   "source": [
    "# Protein-protein interactions\n",
    "\n",
    "This notebooks shows how to compute a fingerprint for protein-protein interactions.\n",
    "\n",
    "Here we will investigate the interactions in a G-protein coupled receptor (GPCR) between a particular helix (called TM3) and the rest of the protein.\n",
    "\n",
    "This can obviously be applied to proteins that don't belong to the same chain/segment, as long as you can figure out an appropriate [MDAnalysis selection](https://docs.mdanalysis.org/stable/documentation_pages/selections.html)\n",
    "\n",
    "There is also an example at the end of this tutorial for generating an IFP of PPI without considering the backbone."
   ]
  },
  {
   "cell_type": "code",
   "execution_count": null,
   "metadata": {
    "ExecuteTime": {
     "end_time": "2020-03-12T18:24:55.324128Z",
     "start_time": "2020-03-12T18:24:54.314383Z"
    },
    "tags": []
   },
   "outputs": [],
   "source": [
    "import MDAnalysis as mda\n",
    "import prolif as plf"
   ]
  },
  {
   "cell_type": "code",
   "execution_count": null,
   "metadata": {},
   "outputs": [],
   "source": [
    "# load traj\n",
    "u = mda.Universe(plf.datafiles.TOP, plf.datafiles.TRAJ)\n",
    "tm3 = u.select_atoms(\"resid 119:152\")\n",
    "prot = u.select_atoms(\"protein and not group tm3\", tm3=tm3)\n",
    "tm3, prot"
   ]
  },
  {
   "cell_type": "code",
   "execution_count": null,
   "metadata": {
    "scrolled": true,
    "tags": []
   },
   "outputs": [],
   "source": [
    "# prot-prot interactions\n",
    "fp = plf.Fingerprint([\"HBDonor\", \"HBAcceptor\", \"PiStacking\", \"PiCation\", \"CationPi\", \"Anionic\", \"Cationic\"])\n",
    "fp.run(u.trajectory[::10], tm3, prot)"
   ]
  },
  {
   "cell_type": "code",
   "execution_count": null,
   "metadata": {},
   "outputs": [],
   "source": [
    "df = fp.to_dataframe()\n",
    "df.head()"
   ]
  },
  {
   "cell_type": "code",
   "execution_count": null,
   "metadata": {},
   "outputs": [],
   "source": [
    "# show interactions for a specific ligand residue\n",
    "df.xs(\"ARG147.A\", level=\"ligand\", axis=1).head(5)"
   ]
  },
  {
   "cell_type": "code",
   "execution_count": null,
   "metadata": {},
   "outputs": [],
   "source": [
    "# same for a protein residue\n",
    "df.xs(\"GLU309.B\", level=\"protein\", axis=1).head(5)"
   ]
  },
  {
   "cell_type": "code",
   "execution_count": null,
   "metadata": {},
   "outputs": [],
   "source": [
    "# display a specific type of interaction\n",
    "df.xs(\"Cationic\", level=\"interaction\", axis=1).head(5)"
   ]
  },
  {
   "cell_type": "code",
   "execution_count": null,
   "metadata": {},
   "outputs": [],
   "source": [
    "# calculate the occurence of each interaction on the trajectory\n",
    "occ = df.mean()\n",
    "# restrict to the frequent ones\n",
    "occ.loc[occ > 0.3]"
   ]
  },
  {
   "cell_type": "code",
   "execution_count": null,
   "metadata": {},
   "outputs": [],
   "source": [
    "# regroup all interactions together and do the same\n",
    "g = (df.groupby(level=[\"ligand\", \"protein\"], axis=1)\n",
    "       .sum()\n",
    "       .astype(bool)\n",
    "       .mean())\n",
    "g.loc[g > 0.3]"
   ]
  },
  {
   "cell_type": "markdown",
   "metadata": {},
   "source": [
    "## Ignoring backbone interactions\n",
    "\n",
    "In some cases, you might want to dismiss backbone interactions. While it might be tempting to just modify the MDAnalysis selection with `\"protein and not backbone\"`, this won't work as expected and will lead to adding a charges where the backbone was bonding with the sidechain.  \n",
    "However there is a temporary workaround (which will be directly included in the code in the near future):"
   ]
  },
  {
   "cell_type": "code",
   "execution_count": null,
   "metadata": {},
   "outputs": [],
   "source": [
    "from rdkit import Chem\n",
    "from rdkit.Chem import AllChem\n",
    "from tqdm.auto import tqdm\n",
    "\n",
    "# remove backbone\n",
    "backbone = Chem.MolFromSmarts(\"[C^2](=O)-[C;X4](-[H])-[N;+0]\")\n",
    "fix_h = Chem.MolFromSmarts(\"[H&D0]\")\n",
    "\n",
    "def remove_backbone(atomgroup):\n",
    "    mol = plf.Molecule.from_mda(atomgroup)\n",
    "    mol = AllChem.DeleteSubstructs(mol, backbone)\n",
    "    mol = AllChem.DeleteSubstructs(mol, fix_h)\n",
    "    return plf.Molecule(mol)\n",
    "\n",
    "# generate IFP\n",
    "ifp = []\n",
    "for ts in tqdm(u.trajectory[::10]):\n",
    "    tm3_mol = remove_backbone(tm3)\n",
    "    prot_mol = remove_backbone(prot)\n",
    "    data = fp.generate(tm3_mol, prot_mol)\n",
    "    data[\"Frame\"] = ts.frame\n",
    "    ifp.append(data)\n",
    "df = plf.to_dataframe(ifp, fp.interactions.keys())\n",
    "df.head()"
   ]
  }
 ],
 "metadata": {
  "hide_input": false,
  "interpreter": {
   "hash": "8787e9fc73b27535744a25d17e74686c0add9df598b8e27ca04412fce7f0c7ae"
  },
  "kernelspec": {
   "display_name": "Python 3.8.5 ('prolif')",
   "language": "python",
   "name": "python3"
  },
  "language_info": {
   "codemirror_mode": {
    "name": "ipython",
    "version": 3
   },
   "file_extension": ".py",
   "mimetype": "text/x-python",
   "name": "python",
   "nbconvert_exporter": "python",
   "pygments_lexer": "ipython3",
   "version": "3.8.5"
  },
  "toc": {
   "base_numbering": 1,
   "nav_menu": {},
   "number_sections": true,
   "sideBar": true,
   "skip_h1_title": false,
   "title_cell": "Table of Contents",
   "title_sidebar": "Contents",
   "toc_cell": false,
   "toc_position": {
    "height": "calc(100% - 180px)",
    "left": "10px",
    "top": "150px",
    "width": "275px"
   },
   "toc_section_display": true,
   "toc_window_display": true
  }
 },
 "nbformat": 4,
 "nbformat_minor": 2
}
