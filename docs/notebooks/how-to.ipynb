{
 "cells": [
  {
   "cell_type": "markdown",
   "metadata": {},
   "source": [
    "# How-to\n",
    "\n",
    "This notebook serves as a practical guide to common questions users might have."
   ]
  },
  {
   "cell_type": "code",
   "execution_count": null,
   "metadata": {},
   "outputs": [],
   "source": [
    "import MDAnalysis as mda\n",
    "import prolif as plf\n",
    "import numpy as np"
   ]
  },
  {
   "cell_type": "code",
   "execution_count": null,
   "metadata": {},
   "outputs": [],
   "source": [
    "u = mda.Universe(plf.datafiles.TOP, plf.datafiles.TRAJ)\n",
    "lig = u.select_atoms(\"resname LIG\")\n",
    "prot = u.select_atoms(\"protein\")\n",
    "lmol = plf.Molecule.from_mda(lig)\n",
    "pmol = plf.Molecule.from_mda(prot)"
   ]
  },
  {
   "cell_type": "markdown",
   "metadata": {},
   "source": [
    "## 1. Changing the parameters for an interaction"
   ]
  },
  {
   "source": [
    "You can list all the available interactions as follow:"
   ],
   "cell_type": "markdown",
   "metadata": {}
  },
  {
   "cell_type": "code",
   "execution_count": null,
   "metadata": {},
   "outputs": [],
   "source": [
    "plf.Fingerprint.list_available(show_hidden=True)"
   ]
  },
  {
   "cell_type": "markdown",
   "metadata": {},
   "source": [
    "In this example, we'll redefine the hydrophobic interaction with a shorter distance.\n",
    "\n",
    "You have the choice between overwriting the original hydrophobic interaction with the new one, or giving it an original name.\n",
    "\n",
    "Let's start with a test case: with the default parameters, Y109 is interacting with our ligand."
   ]
  },
  {
   "cell_type": "code",
   "execution_count": null,
   "metadata": {},
   "outputs": [],
   "source": [
    "fp = plf.Fingerprint()\n",
    "fp.hydrophobic(lmol, pmol[\"TYR109.A\"])"
   ]
  },
  {
   "cell_type": "markdown",
   "metadata": {},
   "source": [
    "### 1.a Overwriting the original interaction"
   ]
  },
  {
   "cell_type": "markdown",
   "metadata": {},
   "source": [
    "You have to define a class that inherits one of the classes listed in the `prolif.interactions` module."
   ]
  },
  {
   "cell_type": "code",
   "execution_count": null,
   "metadata": {},
   "outputs": [],
   "source": [
    "class Hydrophobic(plf.interactions.Hydrophobic):\n",
    "    def __init__(self):\n",
    "        super().__init__(distance=4.0)"
   ]
  },
  {
   "cell_type": "code",
   "execution_count": null,
   "metadata": {},
   "outputs": [],
   "source": [
    "fp = plf.Fingerprint()\n",
    "fp.hydrophobic(lmol, pmol[\"TYR109.A\"])"
   ]
  },
  {
   "cell_type": "markdown",
   "metadata": {},
   "source": [
    "The interaction is not detected anymore. You can reset to the default interaction like so:"
   ]
  },
  {
   "cell_type": "code",
   "execution_count": null,
   "metadata": {},
   "outputs": [],
   "source": [
    "class Hydrophobic(plf.interactions.Hydrophobic):\n",
    "    pass\n",
    "\n",
    "fp = plf.Fingerprint()\n",
    "fp.hydrophobic(lmol, pmol[\"TYR109.A\"])"
   ]
  },
  {
   "cell_type": "markdown",
   "metadata": {},
   "source": [
    "### 1.b Reparameterizing an interaction with another name"
   ]
  },
  {
   "cell_type": "markdown",
   "metadata": {},
   "source": [
    "The steps are identical to above, just give the class a different name:"
   ]
  },
  {
   "cell_type": "code",
   "execution_count": null,
   "metadata": {},
   "outputs": [],
   "source": [
    "class CustomHydrophobic(plf.interactions.Hydrophobic):\n",
    "    def __init__(self):\n",
    "        super().__init__(distance=4.0)\n",
    "        \n",
    "fp = plf.Fingerprint()\n",
    "fp.hydrophobic(lmol, pmol[\"TYR109.A\"])"
   ]
  },
  {
   "cell_type": "code",
   "execution_count": null,
   "metadata": {},
   "outputs": [],
   "source": [
    "fp.customhydrophobic(lmol, pmol[\"TYR109.A\"])"
   ]
  },
  {
   "cell_type": "code",
   "execution_count": null,
   "metadata": {},
   "outputs": [],
   "source": [
    "fp = plf.Fingerprint([\"Hydrophobic\", \"CustomHydrophobic\"])\n",
    "fp.bitvector(lmol, pmol[\"TYR109.A\"])"
   ]
  },
  {
   "cell_type": "markdown",
   "metadata": {},
   "source": [
    "## 2. Writing your own interaction"
   ]
  },
  {
   "cell_type": "markdown",
   "metadata": {},
   "source": [
    "Before you dive into this section, make sure that there isn't already an interaction that could just be **reparameterized** to do what you want!\n",
    "\n",
    "For this, the best is to check the section of the documentation corresponding to the `prolif.interactions` module. There are some generic interactions, like the `_Distance` class, if you just need to define two chemical moieties within a certain distance. Both the Hydrophobic, Ionic, and Metallic interactions inherit from this class!"
   ]
  },
  {
   "cell_type": "markdown",
   "metadata": {},
   "source": [
    "With that being said, there are a few rules that you must respect when writing your own interaction:\n",
    "\n",
    "* **Inherit the ProLIF Interaction class**\n",
    "  \n",
    "This class is located in `prolif.interactions.Interaction`. If for any reason you must inherit from another class, you can also define the `prolif.interactions._InteractionMeta` as a metaclass.\n",
    "\n",
    "* **Naming convention**\n",
    "\n",
    "Your class name must not start with `_` or be named `Interaction`. For non-symmetrical interactions, like hydrogen bonds or salt-bridges, the convention used here is to named the class after the function of the ligand. For example, the class `HBDonor` detects if a ligand acts as a hydrogen bond donor, and the class `Cationic` detects if a ligand acts as a cation.\n",
    "\n",
    "* **Define a `detect` method**\n",
    "\n",
    "This method takes exactly two positional arguments (and as many named arguments as you need): a ligand Residue or Molecule and a protein Residue or Molecule (in this order).\n",
    "\n",
    "* **Return value(s) for the `detect` method**\n",
    "\n",
    "There are two possibilities here, depending on whether or not you want to access the indices of atoms responsible for the interaction. If you don't need this information, just return `True` if the interaction is detected, `False` otherwise. If you need to access atomic indices, you must return the following items in this order: \n",
    "\n",
    "  * `True` or `False` for the detection of the interaction\n",
    "  * The index of the ligand atom, or None if not detected\n",
    "  * The index of the protein atom, or None if not detected"
   ]
  },
  {
   "cell_type": "code",
   "execution_count": null,
   "metadata": {},
   "outputs": [],
   "source": [
    "from scipy.spatial import distance_matrix\n",
    "\n",
    "# without atom indices\n",
    "class CloseContact(plf.interactions.Interaction):\n",
    "    def detect(self, res1, res2, threshold=2.0):\n",
    "        dist_matrix = distance_matrix(res1.xyz, res2.xyz)\n",
    "        if (dist_matrix <= threshold).any():\n",
    "            return True\n",
    "        return False\n",
    "\n",
    "fp = plf.Fingerprint()\n",
    "fp.closecontact(lmol, pmol[\"ASP129.A\"])"
   ]
  },
  {
   "cell_type": "code",
   "execution_count": null,
   "metadata": {},
   "outputs": [],
   "source": [
    "# with atom indices\n",
    "class CloseContact(plf.interactions.Interaction):\n",
    "    def detect(self, res1, res2, threshold=2.0):\n",
    "        dist_matrix = distance_matrix(res1.xyz, res2.xyz)\n",
    "        mask = dist_matrix <= threshold\n",
    "        if mask.any():\n",
    "            res1_i, res2_i = np.where(mask)\n",
    "            # return the first solution\n",
    "            return True, res1_i[0], res2_i[0]\n",
    "        return False, None, None\n",
    "\n",
    "fp = plf.Fingerprint()\n",
    "fp.closecontact(lmol, pmol[\"ASP129.A\"])"
   ]
  },
  {
   "cell_type": "markdown",
   "metadata": {},
   "source": [
    "By default, the fingerprint will modify all interaction classes to only return the boolean value. To get the atom indices when using your custom class, you must choose one of the following options:"
   ]
  },
  {
   "cell_type": "markdown",
   "metadata": {},
   "source": [
    "* Use the `__wrapped__` argument when calling the class as a fingerprint method:"
   ]
  },
  {
   "cell_type": "code",
   "execution_count": null,
   "metadata": {},
   "outputs": [],
   "source": [
    "fp.closecontact.__wrapped__(lmol, pmol[\"ASP129.A\"])"
   ]
  },
  {
   "cell_type": "markdown",
   "metadata": {},
   "source": [
    "* Use the `bitvector_atoms` method instead of `bitvector`:"
   ]
  },
  {
   "cell_type": "code",
   "execution_count": null,
   "metadata": {},
   "outputs": [],
   "source": [
    "fp = plf.Fingerprint([\"CloseContact\"])\n",
    "bv, indices = fp.bitvector_atoms(lmol, pmol[\"ASP129.A\"])\n",
    "bv, indices"
   ]
  },
  {
   "cell_type": "markdown",
   "metadata": {},
   "source": [
    "* Use the `return_atoms=True` argument when calling the `run` method:"
   ]
  },
  {
   "cell_type": "code",
   "execution_count": null,
   "metadata": {},
   "outputs": [],
   "source": [
    "fp.run(u.trajectory[0:1], lig, prot, return_atoms=True)\n",
    "fp.ifp"
   ]
  },
  {
   "cell_type": "markdown",
   "metadata": {},
   "source": [
    "* Directly use your class:"
   ]
  },
  {
   "cell_type": "code",
   "execution_count": null,
   "metadata": {},
   "outputs": [],
   "source": [
    "cc = CloseContact()\n",
    "cc.detect(lmol, pmol[\"ASP129.A\"])"
   ]
  },
  {
   "cell_type": "markdown",
   "metadata": {},
   "source": [
    "## 3. Ignoring the protein backbone when computing interactions"
   ]
  },
  {
   "cell_type": "code",
   "execution_count": null,
   "metadata": {},
   "outputs": [],
   "source": [
    "# not implemented yet"
   ]
  }
 ],
 "metadata": {
  "kernelspec": {
   "display_name": "Python 3",
   "language": "python",
   "name": "python3"
  },
  "language_info": {
   "codemirror_mode": {
    "name": "ipython",
    "version": 3
   },
   "file_extension": ".py",
   "mimetype": "text/x-python",
   "name": "python",
   "nbconvert_exporter": "python",
   "pygments_lexer": "ipython3",
   "version": "3.8.5"
  }
 },
 "nbformat": 4,
 "nbformat_minor": 2
}