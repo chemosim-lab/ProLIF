{
 "cells": [
  {
   "cell_type": "markdown",
   "metadata": {},
   "source": [
    "# How-to\n",
    "\n",
    "This notebook serves as a practical guide to common questions users might have.\n",
    "\n",
    "**Table of content**\n",
    "\n",
    "- [Changing the parameters for an interaction](#Changing-the-parameters-for-an-interaction)\n",
    "- [Writing your own interaction](#Writing-your-own-interaction)\n",
    "- [Working with docking poses instead of MD simulations](#Working-with-docking-poses-instead-of-MD-simulations)\n",
    "- [Using PDBQT files](#Using-PDBQT-files)\n",
    "\n"
   ]
  },
  {
   "cell_type": "code",
   "execution_count": null,
   "metadata": {},
   "outputs": [],
   "source": [
    "import MDAnalysis as mda\n",
    "import prolif as plf\n",
    "import pandas as pd\n",
    "import numpy as np"
   ]
  },
  {
   "cell_type": "code",
   "execution_count": null,
   "metadata": {},
   "outputs": [],
   "source": [
    "u = mda.Universe(plf.datafiles.TOP, plf.datafiles.TRAJ)\n",
    "lig = u.select_atoms(\"resname LIG\")\n",
    "prot = u.select_atoms(\"protein\")\n",
    "lmol = plf.Molecule.from_mda(lig)\n",
    "pmol = plf.Molecule.from_mda(prot)"
   ]
  },
  {
   "cell_type": "markdown",
   "metadata": {},
   "source": [
    "## Changing the parameters for an interaction"
   ]
  },
  {
   "cell_type": "markdown",
   "metadata": {},
   "source": [
    "You can list all the available interactions as follow:"
   ]
  },
  {
   "cell_type": "code",
   "execution_count": null,
   "metadata": {},
   "outputs": [],
   "source": [
    "plf.Fingerprint.list_available(show_hidden=True)"
   ]
  },
  {
   "cell_type": "markdown",
   "metadata": {},
   "source": [
    "In this example, we'll redefine the hydrophobic interaction with a shorter distance.\n",
    "\n",
    "You have the choice between overwriting the original hydrophobic interaction with the new one, or giving it an original name.\n",
    "\n",
    "Let's start with a test case: with the default parameters, Y109 is interacting with our ligand."
   ]
  },
  {
   "cell_type": "code",
   "execution_count": null,
   "metadata": {},
   "outputs": [],
   "source": [
    "fp = plf.Fingerprint()\n",
    "fp.hydrophobic(lmol, pmol[\"TYR109.A\"])"
   ]
  },
  {
   "cell_type": "markdown",
   "metadata": {},
   "source": [
    "### Overwriting the original interaction"
   ]
  },
  {
   "cell_type": "markdown",
   "metadata": {},
   "source": [
    "You have to define a class that inherits one of the classes listed in the `prolif.interactions` module."
   ]
  },
  {
   "cell_type": "code",
   "execution_count": null,
   "metadata": {},
   "outputs": [],
   "source": [
    "class Hydrophobic(plf.interactions.Hydrophobic):\n",
    "    def __init__(self):\n",
    "        super().__init__(distance=4.0)"
   ]
  },
  {
   "cell_type": "code",
   "execution_count": null,
   "metadata": {},
   "outputs": [],
   "source": [
    "fp = plf.Fingerprint()\n",
    "fp.hydrophobic(lmol, pmol[\"TYR109.A\"])"
   ]
  },
  {
   "cell_type": "markdown",
   "metadata": {},
   "source": [
    "The interaction is not detected anymore. You can reset to the default interaction like so:"
   ]
  },
  {
   "cell_type": "code",
   "execution_count": null,
   "metadata": {},
   "outputs": [],
   "source": [
    "class Hydrophobic(plf.interactions.Hydrophobic):\n",
    "    pass\n",
    "\n",
    "fp = plf.Fingerprint()\n",
    "fp.hydrophobic(lmol, pmol[\"TYR109.A\"])"
   ]
  },
  {
   "cell_type": "markdown",
   "metadata": {},
   "source": [
    "### Reparameterizing an interaction with another name"
   ]
  },
  {
   "cell_type": "markdown",
   "metadata": {},
   "source": [
    "The steps are identical to above, just give the class a different name:"
   ]
  },
  {
   "cell_type": "code",
   "execution_count": null,
   "metadata": {},
   "outputs": [],
   "source": [
    "class CustomHydrophobic(plf.interactions.Hydrophobic):\n",
    "    def __init__(self):\n",
    "        super().__init__(distance=4.0)\n",
    "        \n",
    "fp = plf.Fingerprint()\n",
    "fp.hydrophobic(lmol, pmol[\"TYR109.A\"])"
   ]
  },
  {
   "cell_type": "code",
   "execution_count": null,
   "metadata": {},
   "outputs": [],
   "source": [
    "fp.customhydrophobic(lmol, pmol[\"TYR109.A\"])"
   ]
  },
  {
   "cell_type": "code",
   "execution_count": null,
   "metadata": {},
   "outputs": [],
   "source": [
    "fp = plf.Fingerprint([\"Hydrophobic\", \"CustomHydrophobic\"])\n",
    "fp.bitvector(lmol, pmol[\"TYR109.A\"])"
   ]
  },
  {
   "cell_type": "markdown",
   "metadata": {},
   "source": [
    "## Writing your own interaction"
   ]
  },
  {
   "cell_type": "markdown",
   "metadata": {},
   "source": [
    "Before you dive into this section, make sure that there isn't already an interaction that could just be **reparameterized** to do what you want!\n",
    "\n",
    "For this, the best is to check the section of the documentation corresponding to the `prolif.interactions` module. There are some generic interactions, like the `_Distance` class, if you just need to define two chemical moieties within a certain distance. Both the Hydrophobic, Ionic, and Metallic interactions inherit from this class!"
   ]
  },
  {
   "cell_type": "markdown",
   "metadata": {},
   "source": [
    "With that being said, there are a few rules that you must respect when writing your own interaction:\n",
    "\n",
    "* **Inherit the ProLIF Interaction class**\n",
    "  \n",
    "This class is located in `prolif.interactions.Interaction`. If for any reason you must inherit from another class, you can also define the `prolif.interactions._InteractionMeta` as a metaclass.\n",
    "\n",
    "* **Naming convention**\n",
    "\n",
    "Your class name must not start with `_` or be named `Interaction`. For non-symmetrical interactions, like hydrogen bonds or salt-bridges, the convention used here is to named the class after the function of the ligand. For example, the class `HBDonor` detects if a ligand acts as a hydrogen bond donor, and the class `Cationic` detects if a ligand acts as a cation.\n",
    "\n",
    "* **Define a `detect` method**\n",
    "\n",
    "This method takes exactly two positional arguments (and as many named arguments as you need): a ligand Residue or Molecule and a protein Residue or Molecule (in this order).\n",
    "\n",
    "* **Return value(s) for the `detect` method**\n",
    "\n",
    "There are two possibilities here, depending on whether or not you want to access the indices of atoms responsible for the interaction. If you don't need this information, just return `True` if the interaction is detected, `False` otherwise. If you need to access atomic indices, you must return the following items in this order: \n",
    "\n",
    "  * `True` or `False` for the detection of the interaction\n",
    "  * The index of the ligand atom, or None if not detected\n",
    "  * The index of the protein atom, or None if not detected"
   ]
  },
  {
   "cell_type": "code",
   "execution_count": null,
   "metadata": {},
   "outputs": [],
   "source": [
    "from scipy.spatial import distance_matrix\n",
    "\n",
    "# without atom indices\n",
    "class CloseContact(plf.interactions.Interaction):\n",
    "    def detect(self, res1, res2, threshold=2.0):\n",
    "        dist_matrix = distance_matrix(res1.xyz, res2.xyz)\n",
    "        if (dist_matrix <= threshold).any():\n",
    "            return True\n",
    "        return False\n",
    "\n",
    "fp = plf.Fingerprint()\n",
    "fp.closecontact(lmol, pmol[\"ASP129.A\"])"
   ]
  },
  {
   "cell_type": "code",
   "execution_count": null,
   "metadata": {},
   "outputs": [],
   "source": [
    "# with atom indices\n",
    "class CloseContact(plf.interactions.Interaction):\n",
    "    def detect(self, res1, res2, threshold=2.0):\n",
    "        dist_matrix = distance_matrix(res1.xyz, res2.xyz)\n",
    "        mask = dist_matrix <= threshold\n",
    "        if mask.any():\n",
    "            res1_i, res2_i = np.where(mask)\n",
    "            # return the first solution\n",
    "            return True, res1_i[0], res2_i[0]\n",
    "        return False, None, None\n",
    "\n",
    "fp = plf.Fingerprint()\n",
    "fp.closecontact(lmol, pmol[\"ASP129.A\"])"
   ]
  },
  {
   "cell_type": "markdown",
   "metadata": {},
   "source": [
    "By default, the fingerprint will modify all interaction classes to only return the boolean value. To get the atom indices you must choose one of the following options:"
   ]
  },
  {
   "source": [
    "* Call `fp.to_dataframe(return_atoms=True)`"
   ],
   "cell_type": "markdown",
   "metadata": {}
  },
  {
   "cell_type": "markdown",
   "metadata": {},
   "source": [
    "* Use the `return_atoms=True` argument when calling the `generate` method:"
   ]
  },
  {
   "cell_type": "code",
   "execution_count": null,
   "metadata": {},
   "outputs": [],
   "source": [
    "ifp = fp.generate(lmol, pmol, return_atoms=True)\n",
    "# check the interactino between the ligand and ASP129\n",
    "ifp[(plf.ResidueId(\"LIG\", 1, \"G\"),\n",
    "     plf.ResidueId(\"ASP\", 129, \"A\"))]"
   ]
  },
  {
   "cell_type": "markdown",
   "metadata": {},
   "source": [
    "* Use the `__wrapped__` argument when calling the class as a fingerprint method:"
   ]
  },
  {
   "cell_type": "code",
   "execution_count": null,
   "metadata": {},
   "outputs": [],
   "source": [
    "fp.closecontact.__wrapped__(lmol, pmol[\"ASP129.A\"])"
   ]
  },
  {
   "cell_type": "markdown",
   "metadata": {},
   "source": [
    "* Use the `bitvector_atoms` method instead of `bitvector`:"
   ]
  },
  {
   "cell_type": "code",
   "execution_count": null,
   "metadata": {},
   "outputs": [],
   "source": [
    "fp = plf.Fingerprint([\"CloseContact\"])\n",
    "bv, lig_ix, prot_ix = fp.bitvector_atoms(lmol, pmol[\"ASP129.A\"])\n",
    "bv, lig_ix, prot_ix"
   ]
  },
  {
   "cell_type": "markdown",
   "metadata": {},
   "source": [
    "* Directly use your class:"
   ]
  },
  {
   "cell_type": "code",
   "execution_count": null,
   "metadata": {},
   "outputs": [],
   "source": [
    "cc = CloseContact()\n",
    "cc.detect(lmol, pmol[\"ASP129.A\"])"
   ]
  },
  {
   "source": [
    "## Working with docking poses instead of MD simulations\n",
    "\n",
    "ProLIF currently provides file readers for MOL2, SDF and PDBQT files. The API is slightly different compared to the quickstart example but the end result is the same.\n",
    "\n",
    "Please note that this part of the tutorial is only suitable for interactions between one protein and several ligands, or in more general terms, between one molecule with multiple residues and one molecule with a single residue. This is not suitable for protein-protein or DNA-protein interactions.\n",
    "\n",
    "Let's start by loading the protein. Here I'm using a PDB file but you can use any format supported by MDAnalysis as long as it contains explicit hydrogens."
   ],
   "cell_type": "markdown",
   "metadata": {}
  },
  {
   "cell_type": "code",
   "execution_count": null,
   "metadata": {},
   "outputs": [],
   "source": [
    "# load protein\n",
    "prot = mda.Universe(plf.datafiles.datapath / \"vina\" / \"rec.pdb\")\n",
    "prot = plf.Molecule.from_mda(prot)\n",
    "prot.n_residues"
   ]
  },
  {
   "source": [
    "### Using an SDF file"
   ],
   "cell_type": "markdown",
   "metadata": {}
  },
  {
   "cell_type": "code",
   "execution_count": null,
   "metadata": {},
   "outputs": [],
   "source": [
    "# load ligands\n",
    "path = str(plf.datafiles.datapath / \"vina\" / \"vina_output.sdf\")\n",
    "lig_suppl = list(plf.sdf_supplier(path))\n",
    "# generate fingerprint\n",
    "fp = plf.Fingerprint()\n",
    "fp.run_from_iterable(lig_suppl, prot)\n",
    "df = fp.to_dataframe()\n",
    "df"
   ]
  },
  {
   "source": [
    "Please note that converting the `lig_suppl` to a list is optionnal (and maybe not suitable for large files) as it will load all the ligands in memory, but it's nicer to track the progression with the progress bar.\n",
    "\n",
    "If you want to calculate the Tanimoto similarity between your docked poses and a reference ligand, here's how to do it.\n",
    "\n",
    "We first need to generate the interaction fingerprint for the reference, and concatenate it to the previous one"
   ],
   "cell_type": "markdown",
   "metadata": {}
  },
  {
   "cell_type": "code",
   "execution_count": null,
   "metadata": {},
   "outputs": [],
   "source": [
    "# load the reference\n",
    "ref = mda.Universe(plf.datafiles.datapath / \"vina\" / \"lig.pdb\")\n",
    "ref = plf.Molecule.from_mda(ref)\n",
    "# generate IFP\n",
    "fp.run_from_iterable([ref], prot)\n",
    "df0 = fp.to_dataframe()\n",
    "df0.rename({0: \"ref\"}, inplace=True)\n",
    "# drop the ligand level on both dataframes\n",
    "df0.columns = df0.columns.droplevel(0)\n",
    "df.columns = df.columns.droplevel(0)\n",
    "# concatenate them\n",
    "df = (pd.concat([df0, df])\n",
    "        .fillna(False)\n",
    "        .sort_index(axis=1, level=0,\n",
    "                    key=lambda index: [plf.ResidueId.from_string(x) for x in index]))\n",
    "df"
   ]
  },
  {
   "cell_type": "markdown",
   "metadata": {},
   "source": [
    "Lastly, we can convert the dataframe to a list of RDKit bitvectors to finally compute the Tanimoto similarity between our reference pose and the docking poses generated by Vina:"
   ]
  },
  {
   "cell_type": "code",
   "execution_count": null,
   "metadata": {},
   "outputs": [],
   "source": [
    "from rdkit import DataStructs\n",
    "\n",
    "bvs = plf.to_bitvectors(df)\n",
    "for i, bv in enumerate(bvs[1:]):\n",
    "    tc = DataStructs.TanimotoSimilarity(bvs[0], bv)\n",
    "    print(f\"{i}: {tc:.3f}\")"
   ]
  },
  {
   "cell_type": "markdown",
   "metadata": {},
   "source": [
    "Interestingly, the best scored docking pose (#0) isn't the most similar to the reference (#5)"
   ]
  },
  {
   "source": [
    "### Using a MOL2 file\n",
    "\n",
    "The input mol2 file can contain multiple ligands in different conformations."
   ],
   "cell_type": "markdown",
   "metadata": {}
  },
  {
   "cell_type": "code",
   "execution_count": null,
   "metadata": {},
   "outputs": [],
   "source": [
    "# load ligands\n",
    "path = plf.datafiles.datapath / \"vina\" / \"vina_output.mol2\"\n",
    "lig_suppl = list(plf.mol2_supplier(path))\n",
    "# generate fingerprint\n",
    "fp = plf.Fingerprint()\n",
    "fp.run_from_iterable(lig_suppl, prot)\n",
    "df = fp.to_dataframe()\n",
    "df"
   ]
  },
  {
   "cell_type": "markdown",
   "metadata": {},
   "source": [
    "### Using PDBQT files\n",
    "\n",
    "The typical use case here is getting the IFP from AutoDock Vina's output. It requires a few additional steps and informations compared to other formats like MOL2, since the PDBQT format gets rid of most hydrogen atoms and doesn't contain bond order information.\n",
    "\n",
    "The prerequisites for a successfull usage of ProLIF in this case is having external files that contain bond orders and formal charges for your ligand (like SMILES, SDF or MOL2), or at least a file with explicit hydrogen atoms. \n",
    "\n",
    "Please note that your PDBQT input must have a single model per file (this is required by MDAnalysis). Splitting a multi-model file can be done using the `vina_split` command-line tool that comes with AutoDock Vina: `vina_split --input vina_output.pdbqt`\n",
    "\n",
    "Let's start by loading our \"template\" file with bond orders. It can be a SMILES string, MOL2, SDF file or anything supported by RDKit."
   ]
  },
  {
   "cell_type": "code",
   "execution_count": null,
   "metadata": {},
   "outputs": [],
   "source": [
    "from rdkit import Chem\n",
    "from rdkit.Chem import AllChem\n",
    "\n",
    "template = Chem.MolFromSmiles(\"C[NH+]1CC(C(=O)NC2(C)OC3(O)C4CCCN4C(=O)C\"\n",
    "                              \"(Cc4ccccc4)N3C2=O)C=C2c3cccc4[nH]cc(c34)CC21\")\n",
    "template"
   ]
  },
  {
   "cell_type": "markdown",
   "metadata": {},
   "source": [
    "Next, we'll use the PDBQT supplier which loads each file from a list of paths, and assigns bond orders and charges using the template. The template and PDBQT file must have the exact same atoms, **even hydrogens**, otherwise no match will be found. Since PDBQT files partially keep the hydrogen atoms, we have the choice between:\n",
    "\n",
    "* Manually selecting where to add the hydrogens on the template, do the matching, then add the remaining hydrogens (not covered here)\n",
    "* Or just remove the hydrogens from the PDBQT file, do the matching, then add all hydrogens.\n",
    "\n",
    "This last option will delete the coordinates of your hydrogens atoms and replace them by the ones generated by RDKit, but unless you're working with an exotic system this should be fine.\n",
    "\n",
    "For the protein, there's usually no need to load the PDBQT that was used by Vina. The original file that was used to generate the PDBQT can be used directly, but **it must contain explicit hydrogen atoms**:"
   ]
  },
  {
   "cell_type": "code",
   "execution_count": null,
   "metadata": {},
   "outputs": [],
   "source": [
    "# load ligands\n",
    "pdbqt_files = sorted(plf.datafiles.datapath.glob(\"vina/*.pdbqt\"))\n",
    "lig_suppl = list(plf.pdbqt_supplier(pdbqt_files, template))\n",
    "# generate fingerprint\n",
    "fp = plf.Fingerprint()\n",
    "fp.run_from_iterable(lig_suppl, prot)\n",
    "df = fp.to_dataframe()\n",
    "df"
   ]
  }
 ],
 "metadata": {
  "kernelspec": {
   "name": "python385jvsc74a57bd0ed16e0ce086f53f6a3b96f2d7e8fdc3cba2fa42f4f858ca7715a8f0f47550c6a",
   "display_name": "Python 3.8.5 64-bit ('prolif': conda)"
  },
  "language_info": {
   "codemirror_mode": {
    "name": "ipython",
    "version": 3
   },
   "file_extension": ".py",
   "mimetype": "text/x-python",
   "name": "python",
   "nbconvert_exporter": "python",
   "pygments_lexer": "ipython3",
   "version": "3.8.5"
  }
 },
 "nbformat": 4,
 "nbformat_minor": 2
}