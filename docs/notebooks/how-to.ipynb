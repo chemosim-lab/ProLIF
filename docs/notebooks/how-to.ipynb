{
 "cells": [
  {
   "attachments": {},
   "cell_type": "markdown",
   "metadata": {},
   "source": [
    "# How-to\n",
    "\n",
    "This notebook serves as a practical guide to common questions users might have.\n",
    "\n",
    "**Table of content**\n",
    "\n",
    "- [Changing the parameters for an interaction](#Changing-the-parameters-for-an-interaction)\n",
    "- [Writing your own interaction](#Writing-your-own-interaction)\n",
    "- [Working with docking poses instead of MD simulations](#Working-with-docking-poses-instead-of-MD-simulations)\n",
    "- [Using PDBQT files](#Using-PDBQT-files)\n",
    "\n"
   ]
  },
  {
   "cell_type": "code",
   "execution_count": null,
   "metadata": {},
   "outputs": [],
   "source": [
    "import MDAnalysis as mda\n",
    "import prolif as plf\n",
    "import pandas as pd"
   ]
  },
  {
   "cell_type": "code",
   "execution_count": null,
   "metadata": {},
   "outputs": [],
   "source": [
    "u = mda.Universe(plf.datafiles.TOP, plf.datafiles.TRAJ)\n",
    "lig = u.select_atoms(\"resname LIG\")\n",
    "# restrict to 7.0 angstroms around the ligand\n",
    "prot = u.select_atoms(\"protein and byres around 7 group ligand\", ligand=lig)\n",
    "lmol = plf.Molecule.from_mda(lig)\n",
    "pmol = plf.Molecule.from_mda(prot)"
   ]
  },
  {
   "attachments": {},
   "cell_type": "markdown",
   "metadata": {},
   "source": [
    "## Changing the parameters for an interaction"
   ]
  },
  {
   "attachments": {},
   "cell_type": "markdown",
   "metadata": {},
   "source": [
    "You can list all the available interactions as follow:"
   ]
  },
  {
   "cell_type": "code",
   "execution_count": null,
   "metadata": {},
   "outputs": [],
   "source": [
    "plf.Fingerprint.list_available(show_hidden=True)"
   ]
  },
  {
   "attachments": {},
   "cell_type": "markdown",
   "metadata": {},
   "source": [
    "In this example, we'll reparametrize the hydrophobic interaction with a shorter distance. To know which parameters are available for interactions, see the [prolif.interactions](../source/modules/interaction-fingerprint.html#detecting-interactions-between-residues-prolif-interactions-interactions) module.\n",
    "\n",
    "Let's start with a test case: with the default parameters, Y109 is interacting with our ligand in 4 different occasions."
   ]
  },
  {
   "cell_type": "code",
   "execution_count": null,
   "metadata": {},
   "outputs": [],
   "source": [
    "fp = plf.Fingerprint()\n",
    "hydrophobic_interactions = fp.hydrophobic(lmol[\"LIG1.G\"], pmol[\"TYR109.A\"])\n",
    "len(list(hydrophobic_interactions))"
   ]
  },
  {
   "attachments": {},
   "cell_type": "markdown",
   "metadata": {},
   "source": [
    "Now we'll simply change the distance threshold to `4.0` instead of the default `4.5`."
   ]
  },
  {
   "cell_type": "code",
   "execution_count": null,
   "metadata": {},
   "outputs": [],
   "source": [
    "fp = plf.Fingerprint(parameters={\"Hydrophobic\": {\"distance\": 4.0}})\n",
    "hydrophobic_interactions = fp.hydrophobic(lmol[\"LIG1.G\"], pmol[\"TYR109.A\"])\n",
    "len(list(hydrophobic_interactions))"
   ]
  },
  {
   "attachments": {},
   "cell_type": "markdown",
   "metadata": {},
   "source": [
    "You can then use `fp.run` and other methods as usual."
   ]
  },
  {
   "attachments": {},
   "cell_type": "markdown",
   "metadata": {},
   "source": [
    "### Repurposing an existing interaction"
   ]
  },
  {
   "attachments": {},
   "cell_type": "markdown",
   "metadata": {},
   "source": [
    "In case you want to reuse an existing class for a different type of interaction, the easiest way is to \n",
    "define an interaction class that inherits one of the classes listed in the `prolif.interactions` module, and just update its `__init__` method with the appropriate parameters:"
   ]
  },
  {
   "cell_type": "code",
   "execution_count": null,
   "metadata": {},
   "outputs": [],
   "source": [
    "class ShorterHydrophobic(plf.interactions.Hydrophobic):\n",
    "    def __init__(self, distance=4.0):\n",
    "        super().__init__(distance=distance)\n",
    "\n",
    "\n",
    "fp = plf.Fingerprint([\"Hydrophobic\", \"ShorterHydrophobic\"])\n",
    "hydrophobic_interactions = fp.hydrophobic(lmol[\"LIG1.G\"], pmol[\"TYR109.A\"])\n",
    "print(len(list(hydrophobic_interactions)))  # 4\n",
    "shorterhydrophobic_interactions = fp.shorterhydrophobic(\n",
    "    lmol[\"LIG1.G\"], pmol[\"TYR109.A\"]\n",
    ")\n",
    "print(len(list(shorterhydrophobic_interactions)))  # 0"
   ]
  },
  {
   "attachments": {},
   "cell_type": "markdown",
   "metadata": {},
   "source": [
    "## Writing your own interaction"
   ]
  },
  {
   "attachments": {},
   "cell_type": "markdown",
   "metadata": {},
   "source": [
    "Before you dive into this section, make sure that there isn't already an interaction that could just be **repurposed** to do what you want!\n",
    "\n",
    "For this, the best is to check the section of the documentation corresponding to the `prolif.interactions` module. There are some generic interactions, like the `Distance` class, if you just need to define two chemical moieties within a certain distance. Both the Hydrophobic, Ionic, and Metallic interactions inherit from this class!\n",
    "In most cases, defining an interaction only based on a distance is not enough and requires one or two angles constraints as well. For this purpose, the `SingleAngle` and `DoubleAngle` interactions can be used."
   ]
  },
  {
   "attachments": {},
   "cell_type": "markdown",
   "metadata": {},
   "source": [
    "With that being said, there are a few rules that you must respect when writing your own interaction:\n",
    "\n",
    "* **Inherit the ProLIF Interaction class**\n",
    "  \n",
    "This `prolif.interactions.Interaction` class in the base class that provides some functionalities to automatically register the interactions in `Fingerprint` objects.\n",
    "\n",
    "* **Naming convention**\n",
    "\n",
    "For non-symmetrical interactions, like hydrogen bonds or salt-bridges, the convention used here is to name the class after the role of the ligand. For example, the class `HBDonor` detects if a ligand acts as a hydrogen bond donor, and the class `Cationic` detects if a ligand acts as a cation.\n",
    "\n",
    "* **Define a `detect` method**\n",
    "\n",
    "This method takes exactly two positional arguments: a ligand Residue and a protein Residue (in this order).\n",
    "\n",
    "* **Return value for the `detect` method**\n",
    "\n",
    "You must yield a dictionary containing some basic metadata about the interaction when it is detected. To help with this process, the `metadata` method should be used (see example below) for which the arguments are listed here:\n",
    "\n",
    "  * the input residues (`lig_res` and `prot_res` arguments, of type `rdkit.Chem.Mol`),\n",
    "  * the indices of atoms responsible for the interaction, (`lig_indices` and `prot_indices` arguments, of type `tuple[int, ...]`),\n",
    "  * any other relevant metric (distances or angles), named as you want. Distances should be in angstroms, and preferably named `distance`, and angles should be in degrees.\n",
    "  \n",
    "\n",
    "Note that you don't have to return anything if no interaction is detected for a pair of residues."
   ]
  },
  {
   "cell_type": "code",
   "execution_count": null,
   "metadata": {},
   "outputs": [],
   "source": [
    "import numpy as np\n",
    "from scipy.spatial import distance_matrix\n",
    "\n",
    "\n",
    "class CloseContact(plf.interactions.Interaction):\n",
    "    def __init__(self, contact_threshold=2.0):\n",
    "        self.contact_threshold = contact_threshold\n",
    "\n",
    "    def detect(self, ligand_residue, protein_residue):\n",
    "        # distance matrix between atoms of both residues\n",
    "        dist_matrix = distance_matrix(ligand_residue.xyz, protein_residue.xyz)\n",
    "        below_threshold = dist_matrix < self.contact_threshold\n",
    "        for ligand_indices in np.argwhere(below_threshold.any(axis=1)):\n",
    "            ligand_index = int(ligand_indices[0])\n",
    "            for protein_indices in np.argwhere(below_threshold[ligand_index]):\n",
    "                protein_index = int(protein_indices[0])\n",
    "                # yield dict with metadata on the interaction\n",
    "                # required arguments: input residues, and tuple of indices of atoms\n",
    "                #                     responsible for the interaction\n",
    "                # optional arguments: any additional `key=value` pair (e.g. distance)\n",
    "                yield self.metadata(\n",
    "                    lig_res=ligand_residue,\n",
    "                    prot_res=protein_residue,\n",
    "                    lig_indices=(ligand_index,),\n",
    "                    prot_indices=(protein_index,),\n",
    "                    distance=dist_matrix[ligand_index, protein_index],\n",
    "                )\n",
    "\n",
    "\n",
    "fp = plf.Fingerprint([\"CloseContact\"])\n",
    "len(list(fp.closecontact(lmol[\"LIG1.G\"], pmol[\"ASP129.A\"])))"
   ]
  },
  {
   "attachments": {},
   "cell_type": "markdown",
   "metadata": {},
   "source": [
    "If you want to access metadata about the interaction, you can do one of the following:"
   ]
  },
  {
   "attachments": {},
   "cell_type": "markdown",
   "metadata": {},
   "source": [
    "* Recommended: use the `run` or `run_from_iterable` methods and then interact with the `fp.ifp` attribute:"
   ]
  },
  {
   "cell_type": "code",
   "execution_count": null,
   "metadata": {},
   "outputs": [],
   "source": [
    "fp = plf.Fingerprint()\n",
    "fp.run(u.trajectory[0:1], lig, prot)\n",
    "# check the interactions between the ligand and ASP129 on the first frame\n",
    "frame_number, ligand_residue, protein_residue = 0, \"LIG1.G\", \"ASP129.A\"\n",
    "fp.ifp[frame_number][(ligand_residue, protein_residue)]"
   ]
  },
  {
   "attachments": {},
   "cell_type": "markdown",
   "metadata": {},
   "source": [
    "* For custom workflows: use the `metadata=True` argument when calling the `generate` method:"
   ]
  },
  {
   "cell_type": "code",
   "execution_count": null,
   "metadata": {},
   "outputs": [],
   "source": [
    "ifp = fp.generate(lmol, pmol, metadata=True)\n",
    "# check the interaction between the ligand and ASP129\n",
    "ifp[(\"LIG1.G\", \"ASP129.A\")]"
   ]
  },
  {
   "attachments": {},
   "cell_type": "markdown",
   "metadata": {},
   "source": [
    "* For debugging: use the `metadata=True` argument when calling the interaction directly through the fingerprint object:"
   ]
  },
  {
   "cell_type": "code",
   "execution_count": null,
   "metadata": {},
   "outputs": [],
   "source": [
    "list(fp.closecontact(lmol[\"LIG1.G\"], pmol[\"ASP129.A\"], metadata=True))"
   ]
  },
  {
   "attachments": {},
   "cell_type": "markdown",
   "metadata": {},
   "source": [
    "* For debugging: use the `metadata` method instead of `bitvector`:"
   ]
  },
  {
   "cell_type": "code",
   "execution_count": null,
   "metadata": {},
   "outputs": [],
   "source": [
    "fp.metadata(lmol[\"LIG1.G\"], pmol[\"ASP129.A\"])"
   ]
  },
  {
   "attachments": {},
   "cell_type": "markdown",
   "metadata": {},
   "source": [
    "## Working with docking poses instead of MD simulations\n",
    "\n",
    "ProLIF currently provides file readers for MOL2, SDF and PDBQT files. The API is slightly different compared to the quickstart example but the end result is the same.\n",
    "\n",
    "Please note that this part of the tutorial is only suitable for interactions between one protein and several ligands, or in more general terms, between one molecule with multiple residues and one molecule with a single residue. This is not suitable for protein-protein or DNA-protein interactions.\n",
    "\n",
    "Let's start by loading the protein. Here I'm using a PDB file but you can use any format supported by MDAnalysis as long as it contains explicit hydrogens.\n",
    "\n",
    "Note that for this tutorial, we're using example files that come with the package. These files are accessed through the `plf.datafiles.datapath` variable which holds a `pathlib.Path` object. This makes it easier to manipulate paths to file, match filenames using wildcards...etc. in a Pythonic way, but you can also use plain strings, i.e. `\"/home/cedric/projects/ProLIF/prolif/data/vina/rec.pdb\"` instead of `plf.datafiles.datapath / \"vina\" / \"rec.pdb\"` if you prefer."
   ]
  },
  {
   "cell_type": "code",
   "execution_count": null,
   "metadata": {},
   "outputs": [],
   "source": [
    "# load protein\n",
    "prot = mda.Universe(plf.datafiles.datapath / \"vina\" / \"rec.pdb\")\n",
    "prot = plf.Molecule.from_mda(prot)\n",
    "prot.n_residues"
   ]
  },
  {
   "attachments": {},
   "cell_type": "markdown",
   "metadata": {},
   "source": [
    "### Using an SDF file"
   ]
  },
  {
   "cell_type": "code",
   "execution_count": null,
   "metadata": {},
   "outputs": [],
   "source": [
    "# load ligands\n",
    "path = str(plf.datafiles.datapath / \"vina\" / \"vina_output.sdf\")\n",
    "lig_suppl = plf.sdf_supplier(path)\n",
    "# generate fingerprint\n",
    "fp = plf.Fingerprint()\n",
    "fp.run_from_iterable(lig_suppl, prot)\n",
    "df = fp.to_dataframe()\n",
    "df"
   ]
  },
  {
   "attachments": {},
   "cell_type": "markdown",
   "metadata": {},
   "source": [
    "If you want to calculate the Tanimoto similarity between your docked poses and a reference ligand, here's how to do it.\n",
    "\n",
    "We first need to generate the interaction fingerprint for the reference, and concatenate it to the previous one"
   ]
  },
  {
   "cell_type": "code",
   "execution_count": null,
   "metadata": {},
   "outputs": [],
   "source": [
    "# load the reference\n",
    "ref = mda.Universe(plf.datafiles.datapath / \"vina\" / \"lig.pdb\")\n",
    "ref = plf.Molecule.from_mda(ref)\n",
    "# generate IFP\n",
    "fp.run_from_iterable([ref], prot)\n",
    "df0 = fp.to_dataframe()\n",
    "df0.rename({0: \"ref\"}, inplace=True)\n",
    "# drop the ligand level on both dataframes\n",
    "df0.columns = df0.columns.droplevel(0)\n",
    "df.columns = df.columns.droplevel(0)\n",
    "# concatenate and sort columns\n",
    "df = (\n",
    "    pd.concat([df0, df])\n",
    "    .fillna(False)\n",
    "    .sort_index(\n",
    "        axis=1, level=0, key=lambda index: [plf.ResidueId.from_string(x) for x in index]\n",
    "    )\n",
    ")\n",
    "df"
   ]
  },
  {
   "attachments": {},
   "cell_type": "markdown",
   "metadata": {},
   "source": [
    "Lastly, we can convert the dataframe to a list of RDKit bitvectors to finally compute the Tanimoto similarity between our reference pose and the docking poses generated by Vina:"
   ]
  },
  {
   "cell_type": "code",
   "execution_count": null,
   "metadata": {},
   "outputs": [],
   "source": [
    "from rdkit import DataStructs\n",
    "\n",
    "bvs = plf.to_bitvectors(df)\n",
    "for i, bv in enumerate(bvs[1:]):\n",
    "    tc = DataStructs.TanimotoSimilarity(bvs[0], bv)\n",
    "    print(f\"{i}: {tc:.3f}\")"
   ]
  },
  {
   "attachments": {},
   "cell_type": "markdown",
   "metadata": {},
   "source": [
    "Interestingly, the best scored docking pose (#0) isn't the most similar to the reference (#5)"
   ]
  },
  {
   "attachments": {},
   "cell_type": "markdown",
   "metadata": {},
   "source": [
    "### Using a MOL2 file\n",
    "\n",
    "The input mol2 file can contain multiple ligands in different conformations."
   ]
  },
  {
   "cell_type": "code",
   "execution_count": null,
   "metadata": {},
   "outputs": [],
   "source": [
    "# load ligands\n",
    "path = str(plf.datafiles.datapath / \"vina\" / \"vina_output.mol2\")\n",
    "lig_suppl = plf.mol2_supplier(path)\n",
    "# generate fingerprint\n",
    "fp = plf.Fingerprint()\n",
    "fp.run_from_iterable(lig_suppl, prot)\n",
    "df = fp.to_dataframe()\n",
    "df"
   ]
  },
  {
   "attachments": {},
   "cell_type": "markdown",
   "metadata": {},
   "source": [
    "If your protein is also a MOL2 file, here's a code snippet to guide you:\n",
    "\n",
    "```python\n",
    "u = mda.Universe(\"protein.mol2\")\n",
    "# add \"elements\" category\n",
    "elements = mda.topology.guessers.guess_types(u.atoms.names)\n",
    "u.add_TopologyAttr(\"elements\", elements)\n",
    "# create protein mol and run\n",
    "prot = plf.Molecule.from_mda(u)\n",
    "fp = plf.Fingerprint()\n",
    "suppl = plf.mol2_supplier(\"ligands.mol2\")\n",
    "fp.run_from_iterable(suppl, prot)\n",
    "df = fp.to_dataframe()\n",
    "df\n",
    "```"
   ]
  },
  {
   "attachments": {},
   "cell_type": "markdown",
   "metadata": {},
   "source": [
    "\n",
    "While doing so, you may run into these errors:\n",
    "\n",
    "* **`RDKit ERROR: [17:50:37] Can't kekulize mol.  Unkekulized atoms: 1123`**\n",
    "  This usually happens when some of the bonds in the MOL2 file are unconventional. For example, charged histidines are represented part with aromatic bonds and part with single and double bonds in MOE, presumably to capture the different charged resonance structures in a single one. A practical workaround for this is to redefine problematic bonds as single bonds in the Universe:\n",
    "\n",
    "```python\n",
    "u = mda.Universe(\"protein.mol2\")\n",
    "# replace aromatic bonds with single bonds\n",
    "for i, bond_order in enumerate(u._topology.bonds.order):\n",
    "    # you may need to replace double bonds (\"2\") as well\n",
    "    if bond_order == \"ar\":\n",
    "        u._topology.bonds.order[i] = 1\n",
    "# clear the bond cache, just in case\n",
    "u._topology.bonds._cache.pop(\"bd\", None)\n",
    "# infer bond orders again\n",
    "prot = plf.Molecule.from_mda(u)\n",
    "```"
   ]
  },
  {
   "attachments": {},
   "cell_type": "markdown",
   "metadata": {},
   "source": [
    "\n",
    "* **`RDKit ERROR: [17:50:37] non-ring atom 33 marked aromatic`**\n",
    "  This is very similar to the previous error. You can use the same fix or, as an alternative, use RDKit:\n",
    "  \n",
    "```python\n",
    "from rdkit import Chem\n",
    "mol = Chem.MolFromMol2File(\"protein.mol2\", removeHs=False)\n",
    "# assign residue info (needed for fingerprint generation)\n",
    "u = mda.Universe(\"protein.mol2\")\n",
    "for atom, resname in zip(mol.GetAtoms(), u.atoms.resnames):\n",
    "    resid = plf.ResidueId.from_string(resname)\n",
    "    mi = Chem.AtomPDBResidueInfo()\n",
    "    mi.SetResidueNumber(resid.number)\n",
    "    mi.SetResidueName(resid.name)\n",
    "    atom.SetMonomerInfo(mi)\n",
    "prot = plf.Molecule(mol)\n",
    "```"
   ]
  },
  {
   "attachments": {},
   "cell_type": "markdown",
   "metadata": {},
   "source": [
    "\n",
    "* **Residue naming** in the resulting dataframe may be different from what was expected as the residue index is appended to the residue name and number:\n",
    "\n",
    "```python\n",
    "import numpy as np\n",
    "u = mda.Universe(\"protein.mol2\")\n",
    "resids = [plf.ResidueId.from_string(x) for x in u.residues.resnames]\n",
    "u.residues.resnames = np.array([x.name for x in resids], dtype=object)\n",
    "u.residues.resids = np.array([x.number for x in resids], dtype=np.uint32)\n",
    "u.residues.resnums = u.residues.resids\n",
    "prot = plf.Molecule.from_mda(u)\n",
    "```"
   ]
  },
  {
   "attachments": {},
   "cell_type": "markdown",
   "metadata": {},
   "source": [
    "### Using PDBQT files\n",
    "\n",
    "The typical use case here is getting the IFP from AutoDock Vina's output. It requires a few additional steps and informations compared to other formats like MOL2, since the PDBQT format gets rid of most hydrogen atoms and doesn't contain bond order information.\n",
    "\n",
    "The prerequisites for a successfull usage of ProLIF in this case is having external files that contain bond orders and formal charges for your ligand (like SMILES, SDF or MOL2), or at least a file with explicit hydrogen atoms. \n",
    "\n",
    "Please note that your PDBQT input must have a single model per file (this is required by MDAnalysis). Splitting a multi-model file can be done using the `vina_split` command-line tool that comes with AutoDock Vina: `vina_split --input vina_output.pdbqt`\n",
    "\n",
    "Let's start by loading our \"template\" file with bond orders. It can be a SMILES string, MOL2, SDF file or anything supported by RDKit."
   ]
  },
  {
   "cell_type": "code",
   "execution_count": null,
   "metadata": {},
   "outputs": [],
   "source": [
    "from rdkit import Chem\n",
    "\n",
    "template = Chem.MolFromSmiles(\n",
    "    \"C[NH+]1CC(C(=O)NC2(C)OC3(O)C4CCCN4C(=O)C(Cc4ccccc4)N3C2=O)C=C2c3cccc4[nH]cc(c34)CC21\"\n",
    ")\n",
    "template"
   ]
  },
  {
   "attachments": {},
   "cell_type": "markdown",
   "metadata": {},
   "source": [
    "Next, we'll use the PDBQT supplier which loads each file from a list of paths, and assigns bond orders and charges using the template. The template and PDBQT file must have the exact same atoms, **even hydrogens**, otherwise no match will be found. Since PDBQT files partially keep the hydrogen atoms, we have the choice between:\n",
    "\n",
    "* Manually selecting where to add the hydrogens on the template, do the matching, then add the remaining hydrogens (not covered here)\n",
    "* Or just remove the hydrogens from the PDBQT file, do the matching, then re-add the original hydrogens.\n",
    "\n",
    "For the protein, there's usually no need to load the PDBQT that was used by Vina. The original file that was used to generate the PDBQT can be used directly, but **it must contain explicit hydrogen atoms**:"
   ]
  },
  {
   "cell_type": "code",
   "execution_count": null,
   "metadata": {},
   "outputs": [],
   "source": [
    "# load list of ligands\n",
    "pdbqt_files = sorted(plf.datafiles.datapath.glob(\"vina/*.pdbqt\"))\n",
    "lig_suppl = plf.pdbqt_supplier(pdbqt_files, template)\n",
    "# generate fingerprint\n",
    "fp = plf.Fingerprint()\n",
    "fp.run_from_iterable(lig_suppl, prot)\n",
    "df = fp.to_dataframe()\n",
    "df"
   ]
  }
 ],
 "metadata": {
  "interpreter": {
   "hash": "8787e9fc73b27535744a25d17e74686c0add9df598b8e27ca04412fce7f0c7ae"
  },
  "kernelspec": {
   "display_name": "Python 3.8.13 ('prolif')",
   "language": "python",
   "name": "python3"
  },
  "language_info": {
   "codemirror_mode": {
    "name": "ipython",
    "version": 3
   },
   "file_extension": ".py",
   "mimetype": "text/x-python",
   "name": "python",
   "nbconvert_exporter": "python",
   "pygments_lexer": "ipython3",
   "version": "3.9.13"
  }
 },
 "nbformat": 4,
 "nbformat_minor": 2
}
