{
 "cells": [
  {
   "cell_type": "markdown",
   "metadata": {},
   "source": [
    "# Advanced usage\n",
    "\n",
    "## Prerequisite\n",
    "\n",
    "We'll setup the protein and ligand files for the different usecases here:"
   ]
  },
  {
   "cell_type": "code",
   "execution_count": null,
   "metadata": {},
   "outputs": [],
   "source": [
    "import MDAnalysis as mda\n",
    "import prolif as plf\n",
    "\n",
    "# load protein\n",
    "protein_file = str(plf.datafiles.datapath / \"vina\" / \"rec.pdb\")\n",
    "u = mda.Universe(protein_file)\n",
    "protein_mol = plf.Molecule.from_mda(u)\n",
    "\n",
    "# load docking poses\n",
    "poses_path = str(plf.datafiles.datapath / \"vina\" / \"vina_output.sdf\")\n",
    "pose_iterable = plf.sdf_supplier(poses_path)\n",
    "\n",
    "# load 1 ligand from poses\n",
    "ligand_mol = pose_iterable[0]"
   ]
  },
  {
   "cell_type": "markdown",
   "metadata": {},
   "source": [
    "## Interactions\n",
    "\n",
    "This section shows how to modify existing interactions or defined new ones.\n",
    "\n",
    "### Modifying interaction parameters\n",
    "\n",
    "In ProLIF, each interaction is defined as a Python class. You can get a list of all the available interactions (including base abstract classes) with the following code snippet:"
   ]
  },
  {
   "cell_type": "code",
   "execution_count": null,
   "metadata": {},
   "outputs": [],
   "source": [
    "plf.Fingerprint.list_available(show_hidden=True)"
   ]
  },
  {
   "cell_type": "markdown",
   "metadata": {},
   "source": [
    "When you create an interaction fingerprint with `prolif.Fingerprint`, those classes are\n",
    "created with default parameters and attached to the new fingerprint object as methods:"
   ]
  },
  {
   "cell_type": "code",
   "execution_count": null,
   "metadata": {},
   "outputs": [],
   "source": [
    "fp = plf.Fingerprint([\"Hydrophobic\", \"HBDonor\", \"HBAcceptor\"])\n",
    "fp.hydrophobic"
   ]
  },
  {
   "cell_type": "markdown",
   "metadata": {},
   "source": [
    "These method will yield all occurences for that specific interaction between 2 residues (1 for the ligand and 1 for the protein).\n",
    "\n",
    "In this example, we'll reparametrize the hydrophobic interaction with a shorter\n",
    "distance and see how this affects the number of occurences of an interaction for a\n",
    "given pair of residues. \n",
    "\n",
    ":::{note}\n",
    "To know which parameters are available for interactions, see the\n",
    "{mod}`prolif.interactions` module.\n",
    ":::\n",
    "\n",
    "Let's start with a test case. With the default parameters, TYR109 is interacting with our ligand in 4 different occasions:"
   ]
  },
  {
   "cell_type": "code",
   "execution_count": null,
   "metadata": {},
   "outputs": [],
   "source": [
    "fp = plf.Fingerprint()\n",
    "hydrophobic_interactions_tyr109 = list(\n",
    "    fp.hydrophobic(ligand_mol[0], protein_mol[\"TYR109.A\"])\n",
    ")\n",
    "len(hydrophobic_interactions_tyr109)"
   ]
  },
  {
   "cell_type": "markdown",
   "metadata": {},
   "source": [
    "Now we'll simply change the distance threshold to `4.0` instead of the default `4.5`. To do this we simply provide the `parameters` argument with a dictionnary mapping the name of the interaction to reconfigure with updated parameters.\n",
    "\n",
    "This modification will affect all the interaction analysis code run by the fingerprint object, i.e. when using\n",
    "`run` or `run_from_iterable`."
   ]
  },
  {
   "cell_type": "code",
   "execution_count": null,
   "metadata": {},
   "outputs": [],
   "source": [
    "fp = plf.Fingerprint(parameters={\"Hydrophobic\": {\"distance\": 4.0}})\n",
    "hydrophobic_interactions_tyr109 = list(\n",
    "    fp.hydrophobic(ligand_mol[0], protein_mol[\"TYR109.A\"])\n",
    ")\n",
    "len(hydrophobic_interactions_tyr109)"
   ]
  },
  {
   "cell_type": "markdown",
   "metadata": {},
   "source": [
    "As you can see, by reducing the distance threshold the interaction between our ligand\n",
    "and TYR109 is now ignored."
   ]
  },
  {
   "cell_type": "markdown",
   "metadata": {},
   "source": [
    "### Repurposing an existing interaction\n",
    "\n",
    "In case you want to reuse an existing class for a different type of interaction, the\n",
    "easiest way is to define an interaction class that inherits one of the classes listed\n",
    "in the {mod}`prolif.interactions` module, and just update its `__init__` method with the\n",
    "appropriate parameters.\n",
    "\n",
    "There are some generic interactions, like the {class}`~prolif.interactions.base.Distance`\n",
    "class, if you just need to define two chemical moieties within a certain distance. Both\n",
    "the Hydrophobic, Ionic, and Metallic interactions inherit from this class!\n",
    "\n",
    "In most cases, defining an interaction only based on a distance is not enough and\n",
    "requires one or two angles constraints as well. For this purpose, the\n",
    "{class}`~prolif.interactions.base.SingleAngle` and {class}`~prolif.interactions.base.DoubleAngle`\n",
    "interactions can be used.\n",
    "\n",
    "Here we'll define a `C-H...O` HBond interaction by reusing the existing HBond classes:"
   ]
  },
  {
   "cell_type": "code",
   "execution_count": null,
   "metadata": {},
   "outputs": [],
   "source": [
    "class CHOAcceptor(plf.interactions.HBAcceptor):\n",
    "    def __init__(\n",
    "        self,\n",
    "        acceptor=\"O\",\n",
    "        donor=\"[#6]-[H]\",\n",
    "        distance=3.5,\n",
    "        DHA_angle=(90, 180),\n",
    "    ):\n",
    "        super().__init__(\n",
    "            acceptor=acceptor, donor=donor, distance=distance, DHA_angle=DHA_angle\n",
    "        )\n",
    "\n",
    "\n",
    "# create inverse interaction as well\n",
    "CHODonor = CHOAcceptor.invert_role(\n",
    "    \"CHODonor\",\n",
    "    \"C-H...O Hbond interaction between a ligand (donor) and a residue (acceptor)\",\n",
    ")\n",
    "\n",
    "# calculate both classical and weak hbonds\n",
    "fp = plf.Fingerprint([\"HBAcceptor\", \"CHOAcceptor\", \"HBDonor\", \"CHODonor\"])\n",
    "fp.run_from_iterable(pose_iterable, protein_mol)\n",
    "# show dataframe\n",
    "df = fp.to_dataframe()\n",
    "df"
   ]
  },
  {
   "cell_type": "markdown",
   "metadata": {},
   "source": [
    "We can also display these new interactions:"
   ]
  },
  {
   "cell_type": "code",
   "execution_count": null,
   "metadata": {},
   "outputs": [],
   "source": [
    "from prolif.plotting.complex3d import Complex3D\n",
    "\n",
    "# assign colors for the new interactions on the 3D plot\n",
    "Complex3D.COLORS.update(\n",
    "    {\n",
    "        \"CHODonor\": \"red\",\n",
    "        \"CHOAcceptor\": \"blue\",\n",
    "    }\n",
    ")\n",
    "# show specific docking pose\n",
    "pose_index = 4\n",
    "fp.plot_3d(pose_iterable[pose_index], protein_mol, frame=pose_index)"
   ]
  },
  {
   "cell_type": "markdown",
   "metadata": {},
   "source": [
    "### Defining a custom interaction\n",
    "\n",
    ":::{important}\n",
    "Before you dive into this section, make sure that there isn't already an interaction\n",
    "that could just be **repurposed** to do what you want!\n",
    "\n",
    "For this, the best is to check the {mod}`prolif.interactions` module.\n",
    ":::\n",
    "\n",
    "With that being said, there are a few rules that you must respect when writing your own\n",
    "interaction:\n",
    "\n",
    "#### Inherit the ProLIF Interaction class\n",
    "  \n",
    "The {class}`~prolif.interactions.base.Interaction` class is the base class that provides\n",
    "some functionalities to automatically register the interactions in `Fingerprint` objects.\n",
    "\n",
    "#### Naming convention\n",
    "\n",
    "For non-symmetrical interactions, like hydrogen bonds or salt-bridges, the convention\n",
    "used here is to name the class after the role of the ligand.\n",
    "\n",
    "For example, the class `HBDonor` detects if a ligand acts as a hydrogen bond donor, and\n",
    "the class `Cationic` detects if a ligand acts as a cation.\n",
    "\n",
    "#### Define a `detect` method\n",
    "\n",
    "This method takes exactly two positional arguments: a ligand Residue and a protein\n",
    "Residue (in this order).\n",
    "\n",
    "#### Return value for the `detect` method\n",
    "\n",
    "You must yield a dictionary containing some basic metadata about the interaction when it\n",
    "is detected. To help with this process, the `metadata` method should be used (see\n",
    "example below) for which the arguments are listed here:\n",
    "\n",
    "* the input residues (`lig_res` and `prot_res` arguments, of type `rdkit.Chem.Mol`),\n",
    "* the indices of atoms responsible for the interaction, (`lig_indices` and\n",
    "  `prot_indices` arguments, of type `tuple[int, ...]`),\n",
    "* any other relevant metric (distances or angles), named as you want. Distances should\n",
    "  be in angstroms, and preferably named `distance`, and angles should be in degrees.\n",
    "\n",
    ":::{note}\n",
    "You don't have to return anything if no interaction is detected for a pair of residues.\n",
    ":::\n",
    "\n",
    "Here's an example implementing a close-contact interaction using numpy:"
   ]
  },
  {
   "cell_type": "code",
   "execution_count": null,
   "metadata": {},
   "outputs": [],
   "source": [
    "import numpy as np\n",
    "from scipy.spatial import distance_matrix\n",
    "\n",
    "\n",
    "class CloseContact(plf.interactions.Interaction):\n",
    "    def __init__(self, contact_threshold=2.0):\n",
    "        self.contact_threshold = contact_threshold\n",
    "\n",
    "    def detect(self, ligand_residue, protein_residue):\n",
    "        # distance matrix between atoms of both residues\n",
    "        dist_matrix = distance_matrix(ligand_residue.xyz, protein_residue.xyz)\n",
    "        below_threshold = dist_matrix < self.contact_threshold\n",
    "        for ligand_indices in np.argwhere(below_threshold.any(axis=1)):\n",
    "            ligand_index = int(ligand_indices[0])\n",
    "            for protein_indices in np.argwhere(below_threshold[ligand_index]):\n",
    "                protein_index = int(protein_indices[0])\n",
    "                # yield dict with metadata on the interaction\n",
    "                # required arguments: input residues, and tuple of indices of atoms\n",
    "                #                     responsible for the interaction\n",
    "                # optional arguments: any additional `key=value` pair (e.g. distance)\n",
    "                yield self.metadata(\n",
    "                    lig_res=ligand_residue,\n",
    "                    prot_res=protein_residue,\n",
    "                    lig_indices=(ligand_index,),\n",
    "                    prot_indices=(protein_index,),\n",
    "                    distance=dist_matrix[ligand_index, protein_index],\n",
    "                )\n",
    "\n",
    "\n",
    "# run analysis\n",
    "fp = plf.Fingerprint([\"CloseContact\"])\n",
    "fp.run_from_iterable([ligand_mol], protein_mol)\n",
    "\n",
    "# show results\n",
    "df = fp.to_dataframe()\n",
    "df"
   ]
  },
  {
   "cell_type": "code",
   "execution_count": null,
   "metadata": {},
   "outputs": [],
   "source": [
    "# assign colors for the new interactions on the 3D plot\n",
    "Complex3D.COLORS.update(\n",
    "    {\n",
    "        \"CloseContact\": \"brown\",\n",
    "    }\n",
    ")\n",
    "# display\n",
    "fp.plot_3d(ligand_mol, protein_mol, frame=0)"
   ]
  },
  {
   "cell_type": "markdown",
   "metadata": {},
   "source": [
    "## Fingerprint generation\n",
    "\n",
    "This section contains information about modifying some aspects of the fingerprint\n",
    "generation.\n",
    "\n",
    "### Ignoring the protein backbone\n",
    "\n",
    "In some cases, you might want to dismiss backbone interactions. You cannot simply remove\n",
    "the backbone from your protein input file(s), as it will either result in charges added\n",
    "on the side-chains' end, or you would need to add dummy atoms at the end, but these\n",
    "could also result in artifacts during the interaction detection.\n",
    "\n",
    "One workaround is to use a substructure search (SMARTS) to delete the backbone atoms\n",
    "after the structures has been parsed by MDAnalysis."
   ]
  },
  {
   "cell_type": "code",
   "execution_count": null,
   "metadata": {},
   "outputs": [],
   "source": [
    "from rdkit import Chem\n",
    "from rdkit.Chem.AllChem import DeleteSubstructs\n",
    "\n",
    "# SMARTS for backbone\n",
    "backbone_smarts = \"[C^2](=O)-[C;X4](-[H])-[N;+0]-[H]\"\n",
    "backbone_query = Chem.MolFromSmarts(backbone_smarts)\n",
    "\n",
    "\n",
    "def make_mol_and_strip_backbone(atomgroup, **kwargs):\n",
    "    mol = atomgroup.convert_to.rdkit(**kwargs)\n",
    "    mol = DeleteSubstructs(mol, backbone_query)\n",
    "    return plf.Molecule(mol)\n",
    "\n",
    "\n",
    "# patch the `from_mda` method with our modified version\n",
    "plf.Molecule.from_mda = make_mol_and_strip_backbone"
   ]
  },
  {
   "cell_type": "markdown",
   "metadata": {},
   "source": [
    "You can then prepare your system and run the analysis as you normally would."
   ]
  },
  {
   "cell_type": "markdown",
   "metadata": {},
   "source": [
    "## Accessing results\n",
    "\n",
    "Once the fingerprint analysis has been run, there are multiple ways to access the data. The most convenient one showcased in the tutorials is through a pandas DataFrame, however this only shows the residues involved in each interaction."
   ]
  },
  {
   "cell_type": "code",
   "execution_count": null,
   "metadata": {},
   "outputs": [],
   "source": [
    "fp.to_dataframe()"
   ]
  },
  {
   "cell_type": "markdown",
   "metadata": {},
   "source": [
    "The complete data is stored on the `ifp` attribute of the fingerprint object as a dictionary indexed by residues:"
   ]
  },
  {
   "cell_type": "code",
   "execution_count": null,
   "metadata": {},
   "outputs": [],
   "source": [
    "frame_number = 0\n",
    "ligand_residue = \"UNL1\"\n",
    "protein_residue = \"VAL200.A\"\n",
    "\n",
    "fp.ifp[frame_number][(ligand_residue, protein_residue)]"
   ]
  },
  {
   "cell_type": "markdown",
   "metadata": {},
   "source": [
    "To make it easier to work with this deeply nested data structure, the results can also be accessed in a flatter structure like so:"
   ]
  },
  {
   "cell_type": "code",
   "execution_count": null,
   "metadata": {},
   "outputs": [],
   "source": [
    "for interaction_data in fp.ifp[frame_number].interactions():\n",
    "    print(interaction_data)\n",
    "    break"
   ]
  }
 ],
 "metadata": {
  "kernelspec": {
   "display_name": "prolif",
   "language": "python",
   "name": "python3"
  },
  "language_info": {
   "codemirror_mode": {
    "name": "ipython",
    "version": 3
   },
   "file_extension": ".py",
   "mimetype": "text/x-python",
   "name": "python",
   "nbconvert_exporter": "python",
   "pygments_lexer": "ipython3",
   "version": "3.11.6"
  },
  "orig_nbformat": 4
 },
 "nbformat": 4,
 "nbformat_minor": 2
}
