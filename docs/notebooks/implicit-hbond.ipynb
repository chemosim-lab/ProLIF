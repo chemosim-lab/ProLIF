{
 "cells": [
  {
   "cell_type": "markdown",
   "metadata": {},
   "source": [
    "# Implicit hydrogen bond interaction\n",
    "This tutorial showcases how to calculate hydrogen bond (H-bond) interations for a topology with only heavy atoms (implicit hydrogens). Also, the difference between the implicit and explicit methods are demonstrated.\n",
    " \n",
    "Before getting started to the implicit H-bond calculation, we need to make sure the bond orders of molecules are corrected. We introduce a protein helper function (`ProteinHelper`) to do all in once. "
   ]
  },
  {
   "cell_type": "markdown",
   "metadata": {},
   "source": [
    "## Protein helper function\n",
    "The protein helper function is designed to fix the bond orders in your topology file based on a given molecule template. The algorithms of fixing the bond orders are inspired by [pdbinf](https://github.com/OpenFreeEnergy/pdbinf) and RDKit's function (`rdkit.Chem.AllChem.AssignBondOrdersFromTemplate`). \n"
   ]
  },
  {
   "cell_type": "markdown",
   "metadata": {},
   "source": [
    "### A small example: ACE-TPO-NME\n",
    "This example is originally come from [pdbinf](https://github.com/OpenFreeEnergy/pdbinf). This example shows a molecule with three residues: [ACE](https://www.rcsb.org/ligand/ACE), [TPO](https://www.rcsb.org/ligand/TPO), [NME](https://www.rcsb.org/ligand/NME). You can find the correct bond orders at [RCSB PDB](https://www.rcsb.org/)."
   ]
  },
  {
   "cell_type": "code",
   "execution_count": null,
   "metadata": {},
   "outputs": [],
   "source": [
    "from rdkit import Chem\n",
    "from rdkit.Chem.rdDetermineBonds import DetermineConnectivity\n",
    "\n",
    "from prolif import Molecule\n",
    "from prolif.datafiles import datapath\n",
    "\n",
    "protein_path = datapath / \"protein_helper/tpo.pdb\"\n",
    "\n",
    "# Read the data with RDKit\n",
    "mol = Chem.MolFromPDBFile(str(protein_path), removeHs=False)\n",
    "DetermineConnectivity(mol, useHueckel=True)\n",
    "for atm in mol.GetAtoms():\n",
    "    atm.SetNoImplicit(False)  # set no implicit to False\n",
    "\n",
    "# Convert to ProLIF Molecule\n",
    "mol = Molecule.from_rdkit(mol)\n",
    "print([res for res in mol.residues])\n",
    "mol"
   ]
  },
  {
   "cell_type": "code",
   "execution_count": null,
   "metadata": {},
   "outputs": [],
   "source": [
    "import prolif as plf\n",
    "\n",
    "plf.display_residues(mol)"
   ]
  },
  {
   "cell_type": "markdown",
   "metadata": {},
   "source": [
    "Considering these three residues are not standard protein residues (20 amino acids), you will need to provide a template for the additional residues. We provide two ways to load your templates into your protein helper function.\n",
    "1. CIF template: you can look up your residue (ligand) at [RCSB PDB](https://www.rcsb.org/)'s ligand page and download it by clicking *Download Files > Definition (CIF format)*.\n",
    "2. SMILES string template: simply provide a SMILES string for your residue or ligand."
   ]
  },
  {
   "cell_type": "code",
   "execution_count": null,
   "metadata": {},
   "outputs": [],
   "source": [
    "from prolif.datafiles import datapath\n",
    "from prolif.io.cif import cif_template_reader\n",
    "from prolif.io.protein_helper import ProteinHelper\n",
    "\n",
    "# load templates\n",
    "ace_template = {\"ACE\": {\"SMILES\": \"CC=O\"}}\n",
    "tpo_template = {\"TPO\": {\"SMILES\": \"C[C@H]([C@@H](C(=O))N)OP(=O)(O)O\"}}\n",
    "# tpo_template = cif_template_reader(\n",
    "#     datapath / \"protein_helper/templates/TPO.cif\"\n",
    "# )  # alternative\n",
    "nme_template = cif_template_reader(datapath / \"protein_helper/templates/NME.cif\")\n",
    "\n",
    "# fix molecule by the templates\n",
    "protein_helper = ProteinHelper(templates=[ace_template, tpo_template, nme_template])"
   ]
  },
  {
   "cell_type": "markdown",
   "metadata": {},
   "source": [
    "````{important}\n",
    "If you would like to use SMILES templates, you have to first indicate your residue name, and then define your SMILES string in a dictionary with key `SMILES`. For instance:\n",
    "```python\n",
    "{\n",
    "    \"[residue name]\": {\n",
    "        \"SMILES\": \"[your smiles string]\"\n",
    "    },\n",
    "    ...\n",
    "}\n",
    "```\n",
    "````\n",
    "\n",
    "```{tip}\n",
    "If using SMILES templates, you might need to **modify your SMILES string by pruning one oxygen in an acetate group** (especially, if your residue is not in the terminus). For instance in the above example, original `TPO` residue's SMILES is *C\\[C@H\\](\\[C@@H\\](C(=O)**O**)N)OP(=O)(O)O* (if you look at [RCSB TPO page](https://www.rcsb.org/ligand/TPO)), but your template should be *C\\[C@H\\](\\[C@@H\\](C(=O))N)OP(=O)(O)O*. It is because prolif splits your molecule into residues at the amide bonds before calculating molecular interactions. The `ProteinHelper` is correcting your **residues**, so you actually have to provide templates without `-OH` in the acetate group forming amide bond.\n",
    "```\n"
   ]
  },
  {
   "cell_type": "markdown",
   "metadata": {},
   "source": [
    "Let's fix the residues."
   ]
  },
  {
   "cell_type": "code",
   "execution_count": null,
   "metadata": {},
   "outputs": [],
   "source": [
    "# fix molecule by the templates\n",
    "fixed_mol = protein_helper.standardize_protein(mol)\n",
    "\n",
    "plf.display_residues(mol)"
   ]
  },
  {
   "cell_type": "markdown",
   "metadata": {},
   "source": [
    "Now, it works.\n",
    "\n",
    "After learning how to use protein helper function, we can now learn to calculate the implicit H-bond interactions."
   ]
  },
  {
   "cell_type": "markdown",
   "metadata": {},
   "source": [
    "## Implicit H-bond interactions\n",
    "First, we read the receptor (protein) and fix the bond orders with `ProteinHelper`."
   ]
  },
  {
   "cell_type": "code",
   "execution_count": null,
   "metadata": {},
   "outputs": [],
   "source": [
    "# read the receptor\n",
    "from rdkit import Chem\n",
    "\n",
    "from prolif.datafiles import datapath\n",
    "from prolif.io.protein_helper import ProteinHelper\n",
    "\n",
    "data_path = datapath / \"implicitHbond\"\n",
    "protein_path_i = data_path / \"receptor.pdb\"\n",
    "protein_mol_i = Molecule.from_rdkit(Chem.MolFromPDBFile((str(protein_path_i))))\n",
    "\n",
    "protein_helper = ProteinHelper()\n",
    "\n",
    "# fix the receptor\n",
    "protein_mol_i = protein_helper.standardize_protein(protein_mol_i)\n",
    "\n",
    "plf.display_residues(protein_mol_i, slice(100, 108))"
   ]
  },
  {
   "cell_type": "markdown",
   "metadata": {},
   "source": [
    "Don't worry if there is a lot of warning message generated. It is because your topology file is not complete for some residues (e.g., only have backbone and miss some heavy atoms at the side chain). If the residues are not close to your ligand, it should be fine.\n",
    "\n",
    "```{note}\n",
    "The protein helper function will guess the forcefield by residue name. Because for some forcefield a certain residue name can represent a specific type of protonated state of the residue. The protein function will fix your residue to that corresponding protonated states.\n",
    "\n",
    "In the above example, the protein helper function fails to guess the forcefield, and thus it assigns the residues' protonated states based on default settings (basically, pH = 7 and CYS is neutralized).\n",
    "```\n",
    "\n",
    "```{tip}\n",
    "You can modify the residue name for your residue to get different protonated state of the residue when using protein helper function. This approach is particularly useful when investigating different protonation states of residues.\n",
    "```"
   ]
  },
  {
   "cell_type": "markdown",
   "metadata": {},
   "source": [
    "Next, we read the ligand. Because the file is in `.sdf` format, we used `prolif.sdf_supplier` to read it."
   ]
  },
  {
   "cell_type": "code",
   "execution_count": null,
   "metadata": {},
   "outputs": [],
   "source": [
    "# Read the ligand\n",
    "ligand_i = plf.sdf_supplier(data_path / \"1.D.sdf\")[0]\n",
    "plf.display_residues(ligand_i, size=(400, 200))"
   ]
  },
  {
   "cell_type": "markdown",
   "metadata": {},
   "source": [
    "We then used `prolif.Fingerprint` to find the implicit hydrogen bonds by setting `interactions= [\"ImplicitHBAcceptor\", \"ImplicitHBDonor\"]`. Some parameters for the implicit H-bond method can be set. For instance, if you want to include water for detecting interactions, use `\"include_water\": True`. \n",
    "\n",
    "Geometric checks play an important role in the implicit hydrogen bond method by filtering out impossible interaction pairs. You can make the method more flexible by adjusting the tolerance thresholds for acceptor or donor atom angles and plane angles (plane angles only for sp2-hybridized heavy atoms). This allows you to include more or fewer interactions based on your needs. Increasing the tolerance reduces the geometric restrictions. Our default settings are tuned by a dataset from RCSB PDB. If you don't want any geometry check, you can simply apply `\"ignore_geometry_checks\": True`.  \n",
    "\n",
    "Then, we used `run_from_iterable` to calculate the implicit H-bond interactions."
   ]
  },
  {
   "cell_type": "code",
   "execution_count": null,
   "metadata": {},
   "outputs": [],
   "source": [
    "fp_i = plf.Fingerprint(\n",
    "    interactions=[\"ImplicitHBAcceptor\", \"ImplicitHBDonor\"],\n",
    "    count=True,\n",
    "    parameters={\n",
    "        \"ImplicitHBAcceptor\": {\n",
    "            \"include_water\": False,  # include water residues in the detection\n",
    "            \"tolerance_dev_aaa\": 30,  # atom angle deviation tolerance for acceptor\n",
    "            \"tolerance_dev_daa\": 30,  # atom angle deviation tolerance for donor\n",
    "            \"tolerance_dev_dpa\": 30,  # plane angle deviation tolerance for donor\n",
    "            \"tolerance_dev_apa\": 90,  # plane angle deviation tolerance for acceptor\n",
    "            \"ignore_geometry_checks\": False,  # skip geometry checks\n",
    "        },\n",
    "        \"ImplicitHBDonor\": {\n",
    "            \"include_water\": False,  # include water residues in the detection\n",
    "            \"tolerance_dev_aaa\": 30,  # angle deviation tolerance for acceptor atom\n",
    "            \"tolerance_dev_daa\": 30,  # angle deviation tolerance for donor atom\n",
    "            \"tolerance_dev_dpa\": 30,  # angle deviation tolerance for donor plane\n",
    "            \"tolerance_dev_apa\": 90,  # angle deviation tolerance for acceptor plane\n",
    "            \"ignore_geometry_checks\": False,  # skip geometry checks\n",
    "        },\n",
    "    },\n",
    ")\n",
    "fp_i.run_from_iterable([ligand_i], protein_mol_i)"
   ]
  },
  {
   "cell_type": "markdown",
   "metadata": {},
   "source": [
    "Similar to the previous tutorials, we converted the fingerprint into a table."
   ]
  },
  {
   "cell_type": "code",
   "execution_count": null,
   "metadata": {},
   "outputs": [],
   "source": [
    "df_i = fp_i.to_dataframe().T\n",
    "df_i"
   ]
  },
  {
   "cell_type": "markdown",
   "metadata": {},
   "source": [
    "### Metadata\n",
    "\n",
    "If you would like to have more details (metadata), use `.ifp` with the key `(\"[ligand's resname][resid].[chainid]\", \"[protine's resname][resid].[chainid]\")`. Mostly, metadata are related to the geometric checks, including raw atom and plane angles and their deviations. We also included `vina_hbond_potential` to assess the likelihood of an interaction occurring. Higher values of `vina_hbond_potential` suggest a stronger probability of the interaction."
   ]
  },
  {
   "cell_type": "code",
   "execution_count": null,
   "metadata": {},
   "outputs": [],
   "source": [
    "fp_i.ifp[0][(\"UNL1\", \"TYR167.B\")]"
   ]
  },
  {
   "cell_type": "markdown",
   "metadata": {},
   "source": [
    "````{tip}\n",
    "If you have underscore (`_`) in your chain ID, you might have `KeyError`. Try to use `ResidueId` rather than `string` format as the dictionary key.\n",
    "\n",
    "```python\n",
    ">>> fp_i.ifp[0][(\"UNL1\", \"HOH1._\")] # Not working\n",
    "KeyError: (ResidueId(UNL, 1, None), ResidueId(HOH, 1, None))\n",
    "\n",
    "# try this\n",
    ">>> from prolif.residue import ResidueId\n",
    "\n",
    ">>> fp_i.ifp[0][(ResidueId(\"UNL\", 1, None), ResidueId(\"HOH\", 1, \"_\"))]\n",
    "{'ImplicitHBAcceptor': ... }\n",
    "```\n",
    "````"
   ]
  },
  {
   "cell_type": "markdown",
   "metadata": {},
   "source": [
    "### Visualization"
   ]
  },
  {
   "cell_type": "markdown",
   "metadata": {},
   "source": [
    "For 2D ligand-centered plot, use `plot_lignetwork` with your ligand."
   ]
  },
  {
   "cell_type": "code",
   "execution_count": null,
   "metadata": {},
   "outputs": [],
   "source": [
    "view = fp_i.plot_lignetwork(ligand_i, kind=\"frame\", frame=0, display_all=True)\n",
    "view"
   ]
  },
  {
   "cell_type": "markdown",
   "metadata": {},
   "source": [
    "For a protein-ligand complex, `plot_3d` is a better way to explore the interactions. It is noted that you might need to set the water molecules into `\"sphere\"` to visualize it."
   ]
  },
  {
   "cell_type": "code",
   "execution_count": null,
   "metadata": {},
   "outputs": [],
   "source": [
    "view = fp_i.plot_3d(\n",
    "    ligand_i, protein_mol_i, frame=0, display_all=True, remove_hydrogens=False\n",
    ")\n",
    "view.setStyle(\n",
    "    {\n",
    "        \"resn\": \"HOH\",\n",
    "    },\n",
    "    {\"sphere\": {\"radius\": 0.5, \"color\": \"red\"}},\n",
    ")\n",
    "view"
   ]
  },
  {
   "cell_type": "markdown",
   "metadata": {},
   "source": [
    "## Explicit H-bond interaction method (standard method)\n",
    "As a reference, we also calculated the explicit H-bond interactions for the same system."
   ]
  },
  {
   "cell_type": "code",
   "execution_count": null,
   "metadata": {},
   "outputs": [],
   "source": [
    "import MDAnalysis as mda\n",
    "\n",
    "from prolif import Molecule\n",
    "from prolif.datafiles import datapath\n",
    "\n",
    "# Read the protonated protein file\n",
    "data_path = datapath / \"implicitHbond\"\n",
    "protein_path = data_path / \"receptor_ph7_amber2.pdb\"\n",
    "u = mda.Universe(str(protein_path))\n",
    "protein_mol = Molecule.from_mda(u)\n",
    "\n",
    "plf.display_residues(protein_mol, slice(100, 108))"
   ]
  },
  {
   "cell_type": "code",
   "execution_count": null,
   "metadata": {},
   "outputs": [],
   "source": [
    "# Read the protonated ligand file\n",
    "ligand = plf.sdf_supplier(str(data_path / \"1.D_protonated.sdf\"))[0]\n",
    "plf.display_residues(ligand, size=(400, 200))"
   ]
  },
  {
   "cell_type": "code",
   "execution_count": null,
   "metadata": {},
   "outputs": [],
   "source": [
    "# Calculate default H-bond interactions\n",
    "fp_count = plf.Fingerprint([\"HBDonor\", \"HBAcceptor\"], count=True)\n",
    "fp_count.run_from_iterable([ligand], protein_mol)"
   ]
  },
  {
   "cell_type": "code",
   "execution_count": null,
   "metadata": {},
   "outputs": [],
   "source": [
    "# Get the fingerprint DataFrame\n",
    "df = fp_count.to_dataframe().T\n",
    "df"
   ]
  },
  {
   "cell_type": "markdown",
   "metadata": {},
   "source": [
    "### 2D/3D Visualization"
   ]
  },
  {
   "cell_type": "code",
   "execution_count": null,
   "metadata": {},
   "outputs": [],
   "source": [
    "view = fp_count.plot_lignetwork(ligand, kind=\"frame\", frame=0, display_all=True)\n",
    "view"
   ]
  },
  {
   "cell_type": "code",
   "execution_count": null,
   "metadata": {},
   "outputs": [],
   "source": [
    "view = fp_count.plot_3d(\n",
    "    ligand, protein_mol, frame=0, display_all=False, remove_hydrogens=False\n",
    ")\n",
    "view"
   ]
  },
  {
   "cell_type": "markdown",
   "metadata": {},
   "source": [
    "# Comparison between explicit and implicit H-bond interaction methods\n",
    "Finally, let’s compare the explicit and implicit hydrogen bond interaction methods. As shown in the visualization below, the implicit method tends to detect more interactions. This is because the explicit hydrogen bond method relies on how hydrogens are added to the ligand and protein structures. For some rotatable hydrogen donors, you can imagine these donors as being flexible during molecular dynamics simulations. The explicit method typically captures a single conformational state of hydrogen bond interactions, whereas the implicit method can be seen as integrating results from multiple conformational states. This is the fundamental difference between the two methods, and neither is inherently superior. The choice depends on the type of information you aim to extract from your data."
   ]
  },
  {
   "cell_type": "code",
   "execution_count": null,
   "metadata": {},
   "outputs": [],
   "source": [
    "from prolif.plotting.complex3d import Complex3D\n",
    "\n",
    "# create Complex3D objects (default)\n",
    "comp3D = Complex3D.from_fingerprint(fp_count, ligand, protein_mol, frame=0)\n",
    "# (modified)\n",
    "other_comp3D = Complex3D.from_fingerprint(fp_i, ligand_i, protein_mol_i, frame=0)\n",
    "\n",
    "# compare the two Complex3D objects\n",
    "view = comp3D.compare(other_comp3D, display_all=True)\n",
    "view"
   ]
  }
 ],
 "metadata": {
  "kernelspec": {
   "display_name": "ProLIF",
   "language": "python",
   "name": "python3"
  },
  "language_info": {
   "codemirror_mode": {
    "name": "ipython",
    "version": 3
   },
   "file_extension": ".py",
   "mimetype": "text/x-python",
   "name": "python",
   "nbconvert_exporter": "python",
   "pygments_lexer": "ipython3",
   "version": "3.11.11"
  }
 },
 "nbformat": 4,
 "nbformat_minor": 2
}
