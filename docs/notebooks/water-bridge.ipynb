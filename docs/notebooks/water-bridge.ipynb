{
 "cells": [
  {
   "cell_type": "code",
   "execution_count": null,
   "id": "1467ecd0",
   "metadata": {},
   "outputs": [],
   "source": [
    "%load_ext autoreload\n",
    "%autoreload 2"
   ]
  },
  {
   "cell_type": "markdown",
   "id": "6f7fd278-8fab-480e-a437-33f8ae0fa37c",
   "metadata": {},
   "source": [
    "# Water-bridge Interactions\n",
    "\n",
    "This tutorial showcases how to use ProLIF to generate an interaction fingerprint including water-mediated hydrogen-bond interactions, and analyze the interactions for a ligand-protein complex."
   ]
  },
  {
   "cell_type": "markdown",
   "id": "2e1596f5-2a04-4bd5-83e3-429590408be8",
   "metadata": {},
   "source": [
    "## Preparation\n",
    "\n",
    "Let's start by importing MDAnalysis and ProLIF to read our tutorial files and create selections for the ligand, protein and water.\n",
    "\n",
    ":::{important}\n",
    "It is advised to select for the protein and water selection only the residues in close distance to the ligand,\n",
    "else the generation of the fingerprint will be time consuming due to the amount of analyzed atoms.\n",
    ":::\n",
    "\n",
    "For the selection of the protein in this tutorial we only select the resiudes around 15.0 Å of the ligand.\n",
    "\n",
    ":::{tip}\n",
    "For the water component it is possible to update the `AtomGroup` distance-based selection at every frame,\n",
    "which is convenient considering the large movements of water molecules during most simulations.\n",
    "**Do not use `updating=True` for the protein selection**, it will produce wrong results.\n",
    ":::\n",
    "\n",
    "For the water selection we select the water residues around 4 Å of the ligand or protein. You may need to increase this\n",
    "distance threshold to investigate very high-order water-mediated interactions."
   ]
  },
  {
   "cell_type": "code",
   "execution_count": null,
   "id": "2503acc3-cda8-4619-9985-ff93a0955343",
   "metadata": {},
   "outputs": [],
   "source": [
    "import MDAnalysis as mda\n",
    "import prolif as plf\n",
    "\n",
    "# load topology and trajectory\n",
    "u = mda.Universe(plf.datafiles.WATER_TOP, plf.datafiles.WATER_TRAJ)\n",
    "\n",
    "# create selections for the ligand and protein\n",
    "ligand_selection = u.select_atoms(\"resname QNB\")\n",
    "protein_selection = u.select_atoms(\n",
    "    \"protein and byres around 15 group ligand\",\n",
    "    ligand=ligand_selection,\n",
    ")\n",
    "water_selection = u.select_atoms(\n",
    "    \"resname TIP3 and byres around 4 (group ligand or group pocket)\",\n",
    "    ligand=ligand_selection,\n",
    "    pocket=protein_selection,\n",
    "    updating=True,\n",
    ")\n",
    "ligand_selection, protein_selection, water_selection"
   ]
  },
  {
   "cell_type": "markdown",
   "id": "5f4476bf-4c74-4e8c-a910-7967ce1b7d4c",
   "metadata": {},
   "source": [
    "Now we perform the calculation of the interactions.\n",
    "In this tutorial we only focus on the water bridge interactions, but you can also include the other typical ligand-protein interactions in the list of interactions.\n",
    "\n",
    ":::{important}\n",
    "When using `WaterBridge`, you must specify the `water` parameter with your atomgroup selection.\n",
    ":::\n",
    "\n",
    "By default, the `WaterBridge` interaction will only look at bridges including a single water molecule, i.e. `ligand---water---protein`.\n",
    "Here, we will look at the water bridges up to order 3 (i.e. there can be up to 3 water molecules),\n",
    "for this we explicitely provide `order=3` in the parameters of the `WaterBridge` interaction (defaults to `1`)."
   ]
  },
  {
   "cell_type": "code",
   "execution_count": null,
   "id": "c7227c75-f75a-4e2c-ad7a-427a2eeab147",
   "metadata": {},
   "outputs": [],
   "source": [
    "fp = plf.Fingerprint([\"WaterBridge\"], parameters={\"WaterBridge\": {\"water\": water_selection, \"order\": 3}})"
   ]
  },
  {
   "cell_type": "markdown",
   "id": "ac5ab807",
   "metadata": {},
   "source": [
    "Then we simply run the analysis. The way the `WaterBridge` analysis is performed under the hood,\n",
    "three successive runs are executed:\n",
    "- between the ligand and water\n",
    "- between the protein and water\n",
    "- between the water molecules\n",
    "\n",
    "The results are then collated together using `networkx`.\n",
    "\n",
    ":::{note}\n",
    "For practical reasons, the `WaterBridge` analysis only runs in serial.\n",
    ":::"
   ]
  },
  {
   "cell_type": "code",
   "execution_count": null,
   "id": "ae591b9f-7e57-4812-b1aa-2a72299f037c",
   "metadata": {},
   "outputs": [],
   "source": [
    "fp.run(u.trajectory, ligand_selection, protein_selection)"
   ]
  },
  {
   "cell_type": "markdown",
   "id": "47128dc6-efe3-493c-a6b5-5126235be901",
   "metadata": {},
   "source": [
    "## Visualization\n",
    "\n",
    "The trajectory that we use consists of 20 frames. Let's analyze the water bridge interactions that are present in the trajectory. For this we generate a DataFrame, which shows which interactions occur during each frame of the simulation."
   ]
  },
  {
   "cell_type": "code",
   "execution_count": null,
   "id": "99f7cf32-cfc3-4922-803e-4ee9ff52f38c",
   "metadata": {},
   "outputs": [],
   "source": [
    "df = fp.to_dataframe()\n",
    "df"
   ]
  },
  {
   "cell_type": "markdown",
   "id": "3e17778f-1e9d-4106-ab0a-1837e660b3d4",
   "metadata": {},
   "source": [
    "We now sort the values to identify which of the water bridge interactions appears more frequently than the others."
   ]
  },
  {
   "cell_type": "code",
   "execution_count": null,
   "id": "8ac9c899-2764-44af-88cb-d9faaef96309",
   "metadata": {},
   "outputs": [],
   "source": [
    "# percentage of the trajectory where each interaction is present\n",
    "df.mean().sort_values(ascending=False).to_frame(name=\"%\").T * 100"
   ]
  },
  {
   "cell_type": "markdown",
   "id": "43563594-0fd7-4173-a1cb-a4c8f43c996a",
   "metadata": {},
   "source": [
    "We can also analyze the water bridge interactions using a barcode plot."
   ]
  },
  {
   "cell_type": "code",
   "execution_count": null,
   "id": "03a6d36d-e3b3-4b56-89a6-49fb5adb44a2",
   "metadata": {},
   "outputs": [],
   "source": [
    "fp.plot_barcode(figsize=(8, 3))"
   ]
  },
  {
   "cell_type": "markdown",
   "id": "0a72d2bc-1224-403a-af62-164ea8dc20cb",
   "metadata": {},
   "source": [
    "We can also visualize water-mediated interactions using the `LigNetwork` plot.\n",
    "Here we can also see the water bridges with higher orders, where the water molecules interact \n",
    "with each other thus building water bridges.\n",
    "\n",
    ":::{tip}\n",
    "The threshold for interactions to be displayed in `fp.plot_lignetwork()` is `0.3`. Thus only interactions with an occurence of more than 30 % will appear with the default settings, so don't forget to adjust the threshold if you want to see interactions with lower occurence.\n",
    ":::"
   ]
  },
  {
   "cell_type": "code",
   "execution_count": null,
   "id": "359c107c-4383-4fdc-bf87-973cc2662ac6",
   "metadata": {},
   "outputs": [],
   "source": [
    "ligand_mol = plf.Molecule.from_mda(ligand_selection)\n",
    "view = fp.plot_lignetwork(ligand_mol, threshold=0.05)\n",
    "view"
   ]
  },
  {
   "cell_type": "markdown",
   "id": "492e9026-1c8d-4ed6-b8f3-49a6e3d86933",
   "metadata": {},
   "source": [
    "## Water Bridge Interaction Metadata\n",
    "\n",
    "The current example showed if certain water bridge interactions are present or not during the simulation.\n",
    "During the interaction calculation metadata is stored, which we can use to obtain more information about the interaction.\n",
    "\n",
    "Here we show how to access the metadata stored after the calculcation of the interactions.\n",
    "We will access all of the metadata stored and display it as a Dataframe."
   ]
  },
  {
   "cell_type": "code",
   "execution_count": null,
   "id": "7da6cc77-de7f-4a71-aa23-eeb68d890cb3",
   "metadata": {},
   "outputs": [],
   "source": [
    "import pandas as pd\n",
    "\n",
    "all_metadata = []\n",
    "\n",
    "for frame, dict in fp.ifp.items():\n",
    "    for (lig_resid, prot_resid), interaction_dict in dict.items():\n",
    "        for metadata in interaction_dict[\"WaterBridge\"]:\n",
    "            flat = {\n",
    "                \"frame\": frame,\n",
    "                \"ligand_residue\": lig_resid,\n",
    "                \"protein_residue\": prot_resid,\n",
    "                \"order\": metadata.get(\"order\"),\n",
    "                \"distance\": metadata.get(\"distance\"),\n",
    "                \"ligand_role\": metadata.get(\"ligand_role\"),\n",
    "                \"protein_role\": metadata.get(\"protein_role\"),\n",
    "                \"water_residues\": metadata.get(\"water_residues\"),\n",
    "            }\n",
    "            all_metadata.append(flat)\n",
    "\n",
    "df_metadata = pd.DataFrame(all_metadata)"
   ]
  },
  {
   "cell_type": "markdown",
   "id": "add79ed2-bfdd-4572-8b9a-494c68a2c7a8",
   "metadata": {},
   "source": [
    ":::{important} We can see that the metadata contains important information about the interactions calculated, containing the `order` of the water bridge interactions, which `water_residues` participate in the water bridge interactions as well as the `ligand_role` and the `protein_role` during the interactions. :::"
   ]
  },
  {
   "cell_type": "code",
   "execution_count": null,
   "id": "664d5be3-c74f-4f19-aa34-225b636616dc",
   "metadata": {},
   "outputs": [],
   "source": [
    "df_metadata"
   ]
  },
  {
   "cell_type": "markdown",
   "id": "c53a91ea-60d3-430c-b3b9-5730bb26c51f",
   "metadata": {},
   "source": [
    "We can now use this information to access interactions of orders 2 and 3."
   ]
  },
  {
   "cell_type": "code",
   "execution_count": null,
   "id": "2b1d5372-07b4-4bea-9e98-be8f9ecba720",
   "metadata": {},
   "outputs": [],
   "source": [
    "higher_order_df = df_metadata[df_metadata[\"order\"].isin([2, 3])]\n",
    "higher_order_df"
   ]
  }
 ],
 "metadata": {
  "kernelspec": {
   "display_name": ".venv",
   "language": "python",
   "name": "python3"
  },
  "language_info": {
   "codemirror_mode": {
    "name": "ipython",
    "version": 3
   },
   "file_extension": ".py",
   "mimetype": "text/x-python",
   "name": "python",
   "nbconvert_exporter": "python",
   "pygments_lexer": "ipython3",
   "version": "3.11.4"
  }
 },
 "nbformat": 4,
 "nbformat_minor": 5
}
