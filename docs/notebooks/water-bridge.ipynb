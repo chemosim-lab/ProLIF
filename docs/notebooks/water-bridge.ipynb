{
 "cells": [
  {
   "cell_type": "markdown",
   "id": "6f7fd278-8fab-480e-a437-33f8ae0fa37c",
   "metadata": {},
   "source": [
    "# Water-bridge Interactions\n",
    "\n",
    "This tutorial showcases how to use ProLIF to generate an interaction fingerprint including water-mediated hydrogen-bond interactions, and analyze the interactions for a ligand-protein complex."
   ]
  },
  {
   "cell_type": "markdown",
   "id": "2e1596f5-2a04-4bd5-83e3-429590408be8",
   "metadata": {},
   "source": [
    "## Preparation\n",
    "\n",
    "Let's start by importing MDAnalysis and ProLIF to read our tutorial files and create selections for the ligand, protein and water.\n",
    "\n",
    ":::{important}\n",
    "It is advised to select for the protein and water selection only the residues in close distance to the ligand,\n",
    "else the generation of the fingerprint will be time consuming due to the amount of analyzed atoms.\n",
    ":::\n",
    "\n",
    "For the selection of the protein in this tutorial we only select the resiudes around 15.0 Å of the ligand.\n",
    "\n",
    ":::{tip}\n",
    "For the water component it is possible to update the `AtomGroup` distance-based selection at every frame,\n",
    "which is convenient considering the large movements of water molecules during most simulations.\n",
    "**Do not use `updating=True` for the protein selection**, it will produce wrong results.\n",
    ":::\n",
    "\n",
    "For the water selection we select the water residues around 4 Å of the ligand or protein. You may need to increase this\n",
    "distance threshold to investigate very high-order water-mediated interactions."
   ]
  },
  {
   "cell_type": "code",
   "execution_count": null,
   "id": "fd4334f0-2970-4c76-bbc4-516a2f6f2dd3",
   "metadata": {},
   "outputs": [],
   "source": [
    "import MDAnalysis as mda\n",
    "import prolif as plf\n",
    "\n",
    "# load topology and trajectory\n",
    "u = mda.Universe(plf.datafiles.WATER_TOP, plf.datafiles.WATER_TRAJ)\n",
    "\n",
    "# create selections for the ligand and protein\n",
    "ligand_selection = u.select_atoms(\"resname QNB\")\n",
    "protein_selection = u.select_atoms(\n",
    "    \"protein and byres around 15 group ligand\",\n",
    "    ligand=ligand_selection,\n",
    ")\n",
    "water_selection = u.select_atoms(\n",
    "    \"resname TIP3 and byres around 4 (group ligand or group pocket)\",\n",
    "    ligand=ligand_selection,\n",
    "    pocket=protein_selection,\n",
    "    updating=True,\n",
    ")\n",
    "ligand_selection, protein_selection, water_selection"
   ]
  },
  {
   "cell_type": "markdown",
   "id": "5f4476bf-4c74-4e8c-a910-7967ce1b7d4c",
   "metadata": {},
   "source": [
    "Now we perform the calculation of the interactions.\n",
    "In this tutorial we only focus on the water bridge interactions, but you can also include the other typical ligand-protein interactions in the list of interactions.\n",
    "\n",
    ":::{important}\n",
    "When using `WaterBridge`, you must specify the `water` parameter with your atomgroup selection.\n",
    ":::\n",
    "\n",
    "By default, the `WaterBridge` interaction will only look at bridges including a single water molecule, i.e. `ligand---water---protein`.\n",
    "Here, we will look at the water bridges up to order 3 (i.e. there can be up to 3 water molecules),\n",
    "for this we explicitely provide `order=3` in the parameters of the `WaterBridge` interaction (defaults to `1`)."
   ]
  },
  {
   "cell_type": "code",
   "execution_count": null,
   "id": "c7227c75-f75a-4e2c-ad7a-427a2eeab147",
   "metadata": {},
   "outputs": [],
   "source": [
    "fp = plf.Fingerprint(\n",
    "    [\"WaterBridge\"], parameters={\"WaterBridge\": {\"water\": water_selection, \"order\": 3}}\n",
    ")"
   ]
  },
  {
   "cell_type": "markdown",
   "id": "ac5ab807",
   "metadata": {},
   "source": [
    "Then we simply run the analysis. The way the `WaterBridge` analysis is performed under the hood,\n",
    "three successive runs are executed:\n",
    "- between the ligand and water\n",
    "- between the protein and water\n",
    "- between the water molecules\n",
    "\n",
    "The results are then collated together using `networkx`.\n",
    "\n",
    ":::{note}\n",
    "For practical reasons, the `WaterBridge` analysis only runs in serial.\n",
    ":::"
   ]
  },
  {
   "cell_type": "code",
   "execution_count": null,
   "id": "ae591b9f-7e57-4812-b1aa-2a72299f037c",
   "metadata": {},
   "outputs": [],
   "source": [
    "fp.run(u.trajectory, ligand_selection, protein_selection)"
   ]
  },
  {
   "cell_type": "markdown",
   "id": "47128dc6-efe3-493c-a6b5-5126235be901",
   "metadata": {},
   "source": [
    "## Visualization\n",
    "\n",
    "The trajectory that we use consists of 20 frames. Let's analyze the water bridge interactions that are present in the trajectory. For this we generate a DataFrame, which shows which interactions occur during each frame of the simulation."
   ]
  },
  {
   "cell_type": "code",
   "execution_count": null,
   "id": "99f7cf32-cfc3-4922-803e-4ee9ff52f38c",
   "metadata": {},
   "outputs": [],
   "source": [
    "df = fp.to_dataframe()\n",
    "df"
   ]
  },
  {
   "cell_type": "markdown",
   "id": "3e17778f-1e9d-4106-ab0a-1837e660b3d4",
   "metadata": {},
   "source": [
    "We now sort the values to identify which of the water bridge interactions appears more frequently than the others."
   ]
  },
  {
   "cell_type": "code",
   "execution_count": null,
   "id": "8ac9c899-2764-44af-88cb-d9faaef96309",
   "metadata": {},
   "outputs": [],
   "source": [
    "# percentage of the trajectory where each interaction is present\n",
    "df.mean().sort_values(ascending=False).to_frame(name=\"%\").T * 100"
   ]
  },
  {
   "cell_type": "markdown",
   "id": "43563594-0fd7-4173-a1cb-a4c8f43c996a",
   "metadata": {},
   "source": [
    "We can also analyze the water bridge interactions using a barcode plot."
   ]
  },
  {
   "cell_type": "code",
   "execution_count": null,
   "id": "03a6d36d-e3b3-4b56-89a6-49fb5adb44a2",
   "metadata": {},
   "outputs": [],
   "source": [
    "fp.plot_barcode(figsize=(8, 3))"
   ]
  },
  {
   "cell_type": "markdown",
   "id": "0a72d2bc-1224-403a-af62-164ea8dc20cb",
   "metadata": {},
   "source": [
    "We can also visualize water-mediated interactions using the `LigNetwork` plot.\n",
    "Here we can also see the water bridges with higher orders, where the water molecules interact \n",
    "with each other thus building water bridges.\n",
    "\n",
    ":::{tip}\n",
    "The threshold for interactions to be displayed in `fp.plot_lignetwork()` is `0.3`. Thus only interactions with an occurence of more than 30 % will appear with the default settings, so don't forget to adjust the threshold if you want to see interactions with lower occurence.\n",
    ":::"
   ]
  },
  {
   "cell_type": "code",
   "execution_count": null,
   "id": "359c107c-4383-4fdc-bf87-973cc2662ac6",
   "metadata": {},
   "outputs": [],
   "source": [
    "ligand_mol = plf.Molecule.from_mda(ligand_selection)\n",
    "view = fp.plot_lignetwork(ligand_mol, threshold=0.05)\n",
    "view"
   ]
  },
  {
   "cell_type": "markdown",
   "id": "508f127c-8cf8-41e9-a97a-419f2a6d14db",
   "metadata": {},
   "source": [
    "We can also visualize water-mediated interactions in 3D with the `plot_3d` function. Here is an example of the water-mediated interaction between the protein and ligand present in frame `0`.\n",
    "\n",
    ":::{note} For the `plot_3d` we need to have the `protein`, `ligand` and `water` all as `plf.Molecule`, thus a conversion from `mda.AtomGroup`may be required, which we used for `fp.run()`. These serve than as inputs in `plot_3d()`.:::"
   ]
  },
  {
   "cell_type": "code",
   "execution_count": null,
   "id": "4a8a7693-a18c-4ba6-a6bc-3b3bd7585383",
   "metadata": {},
   "outputs": [],
   "source": [
    "protein_mol = plf.Molecule.from_mda(protein_selection)\n",
    "water_mol = plf.Molecule.from_mda(water_selection)\n",
    "view = fp.plot_3d(ligand_mol, protein_mol, water_mol, frame=0, display_all=False)\n",
    "view"
   ]
  },
  {
   "cell_type": "markdown",
   "id": "492e9026-1c8d-4ed6-b8f3-49a6e3d86933",
   "metadata": {},
   "source": [
    "## Water Bridge Interaction Metadata\n",
    "\n",
    "The current example showed if specific water bridge interactions are present or not during the simulation.\n",
    "During the analysis, some metadata about the interaction is stored:\n",
    "- the indices of atoms involved in each component (ligan, protein or water),\n",
    "- the \"order\" of the water-mediated interaction, i.e. how many water molecules are involved in the bridge,\n",
    "- the residue identifier of the water molecules,\n",
    "- the role of the ligand and protein (H-bond acceptor or donor),\n",
    "- distances for each HBond interaction forming the bridge (and their sum)."
   ]
  },
  {
   "cell_type": "code",
   "execution_count": null,
   "id": "6284e9ff",
   "metadata": {},
   "outputs": [],
   "source": [
    "frame = 0\n",
    "all_interaction_data = fp.ifp[frame].interactions()\n",
    "next(all_interaction_data)"
   ]
  },
  {
   "cell_type": "markdown",
   "id": "f027e4dd",
   "metadata": {},
   "source": [
    "Next we show how to access and process the metadata stored after the calculation of the interactions, using a pandas Dataframe for convenience."
   ]
  },
  {
   "cell_type": "code",
   "execution_count": null,
   "id": "7da6cc77-de7f-4a71-aa23-eeb68d890cb3",
   "metadata": {},
   "outputs": [],
   "source": [
    "import pandas as pd\n",
    "\n",
    "all_metadata = []\n",
    "\n",
    "for frame, ifp in fp.ifp.items():\n",
    "    for interaction_data in ifp.interactions():\n",
    "        if interaction_data.interaction == \"WaterBridge\":\n",
    "            flat = {\n",
    "                \"frame\": frame,\n",
    "                \"ligand_residue\": interaction_data.ligand,\n",
    "                \"protein_residue\": interaction_data.protein,\n",
    "                \"water_residues\": \" \".join(\n",
    "                    map(str, interaction_data.metadata[\"water_residues\"])\n",
    "                ),\n",
    "                \"order\": interaction_data.metadata[\"order\"],\n",
    "                \"ligand_role\": interaction_data.metadata[\"ligand_role\"],\n",
    "                \"protein_role\": interaction_data.metadata[\"protein_role\"],\n",
    "                \"total_distance\": interaction_data.metadata[\"distance\"],\n",
    "            }\n",
    "            all_metadata.append(flat)\n",
    "\n",
    "df_metadata = pd.DataFrame(all_metadata)\n",
    "df_metadata"
   ]
  },
  {
   "cell_type": "markdown",
   "id": "c53a91ea-60d3-430c-b3b9-5730bb26c51f",
   "metadata": {},
   "source": [
    "We can now use this information to access interactions of orders 2 and 3 only to perform further analysis."
   ]
  },
  {
   "cell_type": "code",
   "execution_count": null,
   "id": "2b1d5372-07b4-4bea-9e98-be8f9ecba720",
   "metadata": {},
   "outputs": [],
   "source": [
    "# count the occurence of each water residue in bridged interactions of higher order\n",
    "(\n",
    "    df_metadata[df_metadata[\"order\"].isin([2, 3])][\"water_residues\"]\n",
    "    .str.split(\" \")\n",
    "    .explode()\n",
    "    .value_counts()\n",
    ")"
   ]
  },
  {
   "cell_type": "markdown",
   "id": "f42ddda4-03ad-4628-922d-b1ea7c042efe",
   "metadata": {},
   "source": [
    "## Ligand set Analysis\n",
    "\n",
    "It is possible to analyze docking poses and lists of compounds with `ProLIF` through the `run_from_iterable` function.\n",
    "In this section, we will showcase how `run_from_iterable` can be used for the analysis of water-mediated interactions.\n",
    "\n",
    "For this we will create a set of ligand poses via the iteration through the trajectory, while writing out the ligand during each frame, thus obtaining `20` ligand poses."
   ]
  },
  {
   "cell_type": "code",
   "execution_count": null,
   "id": "000c7205-ff76-4f33-bb20-7e31aaaf9ea1",
   "metadata": {},
   "outputs": [],
   "source": [
    "import MDAnalysis as mda\n",
    "import prolif as plf\n",
    "from prolif import Fingerprint\n",
    "\n",
    "# Create list of ligand poses using from_mda at each frame\n",
    "ligand_poses = []\n",
    "for ts in u.trajectory:\n",
    "    ligand_mol = plf.Molecule.from_mda(ligand_selection)\n",
    "    ligand_poses.append(ligand_mol)"
   ]
  },
  {
   "cell_type": "markdown",
   "id": "b169e824-4acd-4a0b-abfb-901f22f56278",
   "metadata": {},
   "source": [
    "Now that we have created ligand poses we can use the `run_from_iterable` function to analyze the interactions of each ligand pose.\n",
    "\n",
    ":::{note} For the `Fingerprint` that we will use in the `run_from_iterable` function we need to have the water selection input as `plf.Molecule`, while for the `run`function we used `mda.AtomGroup` as input for the water selection. :::"
   ]
  },
  {
   "cell_type": "code",
   "execution_count": null,
   "id": "ea56125f-f272-4ab7-836b-365da6a3b6e7",
   "metadata": {},
   "outputs": [],
   "source": [
    "# Setup Fingerprint with desired interactions\n",
    "fp = Fingerprint([\"WaterBridge\"], parameters={\"WaterBridge\": {\"water\": water_mol, \"order\": 3}})\n",
    "\n",
    "# Run fingerprint on ligand poses and protein molecule\n",
    "fps = fp.run_from_iterable(ligand_poses, protein_mol)\n",
    "\n",
    "print(fps)\n"
   ]
  },
  {
   "cell_type": "markdown",
   "id": "b90a9693-9b3a-4929-8c1a-b59e07c62258",
   "metadata": {},
   "source": [
    "Now, let's examine the results of the analysis."
   ]
  },
  {
   "cell_type": "code",
   "execution_count": null,
   "id": "9cb7c555-d81d-4536-8df3-902bdb89543f",
   "metadata": {},
   "outputs": [],
   "source": [
    "df = fp.to_dataframe(index_col=\"Pose\")\n",
    "# show only the 5 first poses\n",
    "df.head(20)"
   ]
  },
  {
   "cell_type": "markdown",
   "id": "4cca3d57-2816-48ff-8573-7dd7a59519b6",
   "metadata": {},
   "source": [
    "Finally, we can compare the docking poses and the interactions they do. For this, we look at the poses during frames `0` and `2` to see the difference in their interactions."
   ]
  },
  {
   "cell_type": "code",
   "execution_count": null,
   "id": "1129e6da-8940-4f69-9dc7-e9a3fbe71901",
   "metadata": {},
   "outputs": [],
   "source": [
    "from prolif.plotting.complex3d import Complex3D\n",
    "\n",
    "pose_index = 0\n",
    "comp3D = Complex3D.from_fingerprint(\n",
    "    fp, ligand_poses[pose_index], protein_mol, water_mol, frame=pose_index\n",
    ")\n",
    "\n",
    "pose_index = 2\n",
    "other_comp3D = Complex3D.from_fingerprint(\n",
    "    fp, ligand_poses[pose_index], protein_mol, water_mol, frame=19\n",
    ")\n",
    "\n",
    "view = comp3D.compare(other_comp3D)\n",
    "view"
   ]
  },
  {
   "cell_type": "code",
   "execution_count": null,
   "id": "37a13ce3-510c-465f-8848-f2724bc4bb84",
   "metadata": {},
   "outputs": [],
   "source": []
  }
 ],
 "metadata": {
  "kernelspec": {
   "display_name": "Python 3 (ipykernel)",
   "language": "python",
   "name": "python3"
  },
  "language_info": {
   "codemirror_mode": {
    "name": "ipython",
    "version": 3
   },
   "file_extension": ".py",
   "mimetype": "text/x-python",
   "name": "python",
   "nbconvert_exporter": "python",
   "pygments_lexer": "ipython3",
   "version": "3.12.8"
  }
 },
 "nbformat": 4,
 "nbformat_minor": 5
}
