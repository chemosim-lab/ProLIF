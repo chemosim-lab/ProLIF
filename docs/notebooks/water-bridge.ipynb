{
 "cells": [
  {
   "cell_type": "markdown",
   "id": "6f7fd278-8fab-480e-a437-33f8ae0fa37c",
   "metadata": {},
   "source": [
    "# Water-bridge Interactions\n",
    "\n",
    "This tutorial showcases how to use ProLIF to generate an interaction fingerprint including water-mediated hydrogen-bond interactions, and analyze the interactions for a ligand-protein complex."
   ]
  },
  {
   "cell_type": "markdown",
   "id": "2e1596f5-2a04-4bd5-83e3-429590408be8",
   "metadata": {},
   "source": [
    "## Preparation for MD trajectory\n",
    "\n",
    "Let's start by importing MDAnalysis and ProLIF to read our tutorial files and create selections for the ligand, protein and water.\n",
    "\n",
    ":::{important}\n",
    "It is advised to select for the protein and water selection only the residues in close distance to the ligand,\n",
    "else the generation of the fingerprint will be time consuming due to the amount of analyzed atoms.\n",
    ":::\n",
    "\n",
    "For the selection of the protein in this tutorial we only select the residues around 12.0 Å of the ligand.\n",
    "\n",
    ":::{tip}\n",
    "For the water component it is possible to update the `AtomGroup` distance-based selection at every frame,\n",
    "which is convenient considering the large movements of water molecules during most simulations.\n",
    "**Do not use `updating=True` for the protein selection**, it will produce wrong results.\n",
    ":::\n",
    "\n",
    "For the water selection we select the water residues around 8 Å of the ligand or protein.\n",
    "You may adjust this distance threshold based on whether you're investigating higher-order\n",
    "water-mediated interactions (which require a higher threshold to select all relevant waters)\n",
    "or not."
   ]
  },
  {
   "cell_type": "code",
   "execution_count": null,
   "id": "fd4334f0-2970-4c76-bbc4-516a2f6f2dd3",
   "metadata": {},
   "outputs": [],
   "source": [
    "import MDAnalysis as mda\n",
    "import pandas as pd\n",
    "import prolif as plf\n",
    "\n",
    "# load example topology and trajectory\n",
    "u = mda.Universe(plf.datafiles.WATER_TOP, plf.datafiles.WATER_TRAJ)\n",
    "\n",
    "# create selections for the ligand and protein\n",
    "ligand_selection = u.select_atoms(\"resname QNB\")\n",
    "protein_selection = u.select_atoms(\n",
    "    \"protein and byres around 12 group ligand\",\n",
    "    ligand=ligand_selection,\n",
    ")\n",
    "water_selection = u.select_atoms(\n",
    "    \"resname TIP3 and byres around 8 (group ligand or group pocket)\",\n",
    "    ligand=ligand_selection,\n",
    "    pocket=protein_selection,\n",
    "    updating=True,\n",
    ")\n",
    "ligand_selection, protein_selection, water_selection"
   ]
  },
  {
   "cell_type": "markdown",
   "metadata": {},
   "source": [
    "## Preparation for docking poses\n",
    "\n",
    "To run a water-bridge analysis with ProLIF for a PDB file and docking poses, you will need\n",
    "to create 3 objects: a protein molecule (`plf.Molecule`), a collection of ligand molecules\n",
    "(e.g. a list of `plf.Molecule`), and a water molecule (`plf.Molecule`).\n",
    "\n",
    "**To create the protein and ligand(s) for your use case, refer to the {doc}`docking </notebooks/docking>` tutorial.**\n",
    "\n",
    ":::{warning}\n",
    "To keep the size of test files to a minimum, here we will create molecules directly\n",
    "from the MD trajectory above, instead of using PDB/MOL2/SDF/PDBQT files.\n",
    "Please follow the instructions given in the relevant tutorial closely instead.\n",
    ":::"
   ]
  },
  {
   "cell_type": "code",
   "execution_count": null,
   "metadata": {},
   "outputs": [],
   "source": [
    "# create list of ligand poses for each frame in the MD trajectory\n",
    "ligand_poses = [plf.Molecule.from_mda(ligand_selection) for ts in u.trajectory]\n",
    "# create protein\n",
    "protein_mol = plf.Molecule.from_mda(protein_selection + water_selection)"
   ]
  },
  {
   "cell_type": "markdown",
   "metadata": {},
   "source": [
    "With this out of the way, we can now create the molecule object containing our waters.\n",
    "\n",
    "TODO: function for separating the protein from waters"
   ]
  },
  {
   "cell_type": "code",
   "execution_count": null,
   "metadata": {},
   "outputs": [],
   "source": [
    "# TODO\n",
    "protein_mol = plf.Molecule.from_mda(protein_selection)\n",
    "water_mol = plf.Molecule.from_mda(water_selection)"
   ]
  },
  {
   "cell_type": "markdown",
   "id": "5f4476bf-4c74-4e8c-a910-7967ce1b7d4c",
   "metadata": {},
   "source": [
    "## Analysis\n",
    "\n",
    "Now we perform the calculation of the interactions.\n",
    "In this tutorial we only focus on the water bridge interactions, but you can also include the other typical ligand-protein interactions in the list of interactions.\n",
    "\n",
    ":::{important}\n",
    "When using `WaterBridge`, you must specify the `water` parameter with either your atomgroup selection\n",
    "if using an MD trajectory, or the water molecule if using PDB/docking files.\n",
    ":::\n",
    "\n",
    "By default, the `WaterBridge` interaction will only look at bridges including a single water molecule, i.e. `ligand---water---protein`.\n",
    "Here, we will look at the water bridges up to order 3 (i.e. there can be up to 3 water molecules),\n",
    "for this we explicitely provide `order=3` in the parameters of the `WaterBridge` interaction (defaults to `1`)."
   ]
  },
  {
   "cell_type": "code",
   "execution_count": null,
   "id": "c7227c75-f75a-4e2c-ad7a-427a2eeab147",
   "metadata": {},
   "outputs": [],
   "source": [
    "# for docking poses, replace water_selection with water_mol\n",
    "fp = plf.Fingerprint(\n",
    "    [\"WaterBridge\"], parameters={\"WaterBridge\": {\"water\": water_selection, \"order\": 3}}\n",
    ")"
   ]
  },
  {
   "cell_type": "markdown",
   "id": "ac5ab807",
   "metadata": {},
   "source": [
    "Then we simply run the analysis. The way the `WaterBridge` analysis is performed under the hood,\n",
    "three successive runs are executed:\n",
    "- between the ligand and water\n",
    "- between the protein and water\n",
    "- between the water molecules\n",
    "\n",
    "The results are then collated together using `networkx`.\n",
    "\n",
    ":::{note}\n",
    "For practical reasons, the `WaterBridge` analysis only runs in serial.\n",
    ":::"
   ]
  },
  {
   "cell_type": "code",
   "execution_count": null,
   "id": "ae591b9f-7e57-4812-b1aa-2a72299f037c",
   "metadata": {},
   "outputs": [],
   "source": [
    "# for MD trajectories\n",
    "fp.run(u.trajectory, ligand_selection, protein_selection)"
   ]
  },
  {
   "cell_type": "markdown",
   "metadata": {},
   "source": [
    "```python\n",
    "# for docking poses\n",
    "fp.run_from_iterable(ligand_poses, protein_mol)\n",
    "```"
   ]
  },
  {
   "cell_type": "markdown",
   "id": "47128dc6-efe3-493c-a6b5-5126235be901",
   "metadata": {},
   "source": [
    "## Visualization\n",
    "\n",
    "The example files that we use consists of 20 frames/poses.\n",
    "Let's analyze the water bridge interactions that are present in the trajectory.\n",
    "For this we generate a DataFrame, which shows which interactions occur during each frame of the simulation."
   ]
  },
  {
   "cell_type": "code",
   "execution_count": null,
   "id": "99f7cf32-cfc3-4922-803e-4ee9ff52f38c",
   "metadata": {},
   "outputs": [],
   "source": [
    "df = fp.to_dataframe()\n",
    "df"
   ]
  },
  {
   "cell_type": "markdown",
   "id": "3e17778f-1e9d-4106-ab0a-1837e660b3d4",
   "metadata": {},
   "source": [
    "We now sort the values to identify which of the water bridge interactions appears more frequently than the others."
   ]
  },
  {
   "cell_type": "code",
   "execution_count": null,
   "id": "8ac9c899-2764-44af-88cb-d9faaef96309",
   "metadata": {},
   "outputs": [],
   "source": [
    "# percentage of the trajectory where each interaction is present\n",
    "df.mean().sort_values(ascending=False).to_frame(name=\"%\").T * 100"
   ]
  },
  {
   "cell_type": "markdown",
   "id": "43563594-0fd7-4173-a1cb-a4c8f43c996a",
   "metadata": {},
   "source": [
    "We can also analyze the water bridge interactions using a barcode plot."
   ]
  },
  {
   "cell_type": "code",
   "execution_count": null,
   "id": "03a6d36d-e3b3-4b56-89a6-49fb5adb44a2",
   "metadata": {},
   "outputs": [],
   "source": [
    "fp.plot_barcode(figsize=(8, 3))"
   ]
  },
  {
   "cell_type": "markdown",
   "id": "0a72d2bc-1224-403a-af62-164ea8dc20cb",
   "metadata": {},
   "source": [
    "We can also visualize water-mediated interactions using the `LigNetwork` plot.\n",
    "Here we can also see the water bridges with higher orders, where the water molecules interact \n",
    "with each other thus building water bridges.\n",
    "\n",
    ":::{tip}\n",
    "The threshold for interactions to be displayed in `fp.plot_lignetwork()` is `0.3`. Thus only interactions with an occurence of more than 30 % will appear with the default settings, so don't forget to adjust the threshold if you want to see interactions with lower occurence.\n",
    ":::"
   ]
  },
  {
   "cell_type": "code",
   "execution_count": null,
   "id": "359c107c-4383-4fdc-bf87-973cc2662ac6",
   "metadata": {},
   "outputs": [],
   "source": [
    "ligand_mol = plf.Molecule.from_mda(ligand_selection)\n",
    "view = fp.plot_lignetwork(ligand_mol, threshold=0.05)\n",
    "view"
   ]
  },
  {
   "cell_type": "markdown",
   "id": "508f127c-8cf8-41e9-a97a-419f2a6d14db",
   "metadata": {},
   "source": [
    "We can also visualize water-mediated interactions in 3D with the `plot_3d` function. Here is an example of the water-mediated interaction between the protein and ligand present in frame/pose `0`.\n",
    "\n",
    ":::{note}\n",
    "For `plot_3d` we need to provide the `protein`, `ligand` and `water` objects as `plf.Molecule`,\n",
    "thus if you're using an MD trajectory, a conversion from the `mda.AtomGroup` selection\n",
    "which we used for `fp.run()` may be required:\n",
    ":::"
   ]
  },
  {
   "cell_type": "code",
   "execution_count": null,
   "id": "4a8a7693-a18c-4ba6-a6bc-3b3bd7585383",
   "metadata": {},
   "outputs": [],
   "source": [
    "# preparation for MD trajectories only\n",
    "frame = 2\n",
    "u.trajectory[frame]  # seek frame to update coordinates of atomgroup objects\n",
    "ligand_mol = plf.Molecule.from_mda(ligand_selection, use_segid=fp.use_segid)\n",
    "protein_mol = plf.Molecule.from_mda(protein_selection, use_segid=fp.use_segid)\n",
    "water_mol = plf.Molecule.from_mda(water_selection, use_segid=fp.use_segid)"
   ]
  },
  {
   "cell_type": "code",
   "execution_count": null,
   "metadata": {},
   "outputs": [],
   "source": [
    "frame = 2\n",
    "view = fp.plot_3d(ligand_mol, protein_mol, water_mol, frame=frame)\n",
    "view"
   ]
  },
  {
   "cell_type": "markdown",
   "metadata": {},
   "source": [
    "You can also compare different poses/frames, please refer to the relevant {ref}`source/tutorials:Tutorials` and\n",
    "simply add `water_mol` in the `plot_3d` call."
   ]
  },
  {
   "cell_type": "markdown",
   "id": "492e9026-1c8d-4ed6-b8f3-49a6e3d86933",
   "metadata": {},
   "source": [
    "## Water Bridge Interaction Metadata\n",
    "\n",
    "The current example showed if specific water bridge interactions are present or not during the simulation.\n",
    "During the analysis, some metadata about the interaction is stored:\n",
    "- the indices of atoms involved in each component (ligan, protein or water),\n",
    "- the \"order\" of the water-mediated interaction, i.e. how many water molecules are involved in the bridge,\n",
    "- the residue identifier of the water molecules,\n",
    "- the role of the ligand and protein (H-bond acceptor or donor),\n",
    "- distances for each HBond interaction forming the bridge (and their sum)."
   ]
  },
  {
   "cell_type": "code",
   "execution_count": null,
   "id": "6284e9ff",
   "metadata": {},
   "outputs": [],
   "source": [
    "frame = 0\n",
    "all_interaction_data = fp.ifp[frame].interactions()\n",
    "next(all_interaction_data)"
   ]
  },
  {
   "cell_type": "markdown",
   "id": "f027e4dd",
   "metadata": {},
   "source": [
    "Next we show how to access and process the metadata stored after the calculation of the interactions, using a pandas Dataframe for convenience."
   ]
  },
  {
   "cell_type": "code",
   "execution_count": null,
   "id": "7da6cc77-de7f-4a71-aa23-eeb68d890cb3",
   "metadata": {},
   "outputs": [],
   "source": [
    "all_metadata = []\n",
    "\n",
    "for frame, ifp in fp.ifp.items():\n",
    "    for interaction_data in ifp.interactions():\n",
    "        if interaction_data.interaction == \"WaterBridge\":\n",
    "            flat = {\n",
    "                \"frame\": frame,\n",
    "                \"ligand_residue\": interaction_data.ligand,\n",
    "                \"protein_residue\": interaction_data.protein,\n",
    "                \"water_residues\": \" \".join(\n",
    "                    map(str, interaction_data.metadata[\"water_residues\"])\n",
    "                ),\n",
    "                \"order\": interaction_data.metadata[\"order\"],\n",
    "                \"ligand_role\": interaction_data.metadata[\"ligand_role\"],\n",
    "                \"protein_role\": interaction_data.metadata[\"protein_role\"],\n",
    "                \"total_distance\": interaction_data.metadata[\"distance\"],\n",
    "            }\n",
    "            all_metadata.append(flat)\n",
    "\n",
    "df_metadata = pd.DataFrame(all_metadata)\n",
    "df_metadata"
   ]
  },
  {
   "cell_type": "markdown",
   "id": "c53a91ea-60d3-430c-b3b9-5730bb26c51f",
   "metadata": {},
   "source": [
    "We can now use this information to access interactions of orders 2 and 3 only to perform further analysis."
   ]
  },
  {
   "cell_type": "code",
   "execution_count": null,
   "id": "2b1d5372-07b4-4bea-9e98-be8f9ecba720",
   "metadata": {},
   "outputs": [],
   "source": [
    "# count the occurence of each water residue in bridged interactions of higher order\n",
    "(\n",
    "    df_metadata[df_metadata[\"order\"].isin([2, 3])][\"water_residues\"]\n",
    "    .str.split(\" \")\n",
    "    .explode()\n",
    "    .value_counts()\n",
    ")"
   ]
  }
 ],
 "metadata": {
  "kernelspec": {
   "display_name": ".venv",
   "language": "python",
   "name": "python3"
  },
  "language_info": {
   "codemirror_mode": {
    "name": "ipython",
    "version": 3
   },
   "file_extension": ".py",
   "mimetype": "text/x-python",
   "name": "python",
   "nbconvert_exporter": "python",
   "pygments_lexer": "ipython3",
   "version": "3.11.4"
  }
 },
 "nbformat": 4,
 "nbformat_minor": 2
}
