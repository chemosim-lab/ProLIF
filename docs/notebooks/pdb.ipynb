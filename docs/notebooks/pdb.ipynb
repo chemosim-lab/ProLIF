{
 "cells": [
  {
   "attachments": {},
   "cell_type": "markdown",
   "metadata": {},
   "source": [
    "# PDB\n",
    "\n",
    "This tutorial showcases how to use ProLIF to generate an interaction fingerprint for interactions between a protein and a ligand in a PDB file. There are several preparation steps which you need to follow before generating an interaction fingerprint with ProLIF.\n",
    "\n",
    ":::{important}\n",
    "For convenience, the different files for this tutorial are included with the ProLIF installation, and we'll access these files through `plf.datafiles.datapath` which is a {class}`pathlib.Path` object pointing to the tutorials data directory. This makes it easier to manipulate paths to files, match filenames using wildcards...etc. in a Pythonic way, but you can also use plain strings, e.g. `\"/home/user/prolif/data/vina/rec.pdb\"` instead of `plf.datafiles.datapath / \"vina\" / \"rec.pdb\"` if you prefer.\n",
    "\n",
    "**Remember to replace any reference to `plf.datafiles.datapath` with the actual paths to your inputs outside of this tutorial.**\n",
    ":::\n",
    "\n",
    ":::{tip}\n",
    "At the top of the page you can find links to either download this notebook or run it in\n",
    "Google Colab. You can install the dependencies for the tutorials with the command:\n",
    "\n",
    "```shell\n",
    "pip install prolif[tutorials]\n",
    "```\n",
    ":::"
   ]
  },
  {
   "cell_type": "markdown",
   "metadata": {},
   "source": [
    "## Prerequisite\n",
    "\n",
    "The first step is to split your PDB file in two: one file for the protein and one file for the ligand.\n",
    "There are different ways to do that, from the command line with `grep`, or from a GUI such as PyMOL.\n",
    "\n",
    ":::{important}\n",
    "Make sure that each file produced either has all bonds explicitely stated, or none of them.\n",
    ":::\n",
    "\n",
    "## Protein preparation\n",
    "\n",
    "In order to generate a valid molecule (with bond orders and charges) from a PDB file and correctly detect HBond interactions, **ProLIF requires the protein file to contain explicit hydrogens.**\n",
    "\n",
    ":::{note}\n",
    "Having only polar hydrogens explicit may work if you use RDKit for reading the file, although they are some caveats around protonable residues such as histidines which RDKit may not recognize correctly due to naming conventions, we therefore encourage users to have **all hydrogens explicit** in the file and use MDAnalysis instead.\n",
    ":::\n",
    "\n",
    "In order to protonate residues in your protein file, there are several strategies available, via command-line tools that you can install locally, or webservers, here are a few suggestions:\n",
    "- [PypKa](https://pypka.org/) available through a [webserver](https://pypka.org/run-pypka/) or as a [CLI tool](https://pypka.readthedocs.io/),\n",
    "- [H++](http://newbiophysics.cs.vt.edu/H++/) webserver\n",
    "- [PDB2PQR](https://server.poissonboltzmann.org/) available through a [webserver](https://server.poissonboltzmann.org/pdb2pqr) or as a [CLI tool](https://pdb2pqr.readthedocs.io/). Make sure to then convert the output PQR file to a PDB file.\n",
    "\n",
    "Once this step is done, and you've verified that the prepared PDB file contains explicit hydrogens (and optionally explicit bonds), we can finally use that as input.\n",
    "We have 2 options to read the protein file: MDAnalysis (preferred) or RDKit (faster but risky, see below).\n",
    "\n",
    "### With MDAnalysis\n",
    "\n",
    "This is the recommended way of reading your prepared protein PDB file:"
   ]
  },
  {
   "cell_type": "code",
   "execution_count": null,
   "metadata": {},
   "outputs": [],
   "source": [
    "import MDAnalysis as mda\n",
    "import prolif as plf\n",
    "\n",
    "protein_file = str(plf.datafiles.datapath / \"vina\" / \"rec.pdb\")\n",
    "\n",
    "u = mda.Universe(protein_file)\n",
    "protein_mol = plf.Molecule.from_mda(u)\n",
    "protein_mol.n_residues"
   ]
  },
  {
   "cell_type": "markdown",
   "metadata": {},
   "source": [
    "We can have a quick look at each residue individually using the following command (we'll only check residues 260 to 262 as there's an histidine in there which could be problematic):"
   ]
  },
  {
   "cell_type": "code",
   "execution_count": null,
   "metadata": {},
   "outputs": [],
   "source": [
    "# check that residues 260 to 262 were processed correctly\n",
    "# remove the `slice(260, 263)` part to show all residues\n",
    "plf.display_residues(protein_mol, slice(260, 263))"
   ]
  },
  {
   "cell_type": "markdown",
   "metadata": {},
   "source": [
    ":::{admonition} Troubleshooting\n",
    "\n",
    "**`Explicit valence for atom <...> is greater than permitted`**\n",
    "\n",
    "If your file did not contain explicit bonds, MDAnalysis will automatically run its connectivity-perception algorithm. This could result in some atomic clashes that may be incorrectly classified as bonds and will prevent the conversion of the MDAnalysis molecule to RDKit through ProLIF. Since MDAnalysis uses van der Waals radii for bond detection, one can modify the default radii that are used:\n",
    "\n",
    "```python\n",
    "u.atoms.guess_bonds(vdwradii={\"H\": 1.05, \"O\": 1.48})\n",
    "```\n",
    "\n",
    "Alternatively you could use some GUI tools like PyMOL to write the bonds (CONECT record) in your file and then reread it here.\n",
    "\n",
    ":::"
   ]
  },
  {
   "cell_type": "markdown",
   "metadata": {},
   "source": [
    "### With RDKit\n",
    "\n",
    ":::{important}\n",
    "While RDKit is going to be much faster at parsing the file, it can only recognize standard residue names, so some protonated residues may be incorrectly parsed.\n",
    "\n",
    "For example, the protonated histidine residue HSE347 in our protein is not correcltly parsed which removes aromaticity on the ring, meaning that ProLIF will not be able to match this residue for pi-stacking interactions.\n",
    ":::"
   ]
  },
  {
   "cell_type": "code",
   "execution_count": null,
   "metadata": {},
   "outputs": [],
   "source": [
    "from rdkit import Chem\n",
    "\n",
    "rdkit_prot = Chem.MolFromPDBFile(protein_file, removeHs=False)\n",
    "rdkit_protein_mol = plf.Molecule(rdkit_prot)\n",
    "# histidine HSE347 not recognized by RDKit\n",
    "plf.display_residues(rdkit_protein_mol, slice(260, 263))"
   ]
  },
  {
   "cell_type": "markdown",
   "metadata": {},
   "source": [
    "## Ligand preparation\n",
    "\n",
    "As for the protein structure, we'll need our prepared ligand file to contain explicit hydrogens.\n",
    "There are different ways to do this.\n",
    "\n",
    "One could load the ligand file (or the whole structure) in PyMOL, select the ligand, add explicit hydrogens, and export the file as SDF, then use the following snippet:"
   ]
  },
  {
   "cell_type": "code",
   "execution_count": null,
   "metadata": {},
   "outputs": [],
   "source": [
    "# read SDF\n",
    "ligand_file = str(plf.datafiles.datapath / \"vina\" / \"vina_output.sdf\")\n",
    "ligand_mol = plf.sdf_supplier(ligand_file)[0]\n",
    "# display ligand\n",
    "plf.display_residues(ligand_mol, size=(400, 200))"
   ]
  },
  {
   "cell_type": "markdown",
   "metadata": {},
   "source": [
    "If you only have a PDB file with hydrogens, you could use this code snippet instead:"
   ]
  },
  {
   "cell_type": "code",
   "execution_count": null,
   "metadata": {},
   "outputs": [],
   "source": [
    "# load PDB with explicit hydrogens\n",
    "ligand_file = str(plf.datafiles.datapath / \"vina\" / \"lig.pdb\")\n",
    "u = mda.Universe(ligand_file)\n",
    "ligand_mol = plf.Molecule.from_mda(u)\n",
    "# display ligand\n",
    "plf.display_residues(ligand_mol, size=(400, 200))"
   ]
  },
  {
   "cell_type": "markdown",
   "metadata": {},
   "source": [
    "Alternatively, PDB files from the Protein Data Bank usually provide the ligand as a SMILES string.\n",
    "\n",
    "We can use the following snippet to combine the SMILES string and the ligand PDB file to prepare a valid molecule for ProLIF:\n",
    "\n",
    "```python\n",
    "from rdkit import Chem\n",
    "from rdkit.Chem.AllChem import AssignBondOrdersFromTemplate\n",
    "\n",
    "pdb_ligand = Chem.MolFromPDBFile(str(plf.datafiles.datapath / \"vina\" / \"lig.pdb\"))\n",
    "smiles_mol = Chem.MolFromSmiles(\"C[NH+]1CC(C(=O)NC2(C)OC3(O)C4CCCN4C(=O)C(Cc4ccccc4)N3C2=O)C=C2c3cccc4[nH]cc(c34)CC21\")\n",
    "mol = AssignBondOrdersFromTemplate(smiles_mol, pdb_ligand)\n",
    "mol_h = Chem.AddHs(mol)\n",
    "ligand_mol = plf.Molecule.from_rdkit(mol_h)\n",
    "```"
   ]
  },
  {
   "attachments": {},
   "cell_type": "markdown",
   "metadata": {},
   "source": [
    "## Fingerprint generation\n",
    "\n",
    "We can now generate a fingerprint. By default, ProLIF will calculate the following interactions: Hydrophobic, HBDonor, HBAcceptor, PiStacking, Anionic, Cationic, CationPi, PiCation, VdWContact.\n",
    "You can list all interactions that are available with the following command:"
   ]
  },
  {
   "cell_type": "code",
   "execution_count": null,
   "metadata": {},
   "outputs": [],
   "source": [
    "plf.Fingerprint.list_available()"
   ]
  },
  {
   "attachments": {},
   "cell_type": "markdown",
   "metadata": {},
   "source": [
    ":::{tip}\n",
    "The default fingerprint will only keep track of the first group of atoms that satisfied the constraints per interaction type and residue pair.\n",
    "\n",
    "If you want to keep track of all possible interactions to generate a count-fingerprint (e.g. when there are two atoms in the ligand that make an HBond-donor interaction with residue X), use `plf.Fingerprint(count=True)`.\n",
    "This is also quite useful for visualization purposes as you can then display the atom pair that has the shortest distance which will look more accurate.\n",
    "This fingerprint type is however a bit slower to compute.\n",
    ":::"
   ]
  },
  {
   "cell_type": "code",
   "execution_count": null,
   "metadata": {},
   "outputs": [],
   "source": [
    "# use default interactions\n",
    "fp = plf.Fingerprint()\n",
    "# run on your poses\n",
    "fp.run_from_iterable([ligand_mol], protein_mol)"
   ]
  },
  {
   "attachments": {},
   "cell_type": "markdown",
   "metadata": {},
   "source": [
    ":::{tip}\n",
    "The `run_from_iterable` method will automatically select residues that are close to the ligand (6.0 Å) when computing the fingerprint. You can modify the 6.0 Å cutoff by specifying `plf.Fingerprint(vicinity_cutoff=7.0)`, but this is only useful if you decide to change the distance parameters for an interaction class (see in the advanced section of the tutorials).\n",
    "\n",
    "Alternatively, you can pass a list of residues like so:\n",
    "\n",
    "```python\n",
    "fp.run_from_iterable(<other parameters>, residues=[\"TYR38.A\", \"ASP129.A\"])\n",
    "```\n",
    ":::"
   ]
  },
  {
   "cell_type": "markdown",
   "metadata": {},
   "source": [
    "You can save the fingerprint object with `fp.to_pickle` and reload it later with `Fingerprint.from_pickle`:"
   ]
  },
  {
   "cell_type": "code",
   "execution_count": null,
   "metadata": {},
   "outputs": [],
   "source": [
    "fp.to_pickle(\"fingerprint.pkl\")\n",
    "fp = plf.Fingerprint.from_pickle(\"fingerprint.pkl\")"
   ]
  },
  {
   "cell_type": "markdown",
   "metadata": {},
   "source": [
    "## Analysis\n",
    "\n",
    "Once the execution is done, you can access the results through `fp.ifp` which is a nested dictionary:"
   ]
  },
  {
   "cell_type": "code",
   "execution_count": null,
   "metadata": {},
   "outputs": [],
   "source": [
    "ligand_residue = \"LIG1.G\"\n",
    "protein_residue = \"ASP129.A\"\n",
    "\n",
    "fp.ifp[0][(ligand_residue, protein_residue)]"
   ]
  },
  {
   "cell_type": "markdown",
   "metadata": {},
   "source": [
    "While this contains all the details about the different interactions that were detected, it's not the easiest thing to digest.\n",
    "\n",
    "The best way to analyse our results is to export the interaction fingerprint to a Pandas DataFrame. You can read more about pandas in their\n",
    "[user_guide](https://pandas.pydata.org/docs/user_guide/index.html)."
   ]
  },
  {
   "cell_type": "code",
   "execution_count": null,
   "metadata": {},
   "outputs": [],
   "source": [
    "df = fp.to_dataframe()\n",
    "df.T"
   ]
  },
  {
   "cell_type": "markdown",
   "metadata": {},
   "source": [
    ":::{admonition} Troubleshooting\n",
    "If the dataframe only shows VdWContact interactions and nothing else, you may have a skipped the\n",
    "protein preparation step for protein PDB file: **either all bonds should be explicit, or none of them.**\n",
    "\n",
    "If you only have partial bonds in your PDB file, MDAnalysis won't trigger the bond guessing algorithm so\n",
    "your protein is essentially a point cloud that can't match with any of the atom selections\n",
    "specified by interactions other than VdW.\n",
    "\n",
    "To fix this, simply add the following line after creating a `Universe` from your protein file\n",
    "with MDAnalysis:\n",
    "\n",
    "```python\n",
    "u.atoms.guess_bonds()\n",
    "```\n",
    "and rerun the rest of the notebook.\n",
    "\n",
    ":::"
   ]
  },
  {
   "cell_type": "markdown",
   "metadata": {},
   "source": [
    "Here are some common pandas snippets to extract useful information from the fingerprint table."
   ]
  },
  {
   "cell_type": "code",
   "execution_count": null,
   "metadata": {},
   "outputs": [],
   "source": [
    "# hide an interaction type (Hydrophobic)\n",
    "df.drop(\"Hydrophobic\", level=\"interaction\", axis=1).T"
   ]
  },
  {
   "cell_type": "code",
   "execution_count": null,
   "metadata": {},
   "outputs": [],
   "source": [
    "# show only one protein residue (ASP129.A)\n",
    "df.xs(\"ASP129.A\", level=\"protein\", axis=1).T"
   ]
  },
  {
   "cell_type": "code",
   "execution_count": null,
   "metadata": {},
   "outputs": [],
   "source": [
    "# show only an interaction type (PiStacking)\n",
    "df.xs(\"PiStacking\", level=\"interaction\", axis=1).T"
   ]
  },
  {
   "attachments": {},
   "cell_type": "markdown",
   "metadata": {},
   "source": [
    "## Visualisation\n",
    "\n",
    "There are a few different options builtin when it comes to visualisation.\n",
    "\n",
    "You can display the interactions in a 2D interactive diagram:"
   ]
  },
  {
   "cell_type": "code",
   "execution_count": null,
   "metadata": {},
   "outputs": [],
   "source": [
    "view = fp.plot_lignetwork(ligand_mol, kind=\"frame\", frame=0)\n",
    "view"
   ]
  },
  {
   "cell_type": "markdown",
   "metadata": {},
   "source": [
    "This diagram is interactive, you can:\n",
    "- zoom and pan,\n",
    "- move residues around,\n",
    "- click on the legend to display or hide types of residues or interactions,\n",
    "- hover an interaction line to display the distance.\n",
    "\n",
    ":::{note}\n",
    "After arranging the residues to your liking, you can save the plot as a PNG image with:\n",
    "```python\n",
    "view.save_png()\n",
    "```\n",
    "Note that this only works in notebooks and cannot be used in regular Python scripts.\n",
    ":::"
   ]
  },
  {
   "cell_type": "markdown",
   "metadata": {},
   "source": [
    "Up to now we've only been using the default fingerprint generator, but you can optionally enable the `count` parameter to enumerate all occurences of an interaction (the default fingerprint generator will stop at the first occurence), and then display all of them by specifying `display_all=True`:"
   ]
  },
  {
   "cell_type": "code",
   "execution_count": null,
   "metadata": {},
   "outputs": [],
   "source": [
    "fp_count = plf.Fingerprint(count=True)\n",
    "fp_count.run_from_iterable([ligand_mol], protein_mol)\n",
    "view = fp_count.plot_lignetwork(ligand_mol, kind=\"frame\", frame=0, display_all=True)\n",
    "view"
   ]
  },
  {
   "cell_type": "markdown",
   "metadata": {},
   "source": [
    "You can also visualize this information in 3D:"
   ]
  },
  {
   "cell_type": "code",
   "execution_count": null,
   "metadata": {},
   "outputs": [],
   "source": [
    "view = fp_count.plot_3d(ligand_mol, protein_mol, frame=0, display_all=False)\n",
    "view"
   ]
  },
  {
   "cell_type": "markdown",
   "metadata": {},
   "source": [
    "As in the lignetwork plot, you can hover atoms and interactions to display more information.\n",
    "\n",
    "The advantage of using a count fingerprint in that case is that it will automatically select the interaction occurence with the shortest distance for a more intuitive visualization.\n",
    "\n",
    "Once you're satisfied with the orientation, you can export the view as a PNG image with:\n",
    "\n",
    "```python\n",
    "view.save_png()\n",
    "```\n",
    "Note that this only works in notebooks and cannot be used in regular Python scripts."
   ]
  }
 ],
 "metadata": {
  "interpreter": {
   "hash": "8787e9fc73b27535744a25d17e74686c0add9df598b8e27ca04412fce7f0c7ae"
  },
  "kernelspec": {
   "display_name": "Python 3.8.5 ('prolif')",
   "language": "python",
   "name": "python3"
  },
  "language_info": {
   "codemirror_mode": {
    "name": "ipython",
    "version": 3
   },
   "file_extension": ".py",
   "mimetype": "text/x-python",
   "name": "python",
   "nbconvert_exporter": "python",
   "pygments_lexer": "ipython3",
   "version": "3.9.13"
  }
 },
 "nbformat": 4,
 "nbformat_minor": 2
}
