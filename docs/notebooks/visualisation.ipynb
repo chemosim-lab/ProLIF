{
 "metadata": {
  "language_info": {
   "codemirror_mode": {
    "name": "ipython",
    "version": 3
   },
   "file_extension": ".py",
   "mimetype": "text/x-python",
   "name": "python",
   "nbconvert_exporter": "python",
   "pygments_lexer": "ipython3",
   "version": "3.8.5-final"
  },
  "orig_nbformat": 2,
  "kernelspec": {
   "name": "python38564bitprolifconda6f88be71e4394ccb9ad64335b88224ec",
   "display_name": "Python 3.8.5 64-bit ('prolif': conda)",
   "language": "python"
  }
 },
 "nbformat": 4,
 "nbformat_minor": 2,
 "cells": [
  {
   "source": [
    "# Visualisation\n",
    "\n",
    "This notebook showcases different ways of visualizing lig-prot and prot-prot interactions, either with atomistic details or simply at the residue level.\n",
    "\n",
    "### This is a work in progress..."
   ],
   "cell_type": "markdown",
   "metadata": {}
  },
  {
   "cell_type": "code",
   "execution_count": null,
   "metadata": {},
   "outputs": [],
   "source": [
    "import MDAnalysis as mda\n",
    "import prolif as plf\n",
    "# load topology\n",
    "u = mda.Universe(plf.datafiles.TOP)\n",
    "lig = u.select_atoms(\"resname LIG\")\n",
    "prot = u.select_atoms(\"protein\")"
   ]
  },
  {
   "cell_type": "code",
   "execution_count": null,
   "metadata": {},
   "outputs": [],
   "source": [
    "# create RDKit-like molecules for visualisation\n",
    "lmol = plf.Molecule.from_mda(lig)\n",
    "pmol = plf.Molecule.from_mda(prot)\n",
   ]
  },
  {
   "cell_type": "code",
   "execution_count": null,
   "metadata": {},
   "outputs": [],
   "source": [
    "# get lig-prot interactions with atom info\n",
    "fp = plf.Fingerprint()\n",
    "fp.run(u.trajectory, lig, prot, return_atoms=True)\n",
    "df = fp.to_dataframe()\n",
    "df.T.head()"
   ]
  },
  {
   "source": [
    "## RDKit\n",
    "\n",
    "This isn't necessarily optimal but it does the trick. Since we are not using atom indices from the whole protein but from the residues, we need to dig a bit inside each atom properties to find the corresponding index."
   ],
   "cell_type": "markdown",
   "metadata": {}
  },
  {
   "cell_type": "code",
   "execution_count": null,
   "metadata": {},
   "outputs": [],
   "source": [
    "from rdkit import Chem\n",
    "from rdkit.Chem import AllChem, Draw\n",
    "\n",
    "lresid, presid, interaction = ('LIG1.G', 'ASP129.A', 'Cationic')\n",
    "\n",
    "def find_index(mol, index):\n",
    "    for a in mol.GetAtoms():\n",
    "        if a.GetUnsignedProp(\"mapindex\") == index:\n",
    "            return a.GetIdx()\n",
    "\n",
    "lres = lmol[lresid]\n",
    "pres = pmol[presid]\n",
    "lindex, pindex = df[(lresid, presid, interaction)][0]\n",
    "lindex = find_index(lres, lindex)\n",
    "pindex = find_index(pres, pindex)\n",
    "lres.GetAtomWithIdx(lindex).SetBoolProp(\"highlight\", True)\n",
    "pres.GetAtomWithIdx(pindex).SetBoolProp(\"highlight\", True)\n",
    "mol = AllChem.CombineMols(lres, pres)\n",
    "highlight_atoms = []\n",
    "for atom in mol.GetAtoms():\n",
    "    if atom.HasProp(\"highlight\"):\n",
    "        highlight_atoms.append(atom.GetIdx())\n",
    "# remove this line to show in 3D\n",
    "mol.RemoveAllConformers()\n",
    "Draw.MolToImage(mol, size=(800, 600), highlightAtoms=highlight_atoms)"
   ]
  },
  {
   "source": [
    "## PyMOL\n",
    "\n",
    "We will use PyMOL to interact with RDKit molecules thanks to the `rdkit.Chem.PyMOL` module.\n",
    "\n",
    "Lets start by launching PyMOL in server mode:\n",
    "\n",
    "...To be continued"
   ],
   "cell_type": "markdown",
   "metadata": {}
  },
  {
   "cell_type": "code",
   "execution_count": null,
   "metadata": {},
   "outputs": [],
   "source": [
    "from rdkit.Chem import PyMol"
   ]
  },
  {
   "cell_type": "code",
   "execution_count": null,
   "metadata": {},
   "outputs": [],
   "source": [
    "# colors = {\n",
    "#     \"HBAcceptor\": \"orange\",\n",
    "#     \"HBDonor\": \"cyan\",\n",
    "#     \"Cationic\": \"red\",\n",
    "#     \"PiStacking\": \"purple\",\n",
    "# }\n",
    "# s = PyMol.MolViewer(port=9125)\n",
    "# s.DeleteAll()\n",
    "# s.ShowMol(lmol, name=\"ligand\", showOnly=False, showSticks=True)\n",
    "# s.server.do(\"color green, ligand and elem C\")\n",
    "\n",
    "# for lresname, presname, interaction in df.columns:\n",
    "\n",
    "#     ids = [t for t in atoms[res] if t[0] is not None][0]\n",
    "#     for a1 in lig_mol[0].GetAtoms():\n",
    "#         if a1.GetUnsignedProp(\"mapindex\") == ids[0]:\n",
    "#             break\n",
    "    \n",
    "#     for a2 in prot_mol[res].GetAtoms():\n",
    "#         if a2.GetUnsignedProp(\"mapindex\") == ids[1]:\n",
    "#             break\n",
    "#     resname = f\"res{str(res)[:-2]}\"\n",
    "#     s.ShowMol(prot_mol[res], name=resname, showOnly=False)\n",
    "#     s.server.do(f\"color green, {resname} and elem C\")\n",
    "#     s.server.do(f\"distance lig-{resname}, ligand and id {a1.GetIdx()+1}, {resname} and id {a2.GetIdx()+1}\")\n",
    "#     s.server.do(f\"hide label, lig-{resname}\")\n",
    "#     itype = list(fp.interactions.keys())[np.where(ifp[res] == True)[0][0]]\n",
    "#     color = colors[itype]\n",
    "#     s.server.do(f\"color {color}, lig-{resname}\")"
   ]
  }
 ]
}
