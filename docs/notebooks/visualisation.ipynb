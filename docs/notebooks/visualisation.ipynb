{
 "cells": [
  {
   "cell_type": "markdown",
   "metadata": {},
   "source": [
    "# Visualisation\n",
    "\n",
    "This notebook showcases different ways of visualizing lig-prot and prot-prot interactions, either with atomistic details or simply at the residue level."
   ]
  },
  {
   "cell_type": "code",
   "execution_count": null,
   "metadata": {},
   "outputs": [],
   "source": [
    "import MDAnalysis as mda\n",
    "import prolif as plf\n",
    "from rdkit import Chem\n",
    "from rdkit.Geometry import Point3D\n",
    "\n",
    "# load topology\n",
    "u = mda.Universe(plf.datafiles.TOP, plf.datafiles.TRAJ)\n",
    "lig = u.select_atoms(\"resname LIG\")\n",
    "# restrict protein to 10 angstroms around the ligand\n",
    "prot = u.select_atoms(\"protein and byres around 10 group ligand\", ligand=lig)"
   ]
  },
  {
   "cell_type": "code",
   "execution_count": null,
   "metadata": {},
   "outputs": [],
   "source": [
    "# create RDKit-like molecules for visualisation\n",
    "lmol = plf.Molecule.from_mda(lig)\n",
    "pmol = plf.Molecule.from_mda(prot)"
   ]
  },
  {
   "cell_type": "code",
   "execution_count": null,
   "metadata": {},
   "outputs": [],
   "source": [
    "# get lig-prot interactions\n",
    "fp = plf.Fingerprint()\n",
    "fp.run(u.trajectory[0:1], lig, prot)"
   ]
  },
  {
   "attachments": {},
   "cell_type": "markdown",
   "metadata": {},
   "source": [
    "## py3Dmol (3Dmol.js)\n",
    "\n",
    "With py3Dmol we can easily display the interactions.\n",
    "\n",
    "For interactions involving a ring (pi-cation, pi-stacking...etc.) ProLIF returns the index of one of the ring atoms, but for visualisation having the centroid of the ring looks nicer. We'll start by writing a function to find the centroid, given the indices of the ring atoms."
   ]
  },
  {
   "cell_type": "code",
   "execution_count": null,
   "metadata": {},
   "outputs": [],
   "source": [
    "def get_ring_centroid(mol, indices):\n",
    "    centroid = mol.xyz[list(indices)].mean(axis=0)\n",
    "    return Point3D(*centroid)"
   ]
  },
  {
   "cell_type": "markdown",
   "metadata": {},
   "source": [
    "Finally, the actual visualisation code. The API of py3Dmol is exactly the same as the GLViewer class of 3Dmol.js, for which the documentation can be found [here](https://3dmol.csb.pitt.edu/doc/$3Dmol.GLViewer.html)."
   ]
  },
  {
   "cell_type": "code",
   "execution_count": null,
   "metadata": {
    "scrolled": false
   },
   "outputs": [],
   "source": [
    "import py3Dmol\n",
    "\n",
    "colors = {\n",
    "    \"Hydrophobic\": \"green\",\n",
    "    \"HBAcceptor\": \"cyan\",\n",
    "    \"HBDonor\": \"cyan\",\n",
    "    \"XBDonor\": \"orange\",\n",
    "    \"XBAcceptor\": \"orange\",\n",
    "    \"Cationic\": \"red\",\n",
    "    \"Anionic\": \"blue\",\n",
    "    \"PiStacking\": \"purple\",\n",
    "}\n",
    "\n",
    "# JavaScript functions\n",
    "resid_hover = \"\"\"function(atom,viewer) {{\n",
    "    if(!atom.label) {{\n",
    "        atom.label = viewer.addLabel('{0}:'+atom.atom+atom.serial,\n",
    "            {{position: atom, backgroundColor: 'mintcream', fontColor:'black'}});\n",
    "    }}\n",
    "}}\"\"\"\n",
    "hover_func = \"\"\"\n",
    "function(atom,viewer) {\n",
    "    if(!atom.label) {\n",
    "        atom.label = viewer.addLabel(atom.interaction,\n",
    "            {position: atom, backgroundColor: 'black', fontColor:'white'});\n",
    "    }\n",
    "}\"\"\"\n",
    "unhover_func = \"\"\"\n",
    "function(atom,viewer) { \n",
    "    if(atom.label) {\n",
    "        viewer.removeLabel(atom.label);\n",
    "        delete atom.label;\n",
    "    }\n",
    "}\"\"\"\n",
    "\n",
    "v = py3Dmol.view(650, 600)\n",
    "v.removeAllModels()\n",
    "\n",
    "models = {}\n",
    "mid = -1\n",
    "ifp = next(iter(fp.ifp.values()))\n",
    "for (lresid, presid), interactions in ifp.items():\n",
    "    lres = lmol[lresid]\n",
    "    pres = pmol[presid]\n",
    "    # set model ids for reusing later\n",
    "    for resid, res, style in [\n",
    "        (lresid, lres, {\"colorscheme\": \"cyanCarbon\"}),\n",
    "        (presid, pres, {}),\n",
    "    ]:\n",
    "        if resid not in models.keys():\n",
    "            mid += 1\n",
    "            v.addModel(Chem.MolToMolBlock(res), \"sdf\")\n",
    "            model = v.getModel()\n",
    "            model.setStyle({}, {\"stick\": style})\n",
    "            # add residue label\n",
    "            model.setHoverable({}, True, resid_hover.format(resid), unhover_func)\n",
    "            models[resid] = mid\n",
    "    for interaction, metadata in interactions.items():\n",
    "        # get coordinates for both points of the interaction\n",
    "        if interaction in [\"PiStacking\", \"EdgeToFace\", \"FaceToFace\", \"PiCation\"]:\n",
    "            p1 = get_ring_centroid(lres, metadata[\"indices\"][\"ligand\"])\n",
    "        else:\n",
    "            p1 = lres.GetConformer().GetAtomPosition(metadata[\"indices\"][\"ligand\"][0])\n",
    "        if interaction in [\"PiStacking\", \"EdgeToFace\", \"FaceToFace\", \"CationPi\"]:\n",
    "            p2 = get_ring_centroid(pres, metadata[\"indices\"][\"protein\"])\n",
    "        else:\n",
    "            p2 = pres.GetConformer().GetAtomPosition(metadata[\"indices\"][\"protein\"][0])\n",
    "        # add interaction line\n",
    "        v.addCylinder(\n",
    "            {\n",
    "                \"start\": dict(x=p1.x, y=p1.y, z=p1.z),\n",
    "                \"end\": dict(x=p2.x, y=p2.y, z=p2.z),\n",
    "                \"color\": colors.get(interaction, \"grey\"),\n",
    "                \"radius\": 0.15,\n",
    "                \"dashed\": True,\n",
    "                \"fromCap\": 1,\n",
    "                \"toCap\": 1,\n",
    "            }\n",
    "        )\n",
    "        # add label when hovering the middle of the dashed line by adding a dummy atom\n",
    "        c = Point3D(*plf.utils.get_centroid([p1, p2]))\n",
    "        modelID = models[lresid]\n",
    "        model = v.getModel(modelID)\n",
    "        interaction_label = f\"{interaction}: {metadata['distance']:.2f}Å\"\n",
    "        model.addAtoms(\n",
    "            [\n",
    "                {\n",
    "                    \"elem\": \"Z\",\n",
    "                    \"x\": c.x,\n",
    "                    \"y\": c.y,\n",
    "                    \"z\": c.z,\n",
    "                    \"interaction\": interaction_label,\n",
    "                }\n",
    "            ]\n",
    "        )\n",
    "        model.setStyle(\n",
    "            {\"interaction\": interaction_label}, {\"clicksphere\": {\"radius\": 0.5}}\n",
    "        )\n",
    "        model.setHoverable(\n",
    "            {\"interaction\": interaction_label}, True, hover_func, unhover_func\n",
    "        )\n",
    "\n",
    "# show protein\n",
    "mol = Chem.RemoveAllHs(pmol)\n",
    "pdb = Chem.MolToPDBBlock(mol, flavor=0x20 | 0x10)\n",
    "v.addModel(pdb, \"pdb\")\n",
    "model = v.getModel()\n",
    "model.setStyle({}, {\"cartoon\": {\"style\": \"edged\"}})\n",
    "\n",
    "v.zoomTo({\"model\": list(models.values())})"
   ]
  },
  {
   "cell_type": "markdown",
   "metadata": {},
   "source": [
    "## Ligand Interaction Network (LigPlot)\n",
    "\n",
    "Protein-ligand interactions are typically represented with the ligand in atomic details, residues as nodes, and interactions as edges. Such diagram can be easily displayed by calling ProLIF's builtin class `prolif.plotting.network.LigNetwork`.\n",
    "This diagram is interactive and allows moving around the residues, as well as clicking the legend to toggle the display of specific residues types or interactions.\n",
    "LigNetwork can generate two kinds of depictions:\n",
    "\n",
    "- Based on a single specific frame\n",
    "- By aggregating results from several frames\n",
    "\n",
    "In the latter case, the frequency with which an interaction is seen will control the width of the corresponding edge. You can hide the least frequent interactions by using a threshold, *i.e.* `threshold=0.3` will hide interactions that occur in less than 30% of frames."
   ]
  },
  {
   "cell_type": "code",
   "execution_count": null,
   "metadata": {},
   "outputs": [],
   "source": [
    "fp = plf.Fingerprint()\n",
    "fp.run(u.trajectory[::10], lig, prot)\n",
    "net = fp.to_ligplot(\n",
    "    lmol,\n",
    "    # replace with `kind=\"frame\", frame=0` for the other depiction\n",
    "    kind=\"aggregate\",\n",
    "    threshold=0.3,\n",
    "    rotation=270,\n",
    ")\n",
    "net.display()"
   ]
  },
  {
   "cell_type": "markdown",
   "metadata": {},
   "source": [
    "You can further customize the diagram by changing the colors in `LigNetwork.COLORS` or the residues types in `LigNetwork.RESIDUE_TYPES`. Type `help(LigNetwork)` for more details.  \n",
    "The diagram can be saved as an HTML file by calling `net.save(\"output.html\")`. It is not currently possible to export it as an image, so please make a screenshot instead.  \n",
    "You can combine both saving and displaying the diagram with `net.show(\"output.html\")`."
   ]
  },
  {
   "cell_type": "markdown",
   "metadata": {},
   "source": [
    "## NetworkX and pyvis\n",
    "\n",
    "NetworkX is a great library for working with graphs, but the drawing options are quickly limited so we will use networkx to create a graph, and pyvis to create interactive plots. The following code snippet will calculate the IFP, each residue (ligand or protein) is converted to a node, each interaction to an edge, and the occurence of each interaction between residues will be used to control the weight and thickness of each edge."
   ]
  },
  {
   "cell_type": "code",
   "execution_count": null,
   "metadata": {},
   "outputs": [],
   "source": [
    "import networkx as nx\n",
    "from pyvis.network import Network\n",
    "from matplotlib import cm, colors\n",
    "from IPython.display import IFrame"
   ]
  },
  {
   "cell_type": "code",
   "execution_count": null,
   "metadata": {
    "scrolled": false
   },
   "outputs": [],
   "source": [
    "# get lig-prot interactions and distance between residues\n",
    "\n",
    "fp = plf.Fingerprint()\n",
    "fp.run(u.trajectory[::10], lig, prot)\n",
    "df = fp.to_dataframe()\n",
    "df.head()"
   ]
  },
  {
   "cell_type": "code",
   "execution_count": null,
   "metadata": {},
   "outputs": [],
   "source": [
    "def make_graph(\n",
    "    values,\n",
    "    df=None,\n",
    "    node_color=[\"#FFB2AC\", \"#ACD0FF\"],\n",
    "    node_shape=\"dot\",\n",
    "    edge_color=\"#a9a9a9\",\n",
    "    width_multiplier=1,\n",
    "):\n",
    "    \"\"\"Convert a pandas DataFrame to a NetworkX object\n",
    "\n",
    "    Parameters\n",
    "    ----------\n",
    "    values : pandas.Series\n",
    "        Series with 'ligand' and 'protein' levels, and a unique value for\n",
    "        each lig-prot residue pair that will be used to set the width and weigth\n",
    "        of each edge. For example:\n",
    "\n",
    "            ligand  protein\n",
    "            LIG1.G  ALA216.A    0.66\n",
    "                    ALA343.B    0.10\n",
    "\n",
    "    df : pandas.DataFrame\n",
    "        DataFrame obtained from the fp.to_dataframe() method\n",
    "        Used to label each edge with the type of interaction\n",
    "\n",
    "    node_color : list\n",
    "        Colors for the ligand and protein residues, respectively\n",
    "\n",
    "    node_shape : str\n",
    "        One of ellipse, circle, database, box, text or image, circularImage,\n",
    "        diamond, dot, star, triangle, triangleDown, square, icon.\n",
    "\n",
    "    edge_color : str\n",
    "        Color of the edge between nodes\n",
    "\n",
    "    width_multiplier : int or float\n",
    "        Each edge's width is defined as `width_multiplier * value`\n",
    "    \"\"\"\n",
    "    lig_res = values.index.get_level_values(\"ligand\").unique().tolist()\n",
    "    prot_res = values.index.get_level_values(\"protein\").unique().tolist()\n",
    "\n",
    "    G = nx.Graph()\n",
    "    # add nodes\n",
    "    # https://pyvis.readthedocs.io/en/latest/documentation.html#pyvis.network.Network.add_node\n",
    "    for res in lig_res:\n",
    "        G.add_node(\n",
    "            res, title=res, shape=node_shape, color=node_color[0], dtype=\"ligand\"\n",
    "        )\n",
    "    for res in prot_res:\n",
    "        G.add_node(\n",
    "            res, title=res, shape=node_shape, color=node_color[1], dtype=\"protein\"\n",
    "        )\n",
    "\n",
    "    for resids, value in values.items():\n",
    "        label = \"{} - {}<br>{}\".format(\n",
    "            *resids,\n",
    "            \"<br>\".join(\n",
    "                [\n",
    "                    f\"{k}: {v}\"\n",
    "                    for k, v in (\n",
    "                        df.xs(resids, level=[\"ligand\", \"protein\"], axis=1)\n",
    "                        .sum()\n",
    "                        .to_dict()\n",
    "                        .items()\n",
    "                    )\n",
    "                ]\n",
    "            ),\n",
    "        )\n",
    "        # https://pyvis.readthedocs.io/en/latest/documentation.html#pyvis.network.Network.add_edge\n",
    "        G.add_edge(\n",
    "            *resids,\n",
    "            title=label,\n",
    "            color=edge_color,\n",
    "            weight=value,\n",
    "            width=value * width_multiplier,\n",
    "        )\n",
    "\n",
    "    return G"
   ]
  },
  {
   "cell_type": "markdown",
   "metadata": {},
   "source": [
    "### Regrouping all interactions\n",
    "\n",
    "We will regroup all interactions as if they were equivalent."
   ]
  },
  {
   "cell_type": "code",
   "execution_count": null,
   "metadata": {},
   "outputs": [],
   "source": [
    "data = df.groupby(level=[\"ligand\", \"protein\"], axis=1).sum().astype(bool).mean()\n",
    "\n",
    "G = make_graph(data, df, width_multiplier=3)\n",
    "\n",
    "# display graph\n",
    "net = Network(width=600, height=500, notebook=True, heading=\"\")\n",
    "net.from_nx(G)\n",
    "net.write_html(\"lig-prot_graph.html\")\n",
    "IFrame(\"lig-prot_graph.html\", width=610, height=510)"
   ]
  },
  {
   "cell_type": "markdown",
   "metadata": {},
   "source": [
    "### Only plotting a specific interaction\n",
    "\n",
    "We can also plot a specific type of interaction."
   ]
  },
  {
   "cell_type": "code",
   "execution_count": null,
   "metadata": {},
   "outputs": [],
   "source": [
    "data = df.xs(\"Hydrophobic\", level=\"interaction\", axis=1).mean()\n",
    "\n",
    "G = make_graph(data, df, width_multiplier=3)\n",
    "\n",
    "# display graph\n",
    "net = Network(width=600, height=500, notebook=True, heading=\"\")\n",
    "net.from_nx(G)\n",
    "net.write_html(\"lig-prot_hydrophobic_graph.html\")\n",
    "IFrame(\"lig-prot_hydrophobic_graph.html\", width=610, height=510)"
   ]
  },
  {
   "cell_type": "markdown",
   "metadata": {},
   "source": [
    "### Protein-protein interaction\n",
    "\n",
    "This kind of \"residue-level\" visualisation is especially suitable for protein-protein interactions. Here we'll show the interactions between one helix of our G-Protein coupled receptor (transmembrane helix 3, or TM3) in red and the rest of the protein in blue."
   ]
  },
  {
   "cell_type": "code",
   "execution_count": null,
   "metadata": {},
   "outputs": [],
   "source": [
    "tm3 = u.select_atoms(\"resid 119:152\")\n",
    "prot = u.select_atoms(\"protein and not group tm3\", tm3=tm3)\n",
    "fp = plf.Fingerprint()\n",
    "fp.run(u.trajectory[::10], tm3, prot)\n",
    "df = fp.to_dataframe()\n",
    "df.head()"
   ]
  },
  {
   "cell_type": "code",
   "execution_count": null,
   "metadata": {},
   "outputs": [],
   "source": [
    "data = (\n",
    "    df.groupby(level=[\"ligand\", \"protein\"], axis=1, sort=False)\n",
    "    .sum()\n",
    "    .astype(bool)\n",
    "    .mean()\n",
    ")\n",
    "\n",
    "G = make_graph(data, df, width_multiplier=8)\n",
    "\n",
    "# color each node based on its degree\n",
    "max_nbr = len(max(G.adj.values(), key=lambda x: len(x)))\n",
    "blues = cm.get_cmap(\"Blues\", max_nbr)\n",
    "reds = cm.get_cmap(\"Reds\", max_nbr)\n",
    "for n, d in G.nodes(data=True):\n",
    "    n_neighbors = len(G.adj[n])\n",
    "    # show TM3 in red and the rest of the protein in blue\n",
    "    palette = reds if d[\"dtype\"] == \"ligand\" else blues\n",
    "    d[\"color\"] = colors.to_hex(palette(n_neighbors / max_nbr))\n",
    "\n",
    "# convert to pyvis network\n",
    "net = Network(width=640, height=500, notebook=True, heading=\"\")\n",
    "net.from_nx(G)\n",
    "net.write_html(\"prot-prot_graph.html\")\n",
    "IFrame(\"prot-prot_graph.html\", width=650, height=510)"
   ]
  },
  {
   "cell_type": "markdown",
   "metadata": {},
   "source": [
    "### Residue interaction network\n",
    "\n",
    "Another possible application is the visualisation of the residue interaction network of the whole protein. Since this protein is a GPCR, the graph will mostly display the HBond interactions reponsible for the secondary structure of the protein (7 alpha-helices). It would also show hydrophobic interactions between neighbor residues, so I'm simply going to disable it in the Fingerprint."
   ]
  },
  {
   "cell_type": "code",
   "execution_count": null,
   "metadata": {},
   "outputs": [],
   "source": [
    "prot = u.select_atoms(\"protein\")\n",
    "fp = plf.Fingerprint(\n",
    "    [\n",
    "        \"HBDonor\",\n",
    "        \"HBAcceptor\",\n",
    "        \"PiStacking\",\n",
    "        \"Anionic\",\n",
    "        \"Cationic\",\n",
    "        \"CationPi\",\n",
    "        \"PiCation\",\n",
    "    ]\n",
    ")\n",
    "fp.run(u.trajectory[::10], prot, prot)\n",
    "df = fp.to_dataframe()\n",
    "df.head()"
   ]
  },
  {
   "cell_type": "markdown",
   "metadata": {},
   "source": [
    "To hide most of the HBond interactions responsible for the alpha-helix structuration, I will show how to do it on the pandas DataFrame for simplicity, but ideally you should copy-paste the source code inside the `fp.run` method and add the condition shown below before calculating the bitvector for a residue pair, then use the custom function instead of `fp.run`. This would make the analysis faster and more memory efficient."
   ]
  },
  {
   "cell_type": "code",
   "execution_count": null,
   "metadata": {},
   "outputs": [],
   "source": [
    "# remove interactions between residues i and i±4 or less\n",
    "mask = []\n",
    "for l, p, interaction in df.columns:\n",
    "    lr = plf.ResidueId.from_string(l)\n",
    "    pr = plf.ResidueId.from_string(p)\n",
    "    if (pr == lr) or (\n",
    "        abs(pr.number - lr.number) <= 4\n",
    "        and interaction in [\"HBDonor\", \"HBAcceptor\", \"Hydrophobic\"]\n",
    "    ):\n",
    "        mask.append(False)\n",
    "    else:\n",
    "        mask.append(True)\n",
    "df = df[df.columns[mask]]\n",
    "df.head()"
   ]
  },
  {
   "cell_type": "code",
   "execution_count": null,
   "metadata": {},
   "outputs": [],
   "source": [
    "data = (\n",
    "    df.groupby(level=[\"ligand\", \"protein\"], axis=1, sort=False)\n",
    "    .sum()\n",
    "    .astype(bool)\n",
    "    .mean()\n",
    ")\n",
    "\n",
    "G = make_graph(data, df, width_multiplier=5)\n",
    "\n",
    "# color each node based on its degree\n",
    "max_nbr = len(max(G.adj.values(), key=lambda x: len(x)))\n",
    "palette = cm.get_cmap(\"YlGnBu\", max_nbr)\n",
    "for n, d in G.nodes(data=True):\n",
    "    n_neighbors = len(G.adj[n])\n",
    "    d[\"color\"] = colors.to_hex(palette(n_neighbors / max_nbr))\n",
    "\n",
    "# convert to pyvis network\n",
    "net = Network(width=640, height=500, notebook=True, heading=\"\")\n",
    "net.from_nx(G)\n",
    "\n",
    "# use specific layout\n",
    "layout = nx.circular_layout(G)\n",
    "for node in net.nodes:\n",
    "    node[\"x\"] = layout[node[\"id\"]][0] * 1000\n",
    "    node[\"y\"] = layout[node[\"id\"]][1] * 1000\n",
    "net.toggle_physics(False)\n",
    "\n",
    "net.write_html(\"residue-network_graph.html\")\n",
    "IFrame(\"residue-network_graph.html\", width=650, height=510)"
   ]
  },
  {
   "cell_type": "markdown",
   "metadata": {},
   "source": [
    "End of this notebook. If you have other suggestions for displaying interaction fingerprints, please create a new [Discussion](https://github.com/chemosim-lab/ProLIF/discussions) on GitHub 👍"
   ]
  },
  {
   "cell_type": "markdown",
   "metadata": {},
   "source": [
    "*List of files to be automatically copied to the docs:*\n",
    "\n",
    "* [lig-prot_graph.html](lig-prot_graph.html)\n",
    "* [lig-prot_hydrophobic_graph.html](lig-prot_hydrophobic_graph.html)\n",
    "* [prot-prot_graph.html](prot-prot_graph.html)\n",
    "* [residue-network_graph.html](residue-network_graph.html)"
   ]
  }
 ],
 "metadata": {
  "interpreter": {
   "hash": "8787e9fc73b27535744a25d17e74686c0add9df598b8e27ca04412fce7f0c7ae"
  },
  "kernelspec": {
   "display_name": "Python 3.8.5 ('prolif')",
   "language": "python",
   "name": "python3"
  },
  "language_info": {
   "codemirror_mode": {
    "name": "ipython",
    "version": 3
   },
   "file_extension": ".py",
   "mimetype": "text/x-python",
   "name": "python",
   "nbconvert_exporter": "python",
   "pygments_lexer": "ipython3",
   "version": "3.9.13"
  }
 },
 "nbformat": 4,
 "nbformat_minor": 2
}
