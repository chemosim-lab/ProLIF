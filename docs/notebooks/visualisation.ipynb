{
 "cells": [
  {
   "cell_type": "markdown",
   "metadata": {},
   "source": [
    "# Visualisation\n",
    "\n",
    "This notebook showcases different ways of visualizing lig-prot and prot-prot interactions, either with atomistic details or simply at the residue level.\n",
    "\n",
    "### This is a work in progress..."
   ]
  },
  {
   "cell_type": "code",
   "execution_count": null,
   "metadata": {},
   "outputs": [],
   "source": [
    "import MDAnalysis as mda\n",
    "import prolif as plf\n",
    "# load topology\n",
    "u = mda.Universe(plf.datafiles.TOP)\n",
    "lig = u.select_atoms(\"resname LIG\")\n",
    "prot = u.select_atoms(\"protein\")"
   ]
  },
  {
   "cell_type": "code",
   "execution_count": null,
   "metadata": {},
   "outputs": [],
   "source": [
    "# create RDKit-like molecules for visualisation\n",
    "lmol = plf.Molecule.from_mda(lig)\n",
    "pmol = plf.Molecule.from_mda(prot)"
   ]
  },
  {
   "cell_type": "code",
   "execution_count": null,
   "metadata": {},
   "outputs": [],
   "source": [
    "# get lig-prot interactions with atom info\n",
    "fp = plf.Fingerprint([\"HBDonor\", \"HBAcceptor\", \"Cationic\", \"PiStacking\"])\n",
    "fp.run(u.trajectory, lig, prot, return_atoms=True)\n",
    "df = fp.to_dataframe()\n",
    "df.T"
   ]
  },
  {
   "cell_type": "markdown",
   "metadata": {},
   "source": [
    "## py3Dmol (3Dmol.js)\n",
    "\n",
    "With py3Dmol we can easily display the interactions.\n",
    "\n",
    "For interactions involving a ring (pi-cation, pi-stacking...etc.) ProLIF returns the index of one of the ring atoms, but for visualisation having the centroid of the ring looks nicer. We'll start by writing a function to find the centroid, given the index of one of the ring atoms."
   ]
  },
  {
   "cell_type": "code",
   "execution_count": null,
   "metadata": {},
   "outputs": [],
   "source": [
    "from rdkit import Chem\n",
    "from rdkit.Geometry import Point3D\n",
    "\n",
    "def get_ring_centroid(mol, index):\n",
    "    # find ring using the atom index\n",
    "    Chem.SanitizeMol(mol, Chem.SanitizeFlags.SANITIZE_SETAROMATICITY)\n",
    "    ri = mol.GetRingInfo()\n",
    "    for r in ri.AtomRings():\n",
    "        if index in r:\n",
    "            break\n",
    "    else:\n",
    "        raise ValueError(\"No ring containing this atom index was found in the given molecule\")\n",
    "    # get centroid\n",
    "    coords = mol.xyz[list(r)]\n",
    "    ctd = plf.utils.get_centroid(coords)\n",
    "    return Point3D(*ctd)"
   ]
  },
  {
   "cell_type": "markdown",
   "metadata": {},
   "source": [
    "Finally, the actual visualisation code. The API of py3Dmol is exactly the same as the GLViewer class of 3Dmol.js, for which the documentation can be found [here](https://3dmol.csb.pitt.edu/doc/$3Dmol.GLViewer.html)."
   ]
  },
  {
   "cell_type": "code",
   "execution_count": null,
   "metadata": {
    "scrolled": false
   },
   "outputs": [],
   "source": [
    "import py3Dmol\n",
    "\n",
    "colors = {\n",
    "    \"HBAcceptor\": \"blue\",\n",
    "    \"HBDonor\": \"red\",\n",
    "    \"Cationic\": \"green\",\n",
    "    \"PiStacking\": \"purple\",\n",
    "}\n",
    "\n",
    "v = py3Dmol.view(800, 600)\n",
    "v.removeAllModels()\n",
    "\n",
    "displayed = []\n",
    "for i, row in df.T.iterrows():\n",
    "    lresid, presid, interaction = i\n",
    "    lindex, pindex = row[0]\n",
    "    lres = lmol[lresid]\n",
    "    pres = pmol[presid]\n",
    "    if lresid not in displayed:\n",
    "        displayed.append(lresid)\n",
    "        v.addModel(Chem.MolToMolBlock(lres), \"sdf\")\n",
    "        v.setStyle({\"model\": -1}, {\"stick\": {\"colorscheme\": \"cyanCarbon\"}})\n",
    "    if presid not in displayed:\n",
    "        displayed.append(presid)\n",
    "        v.addModel(Chem.MolToMolBlock(pres), \"sdf\")\n",
    "        v.setStyle({\"model\": -1}, {\"stick\": {}})\n",
    "    p1 = lres.GetConformer().GetAtomPosition(lindex)\n",
    "    p2 = pres.GetConformer().GetAtomPosition(pindex)\n",
    "    if interaction in [\"PiStacking\", \"EdgeToFace\", \"FaceToFace\", \"PiCation\"]:\n",
    "        p1 = get_ring_centroid(lres, lindex)\n",
    "    if interaction in [\"PiStacking\", \"EdgeToFace\", \"FaceToFace\", \"CationPi\"]:\n",
    "        p2 = get_ring_centroid(pres, pindex)\n",
    "    v.addCylinder({\"start\": dict(x=p1.x, y=p1.y, z=p1.z),\n",
    "                   \"end\":   dict(x=p2.x, y=p2.y, z=p2.z),\n",
    "                   \"color\": colors[interaction],\n",
    "                   \"radius\": .15,\n",
    "                   \"dashed\": True,\n",
    "                   \"fromCap\": 1,\n",
    "                   \"toCap\": 1,\n",
    "                  })\n",
    "    \n",
    "v.zoomTo()\n",
    "v.show()"
   ]
  },
  {
   "cell_type": "markdown",
   "metadata": {},
   "source": [
    "## RDKit\n",
    "\n",
    "RDKit isn't really ideal for 3D visualisation, but it does the trick as a \"2D\" alternative. This script is given as a starting point for visualising the interactions with RDKit, as I'm sure there's a better way to do this."
   ]
  },
  {
   "cell_type": "code",
   "execution_count": null,
   "metadata": {},
   "outputs": [],
   "source": [
    "from rdkit import Chem, Geometry\n",
    "from rdkit.Chem import AllChem, Draw\n",
    "from collections import defaultdict\n",
    "from IPython import display\n",
    "\n",
    "colors = {\n",
    "    \"HBAcceptor\": (0,0,1),\n",
    "    \"HBDonor\": (1,0,0),\n",
    "    \"Cationic\": (0,1,0),\n",
    "    \"PiStacking\": (0.7,0.7,0.3),\n",
    "}\n",
    "\n",
    "# save displayed residues in a dict for easy access\n",
    "mols = {lresid: lmol[lresid] for lresid in df.columns.get_level_values(\"ligand\").unique()}\n",
    "mols.update({presid: pmol[presid] for presid in df.columns.get_level_values(\"protein\").unique()})\n",
    "\n",
    "# save inside each residue atoms which interaction to display,\n",
    "# along with a unique key\n",
    "for key, (i, row) in enumerate(df.T.iterrows()):\n",
    "    lresid, presid, interaction = i\n",
    "    lindex, pindex = row[0]\n",
    "    lres = mols[lresid]\n",
    "    pres = mols[presid]\n",
    "    name = f\"highlight_{interaction}\"\n",
    "    lres.GetAtomWithIdx(lindex).SetUnsignedProp(name, key)\n",
    "    pres.GetAtomWithIdx(pindex).SetUnsignedProp(name, key)\n",
    "\n",
    "# create molecule that combines all residues\n",
    "mol = Chem.Mol()\n",
    "for res in mols.values():\n",
    "    mol = AllChem.CombineMols(mol, res)\n",
    "\n",
    "# retrieve the indices of atoms to highlight in new molecule\n",
    "highlight_atoms = defaultdict(list)\n",
    "highlight_ints = defaultdict(list)\n",
    "for atom in mol.GetAtoms():\n",
    "    props = atom.GetPropsAsDict()\n",
    "    for prop, value in props.items():\n",
    "        if prop.startswith(\"highlight\"):\n",
    "            idx = atom.GetIdx()\n",
    "            interaction = prop.split(\"_\")[-1]\n",
    "            highlight_atoms[idx].append(colors[interaction])\n",
    "            highlight_ints[(interaction, value)].append(idx)\n",
    "\n",
    "# draw molecule\n",
    "d = Draw.MolDraw2DSVG(800, 600)\n",
    "opts = Draw.MolDrawOptions()\n",
    "opts.fillHighlights = False\n",
    "d.SetDrawOptions(opts)\n",
    "d.DrawMoleculeWithHighlights(mol, \"\", dict(highlight_atoms), {}, {}, {})\n",
    "\n",
    "# add lines for interactions\n",
    "conf = mol.GetConformer()\n",
    "for (interaction, _), aids in highlight_ints.items():\n",
    "    a1, a2 = aids\n",
    "    p1 = Geometry.Point2D(conf.GetAtomPosition(a1))\n",
    "    p2 = Geometry.Point2D(conf.GetAtomPosition(a2))\n",
    "    d.DrawWavyLine(p1, p2, colors[interaction], colors[interaction])\n",
    "\n",
    "# display\n",
    "d.FinishDrawing()\n",
    "display.SVG(d.GetDrawingText())"
   ]
  }
 ],
 "metadata": {
  "kernelspec": {
   "display_name": "Python 3.8.5 64-bit ('prolif': conda)",
   "language": "python",
   "name": "python38564bitprolifconda6f88be71e4394ccb9ad64335b88224ec"
  },
  "language_info": {
   "codemirror_mode": {
    "name": "ipython",
    "version": 3
   },
   "file_extension": ".py",
   "mimetype": "text/x-python",
   "name": "python",
   "nbconvert_exporter": "python",
   "pygments_lexer": "ipython3",
   "version": "3.8.5"
  }
 },
 "nbformat": 4,
 "nbformat_minor": 2
}