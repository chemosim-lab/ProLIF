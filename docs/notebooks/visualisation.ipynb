{
 "cells": [
  {
   "cell_type": "markdown",
   "metadata": {},
   "source": [
    "# Visualisation\n",
    "\n",
    "This notebook showcases different ways of visualizing lig-prot and prot-prot interactions, either with atomistic details or simply at the residue level.\n",
    "\n",
    "**This is a work in progress...**"
   ]
  },
  {
   "cell_type": "code",
   "execution_count": null,
   "metadata": {},
   "outputs": [],
   "source": [
    "import MDAnalysis as mda\n",
    "import prolif as plf\n",
    "# load topology\n",
    "u = mda.Universe(plf.datafiles.TOP)\n",
    "lig = u.select_atoms(\"resname LIG\")\n",
    "prot = u.select_atoms(\"protein\")"
   ]
  },
  {
   "cell_type": "code",
   "execution_count": null,
   "metadata": {},
   "outputs": [],
   "source": [
    "# create RDKit-like molecules for visualisation\n",
    "lmol = plf.Molecule.from_mda(lig)\n",
    "pmol = plf.Molecule.from_mda(prot)"
   ]
  },
  {
   "cell_type": "code",
   "execution_count": null,
   "metadata": {},
   "outputs": [],
   "source": [
    "# get lig-prot interactions with atom info\n",
    "fp = plf.Fingerprint([\"HBDonor\", \"HBAcceptor\", \"Cationic\", \"PiStacking\"])\n",
    "fp.run(u.trajectory, lig, prot, return_atoms=True)\n",
    "df = fp.to_dataframe()\n",
    "df.T"
   ]
  },
  {
   "cell_type": "markdown",
   "metadata": {},
   "source": [
    "## py3Dmol (3Dmol.js)\n",
    "\n",
    "With py3Dmol we can easily display the interactions.\n",
    "\n",
    "For interactions involving a ring (pi-cation, pi-stacking...etc.) ProLIF returns the index of one of the ring atoms, but for visualisation having the centroid of the ring looks nicer. We'll start by writing a function to find the centroid, given the index of one of the ring atoms."
   ]
  },
  {
   "cell_type": "code",
   "execution_count": null,
   "metadata": {},
   "outputs": [],
   "source": [
    "from rdkit import Chem\n",
    "from rdkit import Geometry\n",
    "\n",
    "def get_ring_centroid(mol, index):\n",
    "    # find ring using the atom index\n",
    "    Chem.SanitizeMol(mol, Chem.SanitizeFlags.SANITIZE_SETAROMATICITY)\n",
    "    ri = mol.GetRingInfo()\n",
    "    for r in ri.AtomRings():\n",
    "        if index in r:\n",
    "            break\n",
    "    else:\n",
    "        raise ValueError(\"No ring containing this atom index was found in the given molecule\")\n",
    "    # get centroid\n",
    "    coords = mol.xyz[list(r)]\n",
    "    ctd = plf.utils.get_centroid(coords)\n",
    "    return Geometry.Point3D(*ctd)"
   ]
  },
  {
   "cell_type": "markdown",
   "metadata": {},
   "source": [
    "Finally, the actual visualisation code. The API of py3Dmol is exactly the same as the GLViewer class of 3Dmol.js, for which the documentation can be found [here](https://3dmol.csb.pitt.edu/doc/$3Dmol.GLViewer.html)."
   ]
  },
  {
   "cell_type": "code",
   "execution_count": null,
   "metadata": {
    "scrolled": false
   },
   "outputs": [],
   "source": [
    "import py3Dmol\n",
    "\n",
    "colors = {\n",
    "    \"HBAcceptor\": \"blue\",\n",
    "    \"HBDonor\": \"red\",\n",
    "    \"Cationic\": \"green\",\n",
    "    \"PiStacking\": \"purple\",\n",
    "}\n",
    "\n",
    "hover_func = '''function(atom,viewer,event,container) {{\n",
    "                if(!atom.label) {{\n",
    "                    atom.label = viewer.addLabel('{interaction}',\n",
    "                                                 {{position: atom,\n",
    "                                                   backgroundColor: 'mintcream',\n",
    "                                                   fontColor:'black'}});\n",
    "                }}\n",
    "            }}'''\n",
    "unhover_func = '''function(atom,viewer) { \n",
    "                  if(atom.label) {\n",
    "                      viewer.removeLabel(atom.label);\n",
    "                      delete atom.label;\n",
    "                  }}'''\n",
    "\n",
    "v = py3Dmol.view(650, 600)\n",
    "v.removeAllModels()\n",
    "\n",
    "models = {}\n",
    "j = -1\n",
    "for i, row in df.T.iterrows():\n",
    "    lresid, presid, interaction = i\n",
    "    lindex, pindex = row[0]\n",
    "    lres = lmol[lresid]\n",
    "    pres = pmol[presid]\n",
    "    # set model ids for reusing later\n",
    "    if lresid not in models.keys():\n",
    "        j += 1\n",
    "        v.addModel(Chem.MolToMolBlock(lres), \"sdf\")\n",
    "        model = v.getModel()\n",
    "        model.setStyle({}, {\"stick\": {\"colorscheme\": \"cyanCarbon\"}})\n",
    "        models[lresid] = j\n",
    "    if presid not in models.keys():\n",
    "        j += 1\n",
    "        v.addModel(Chem.MolToMolBlock(pres), \"sdf\")\n",
    "        model = v.getModel()\n",
    "        model.setStyle({}, {\"stick\": {}})\n",
    "        models[presid] = j\n",
    "    # get coordinates for both points of the interaction\n",
    "    if interaction in [\"PiStacking\", \"EdgeToFace\", \"FaceToFace\", \"PiCation\"]:\n",
    "        p1 = get_ring_centroid(lres, lindex)\n",
    "    else:\n",
    "        p1 = lres.GetConformer().GetAtomPosition(lindex)\n",
    "    if interaction in [\"PiStacking\", \"EdgeToFace\", \"FaceToFace\", \"CationPi\"]:\n",
    "        p2 = get_ring_centroid(pres, pindex)\n",
    "    else:\n",
    "        p2 = pres.GetConformer().GetAtomPosition(pindex)   \n",
    "    # add interaction line\n",
    "    v.addCylinder({\"start\": dict(x=p1.x, y=p1.y, z=p1.z),\n",
    "                   \"end\":   dict(x=p2.x, y=p2.y, z=p2.z),\n",
    "                   \"color\": colors[interaction],\n",
    "                   \"radius\": .15,\n",
    "                   \"dashed\": True,\n",
    "                   \"fromCap\": 1,\n",
    "                   \"toCap\": 1,\n",
    "                  })\n",
    "    # add label on hover\n",
    "    for resid, index in zip([lresid, presid], [lindex, pindex]):\n",
    "        mid = models[resid]\n",
    "        model = v.getModel(mid)\n",
    "        model.setHoverable({\"serial\": index}, True,\n",
    "                            hover_func.format(interaction=interaction),\n",
    "                            unhover_func)\n",
    "\n",
    "v.zoomTo()\n",
    "v.show()"
   ]
  },
  {
   "cell_type": "markdown",
   "metadata": {},
   "source": [
    "## RDKit\n",
    "\n",
    "This script is given as a starting point for visualising the interactions with RDKit. It's definitely not ideal for 3D visualisation as the drawing ends up being crowded and quite unreadable very quickly. I'm sure there's a better way to do this but it will do as a code snippet."
   ]
  },
  {
   "cell_type": "code",
   "execution_count": null,
   "metadata": {},
   "outputs": [],
   "source": [
    "from rdkit.Chem import Draw\n",
    "from IPython import display\n",
    "\n",
    "colors = {\n",
    "    \"HBAcceptor\": (0, 1, 1),\n",
    "    \"HBDonor\": (1, .7,.3),\n",
    "    \"Cationic\": (0, 1, 0),\n",
    "    \"PiStacking\": (.5, 0, .5),\n",
    "}\n",
    "\n",
    "d = Draw.MolDraw2DSVG(650, 600)\n",
    "opts = Draw.MolDrawOptions()\n",
    "opts.fixedBondLength = 25\n",
    "d.SetDrawOptions(opts)\n",
    "\n",
    "displayed = []\n",
    "for i, row in df.T.iterrows():\n",
    "    lresid, presid, interaction = i\n",
    "    lindex, pindex = row[0]\n",
    "    lres = lmol[lresid]\n",
    "    pres = pmol[presid]\n",
    "    if lresid not in displayed:\n",
    "        displayed.append(lresid)\n",
    "        d.DrawMolecule(lres)\n",
    "    if presid not in displayed:\n",
    "        displayed.append(presid)\n",
    "        d.DrawMolecule(pres)\n",
    "    if interaction in [\"PiStacking\", \"EdgeToFace\", \"FaceToFace\", \"PiCation\"]:\n",
    "        p1 = get_ring_centroid(lres, lindex)\n",
    "    else:\n",
    "        p1 = lres.GetConformer().GetAtomPosition(lindex)\n",
    "    if interaction in [\"PiStacking\", \"EdgeToFace\", \"FaceToFace\", \"CationPi\"]:\n",
    "        p2 = get_ring_centroid(pres, pindex)\n",
    "    else:\n",
    "        p2 = pres.GetConformer().GetAtomPosition(pindex)\n",
    "    p1 = Geometry.Point2D(p1)\n",
    "    p2 = Geometry.Point2D(p2)\n",
    "    d.DrawWavyLine(p1, p2, colors[interaction], colors[interaction])\n",
    "    \n",
    "# display\n",
    "d.FinishDrawing()\n",
    "display.SVG(d.GetDrawingText())"
   ]
  }
 ],
 "metadata": {
  "kernelspec": {
   "display_name": "Python 3.8.5 64-bit ('prolif': conda)",
   "language": "python",
   "name": "python38564bitprolifconda6f88be71e4394ccb9ad64335b88224ec"
  },
  "language_info": {
   "codemirror_mode": {
    "name": "ipython",
    "version": 3
   },
   "file_extension": ".py",
   "mimetype": "text/x-python",
   "name": "python",
   "nbconvert_exporter": "python",
   "pygments_lexer": "ipython3",
   "version": "3.8.5"
  }
 },
 "nbformat": 4,
 "nbformat_minor": 2
}
