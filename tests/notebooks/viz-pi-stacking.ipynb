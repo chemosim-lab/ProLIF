{
 "cells": [
  {
   "cell_type": "code",
   "execution_count": null,
   "metadata": {},
   "outputs": [],
   "source": [
    "import numpy as np\n",
    "import nglview as nv\n",
    "import MDAnalysis as mda\n",
    "from MDAnalysis.transformations import translate, rotateby, center_in_box\n",
    "import prolif as plf\n",
    "from rdkit.Geometry import Point3D\n",
    "from ipywidgets import interactive, HBox, Layout,VBox\n",
    "from pprint import pprint"
   ]
  },
  {
   "cell_type": "code",
   "execution_count": null,
   "metadata": {},
   "outputs": [],
   "source": [
    "u1 = mda.Universe(plf.datafiles.datapath / \"benzene.mol2\")\n",
    "elements = mda.topology.guessers.guess_types(u1.atoms.names)\n",
    "u1.add_TopologyAttr(\"elements\", elements)\n",
    "u1.segments.segids = np.array([\"U1\"], dtype=object)\n",
    "u1.transfer_to_memory()\n",
    "\n",
    "def create(xyz=[0, 0, 0], rotation=[0,0,0]):\n",
    "    u2 = u1.copy()\n",
    "    u2.segments.segids = np.array([\"U2\"], dtype=object)\n",
    "    tr = translate(xyz)\n",
    "    rotx = rotateby(rotation[0], [1,0,0], ag=u2.atoms)\n",
    "    roty = rotateby(rotation[1], [0,1,0], ag=u2.atoms)\n",
    "    rotz = rotateby(rotation[2], [0,0,1], ag=u2.atoms)\n",
    "    u2.trajectory.add_transformations(tr, rotx, roty, rotz)\n",
    "    u2.transfer_to_memory()\n",
    "    u = mda.Merge(u1.atoms, u2.atoms)\n",
    "    return u"
   ]
  },
  {
   "cell_type": "code",
   "execution_count": null,
   "metadata": {},
   "outputs": [],
   "source": [
    "fp = plf.Fingerprint()\n",
    "rad90 = np.pi/2\n",
    "\n",
    "def cap_angle(angle, cap=rad90):\n",
    "    if angle >= np.pi:\n",
    "        angle %= cap\n",
    "    elif angle > cap:\n",
    "        angle = (cap - (angle % cap))\n",
    "    return angle\n",
    "\n",
    "def measure(u):\n",
    "    ag1 = u.select_atoms(\"segid U1\")\n",
    "    ring1 = ag1.select_atoms(\"type C.2\").positions.astype(float)\n",
    "    c1 = plf.utils.get_centroid(ring1)\n",
    "    c1 = Point3D(*c1)\n",
    "    n1 = plf.utils.get_ring_normal_vector(c1, ring1)\n",
    "    \n",
    "    ag2 = u.select_atoms(\"segid U2\")\n",
    "    ring2 = ag2.select_atoms(\"type C.2\").positions.astype(float)\n",
    "    c2 = plf.utils.get_centroid(ring2)\n",
    "    c2 = Point3D(*c2)\n",
    "    n2 = plf.utils.get_ring_normal_vector(c2, ring2)\n",
    "    \n",
    "    planes_angle = n1.AngleTo(n2)\n",
    "    c1c2 = c1.DirectionVector(c2)\n",
    "    c2c1 = c2.DirectionVector(c1)\n",
    "    n1c1c2 = n1.AngleTo(c1c2)\n",
    "    n2c2c1 = n2.AngleTo(c2c1)\n",
    "    above = (plf.utils.angle_between_limits(n1c1c2, 0, np.radians(40), ring=True)\n",
    "             or\n",
    "             plf.utils.angle_between_limits(n2c2c1, 0, np.radians(40), ring=True))\n",
    "    \n",
    "    m1 = plf.Molecule.from_mda(ag1)\n",
    "    m2 = plf.Molecule.from_mda(ag2)\n",
    "        \n",
    "    print(f'''\n",
    "centroid distance: {c1.Distance(c2):.3f}\n",
    "planes: {np.degrees(cap_angle(planes_angle)):.3f}°   above: {above}\n",
    "n1c1c2: {np.degrees(cap_angle(n1c1c2)):.3f}°   n2c2c1: {np.degrees(cap_angle(n2c2c1)):.3f}°\n",
    "FTF: {fp.facetoface(m1, m2)}   ETF: {fp.edgetoface(m1, m2)}''')\n",
    "    return c1, n1, c2, n2"
   ]
  },
  {
   "cell_type": "code",
   "execution_count": null,
   "metadata": {
    "scrolled": false
   },
   "outputs": [],
   "source": [
    "u = create(xyz=[0, 1.5, 4.5], rotation=[30, 0, 0])\n",
    "v = nv.show_mdanalysis(u.atoms)\n",
    "v.center(\"*\")\n",
    "v._set_size(\"100%\", \"400px\")\n",
    "v.camera = 'orthographic'\n",
    "shapes = {}\n",
    "\n",
    "def view(dx=0, dy=1.5, dz=4.5, ax=30, ay=0, az=0):\n",
    "    new = create(xyz=[dx, dy, dz], rotation=[ax, ay, az])\n",
    "    u.atoms.positions = new.atoms.positions\n",
    "    v.set_coordinates({0: new.atoms.positions})\n",
    "    c1, n1, c2, n2 = measure(u)\n",
    "    try:\n",
    "        for comp in shapes.values():\n",
    "            comp.clear()\n",
    "    except:\n",
    "        pass\n",
    "    shapes[\"c1c2\"] = v.shape.add_cylinder(list(c1), list(c2), [1,0,0], .1)\n",
    "    shapes[\"n1\"] = v.shape.add_cylinder(list(c1), list(c1 + n1 + n1), [0,1,0], .1)\n",
    "    shapes[\"n2\"] = v.shape.add_cylinder(list(c2), list(c2 + n2 + n2), [0,0,1], .1)\n",
    "        \n",
    "widget=interactive(view, \n",
    "                   dx=(-7, 7, .5), dy=(-7, 7, .5), dz=(-7, 7, .5),\n",
    "                   ax=(0, 180, 5), ay=(0, 180, 5), az=(0, 180, 5))\n",
    "controls = HBox(widget.children[:-1], layout=Layout(flex_flow='row wrap'))\n",
    "output = widget.children[-1]\n",
    "display(VBox([controls, output, v]))"
   ]
  }
 ],
 "metadata": {
  "kernelspec": {
   "display_name": "Python 3.8.13 ('prolif')",
   "language": "python",
   "name": "python3"
  },
  "language_info": {
   "codemirror_mode": {
    "name": "ipython",
    "version": 3
   },
   "file_extension": ".py",
   "mimetype": "text/x-python",
   "name": "python",
   "nbconvert_exporter": "python",
   "pygments_lexer": "ipython3",
   "version": "3.8.13"
  },
  "vscode": {
   "interpreter": {
    "hash": "8787e9fc73b27535744a25d17e74686c0add9df598b8e27ca04412fce7f0c7ae"
   }
  }
 },
 "nbformat": 4,
 "nbformat_minor": 4
}
